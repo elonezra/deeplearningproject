{
  "cells": [
    {
      "cell_type": "markdown",
      "metadata": {
        "colab_type": "text",
        "id": "view-in-github"
      },
      "source": [
        "<a href=\"https://colab.research.google.com/github/elonezra/deeplearningproject/blob/main/final_project_deep_learning_course.ipynb\" target=\"_parent\"><img src=\"https://colab.research.google.com/assets/colab-badge.svg\" alt=\"Open In Colab\"/></a>"
      ]
    },
    {
      "cell_type": "markdown",
      "metadata": {
        "id": "5eJcX1S6FRTW"
      },
      "source": [
        "Authors: Avi and Elon 🤗"
      ]
    },
    {
      "cell_type": "markdown",
      "metadata": {},
      "source": [
        "## Pre-Processing the data"
      ]
    },
    {
      "cell_type": "code",
      "execution_count": 122,
      "metadata": {
        "id": "QtYM8vgrUWIU"
      },
      "outputs": [],
      "source": [
        "# Importng necassary libraries\n",
        "import pandas as pd\n",
        "import numpy as np\n",
        "import tensorflow.compat.v1 as tf\n",
        "tf.compat.v1.disable_eager_execution()\n",
        "import seaborn as sns\n",
        "import matplotlib.pyplot as plt\n",
        "%matplotlib inline\n",
        "import warnings\n",
        "from sklearn.model_selection import train_test_split\n",
        "from sklearn.metrics import mean_squared_error\n",
        "from sklearn.metrics import r2_score\n",
        "from statsmodels.stats.outliers_influence import variance_inflation_factor\n",
        "from sklearn.dummy import DummyRegressor"
      ]
    },
    {
      "cell_type": "code",
      "execution_count": 123,
      "metadata": {
        "colab": {
          "base_uri": "https://localhost:8080/",
          "height": 206
        },
        "id": "Z_PlX0mMub6X",
        "outputId": "d9cd8dba-c010-45fe-8818-fc704099aec2"
      },
      "outputs": [
        {
          "data": {
            "text/html": [
              "<div>\n",
              "<style scoped>\n",
              "    .dataframe tbody tr th:only-of-type {\n",
              "        vertical-align: middle;\n",
              "    }\n",
              "\n",
              "    .dataframe tbody tr th {\n",
              "        vertical-align: top;\n",
              "    }\n",
              "\n",
              "    .dataframe thead th {\n",
              "        text-align: right;\n",
              "    }\n",
              "</style>\n",
              "<table border=\"1\" class=\"dataframe\">\n",
              "  <thead>\n",
              "    <tr style=\"text-align: right;\">\n",
              "      <th></th>\n",
              "      <th>Date</th>\n",
              "      <th>Open</th>\n",
              "      <th>High</th>\n",
              "      <th>Low</th>\n",
              "      <th>Close</th>\n",
              "      <th>Adj Close</th>\n",
              "      <th>Volume</th>\n",
              "    </tr>\n",
              "  </thead>\n",
              "  <tbody>\n",
              "    <tr>\n",
              "      <th>0</th>\n",
              "      <td>2014-09-17</td>\n",
              "      <td>465.864014</td>\n",
              "      <td>468.174011</td>\n",
              "      <td>452.421997</td>\n",
              "      <td>457.334015</td>\n",
              "      <td>457.334015</td>\n",
              "      <td>21056800</td>\n",
              "    </tr>\n",
              "    <tr>\n",
              "      <th>1</th>\n",
              "      <td>2014-09-18</td>\n",
              "      <td>456.859985</td>\n",
              "      <td>456.859985</td>\n",
              "      <td>413.104004</td>\n",
              "      <td>424.440002</td>\n",
              "      <td>424.440002</td>\n",
              "      <td>34483200</td>\n",
              "    </tr>\n",
              "    <tr>\n",
              "      <th>2</th>\n",
              "      <td>2014-09-19</td>\n",
              "      <td>424.102997</td>\n",
              "      <td>427.834991</td>\n",
              "      <td>384.532013</td>\n",
              "      <td>394.795990</td>\n",
              "      <td>394.795990</td>\n",
              "      <td>37919700</td>\n",
              "    </tr>\n",
              "    <tr>\n",
              "      <th>3</th>\n",
              "      <td>2014-09-20</td>\n",
              "      <td>394.673004</td>\n",
              "      <td>423.295990</td>\n",
              "      <td>389.882996</td>\n",
              "      <td>408.903992</td>\n",
              "      <td>408.903992</td>\n",
              "      <td>36863600</td>\n",
              "    </tr>\n",
              "    <tr>\n",
              "      <th>4</th>\n",
              "      <td>2014-09-21</td>\n",
              "      <td>408.084991</td>\n",
              "      <td>412.425995</td>\n",
              "      <td>393.181000</td>\n",
              "      <td>398.821014</td>\n",
              "      <td>398.821014</td>\n",
              "      <td>26580100</td>\n",
              "    </tr>\n",
              "  </tbody>\n",
              "</table>\n",
              "</div>"
            ],
            "text/plain": [
              "         Date        Open        High         Low       Close   Adj Close  \\\n",
              "0  2014-09-17  465.864014  468.174011  452.421997  457.334015  457.334015   \n",
              "1  2014-09-18  456.859985  456.859985  413.104004  424.440002  424.440002   \n",
              "2  2014-09-19  424.102997  427.834991  384.532013  394.795990  394.795990   \n",
              "3  2014-09-20  394.673004  423.295990  389.882996  408.903992  408.903992   \n",
              "4  2014-09-21  408.084991  412.425995  393.181000  398.821014  398.821014   \n",
              "\n",
              "     Volume  \n",
              "0  21056800  \n",
              "1  34483200  \n",
              "2  37919700  \n",
              "3  36863600  \n",
              "4  26580100  "
            ]
          },
          "execution_count": 123,
          "metadata": {},
          "output_type": "execute_result"
        }
      ],
      "source": [
        "df = pd.read_csv('BTC-USD.csv')\n",
        "df.head()"
      ]
    },
    {
      "cell_type": "code",
      "execution_count": 124,
      "metadata": {
        "colab": {
          "base_uri": "https://localhost:8080/",
          "height": 241
        },
        "id": "taAq-m-ywZcY",
        "outputId": "5996f67d-2779-464e-8bb2-3c33c8def880"
      },
      "outputs": [
        {
          "name": "stdout",
          "output_type": "stream",
          "text": [
            "2713 2713\n",
            "2713\n"
          ]
        },
        {
          "data": {
            "text/html": [
              "<div>\n",
              "<style scoped>\n",
              "    .dataframe tbody tr th:only-of-type {\n",
              "        vertical-align: middle;\n",
              "    }\n",
              "\n",
              "    .dataframe tbody tr th {\n",
              "        vertical-align: top;\n",
              "    }\n",
              "\n",
              "    .dataframe thead th {\n",
              "        text-align: right;\n",
              "    }\n",
              "</style>\n",
              "<table border=\"1\" class=\"dataframe\">\n",
              "  <thead>\n",
              "    <tr style=\"text-align: right;\">\n",
              "      <th></th>\n",
              "      <th>Date</th>\n",
              "      <th>Open</th>\n",
              "      <th>High</th>\n",
              "      <th>Low</th>\n",
              "      <th>Close</th>\n",
              "      <th>Volume</th>\n",
              "    </tr>\n",
              "  </thead>\n",
              "  <tbody>\n",
              "    <tr>\n",
              "      <th>0</th>\n",
              "      <td>2014-09-17</td>\n",
              "      <td>465.864014</td>\n",
              "      <td>468.174011</td>\n",
              "      <td>452.421997</td>\n",
              "      <td>457.334015</td>\n",
              "      <td>21056800</td>\n",
              "    </tr>\n",
              "    <tr>\n",
              "      <th>1</th>\n",
              "      <td>2014-09-18</td>\n",
              "      <td>456.859985</td>\n",
              "      <td>456.859985</td>\n",
              "      <td>413.104004</td>\n",
              "      <td>424.440002</td>\n",
              "      <td>34483200</td>\n",
              "    </tr>\n",
              "    <tr>\n",
              "      <th>2</th>\n",
              "      <td>2014-09-19</td>\n",
              "      <td>424.102997</td>\n",
              "      <td>427.834991</td>\n",
              "      <td>384.532013</td>\n",
              "      <td>394.795990</td>\n",
              "      <td>37919700</td>\n",
              "    </tr>\n",
              "    <tr>\n",
              "      <th>3</th>\n",
              "      <td>2014-09-20</td>\n",
              "      <td>394.673004</td>\n",
              "      <td>423.295990</td>\n",
              "      <td>389.882996</td>\n",
              "      <td>408.903992</td>\n",
              "      <td>36863600</td>\n",
              "    </tr>\n",
              "    <tr>\n",
              "      <th>4</th>\n",
              "      <td>2014-09-21</td>\n",
              "      <td>408.084991</td>\n",
              "      <td>412.425995</td>\n",
              "      <td>393.181000</td>\n",
              "      <td>398.821014</td>\n",
              "      <td>26580100</td>\n",
              "    </tr>\n",
              "  </tbody>\n",
              "</table>\n",
              "</div>"
            ],
            "text/plain": [
              "         Date        Open        High         Low       Close    Volume\n",
              "0  2014-09-17  465.864014  468.174011  452.421997  457.334015  21056800\n",
              "1  2014-09-18  456.859985  456.859985  413.104004  424.440002  34483200\n",
              "2  2014-09-19  424.102997  427.834991  384.532013  394.795990  37919700\n",
              "3  2014-09-20  394.673004  423.295990  389.882996  408.903992  36863600\n",
              "4  2014-09-21  408.084991  412.425995  393.181000  398.821014  26580100"
            ]
          },
          "execution_count": 124,
          "metadata": {},
          "output_type": "execute_result"
        }
      ],
      "source": [
        "# We don't need the \"Adj Close\" column because this column is the same as the \"Close\" column,\n",
        "# we are going to check it before earasing to make sure our assumption is true.\n",
        "print(df['Adj Close'].count(), df['Close'].count()) # In this line we can see that the number of lines in both of the columns is equal\n",
        "print(len(df[\"Close\"] == df[\"Adj Close\"])) # and in this line we compared between those columns and get as result that all lines are equal\n",
        "# thus, we can remove \"Asj Close\" column\n",
        "df = df.drop(['Adj Close'], axis = 1)\n",
        "df.head()"
      ]
    },
    {
      "cell_type": "code",
      "execution_count": 125,
      "metadata": {},
      "outputs": [],
      "source": [
        "# now we want to change the 'Close' column to be 'Open_Close_Gap' column because,\n",
        "# it's more common to predict the mean between the Open price and the Close price\n",
        "df['Close'].rename('Open_Close_Gap')\n",
        "df['Open_Close_Gap'] = (df['Open'] - df['Close'])\n",
        "df = df.drop(['Close'], axis=1)"
      ]
    },
    {
      "cell_type": "code",
      "execution_count": 126,
      "metadata": {
        "colab": {
          "base_uri": "https://localhost:8080/"
        },
        "id": "X_nzRG4_w9ow",
        "outputId": "380384ab-b2d1-4277-e47e-938036c2120e"
      },
      "outputs": [
        {
          "name": "stdout",
          "output_type": "stream",
          "text": [
            "<class 'pandas.core.frame.DataFrame'>\n",
            "RangeIndex: 2713 entries, 0 to 2712\n",
            "Data columns (total 6 columns):\n",
            " #   Column          Non-Null Count  Dtype  \n",
            "---  ------          --------------  -----  \n",
            " 0   Date            2713 non-null   object \n",
            " 1   Open            2713 non-null   float64\n",
            " 2   High            2713 non-null   float64\n",
            " 3   Low             2713 non-null   float64\n",
            " 4   Volume          2713 non-null   int64  \n",
            " 5   Open_Close_Gap  2713 non-null   float64\n",
            "dtypes: float64(4), int64(1), object(1)\n",
            "memory usage: 127.3+ KB\n"
          ]
        }
      ],
      "source": [
        "# In the code below we will see that our dataframe uses an object column which is not good\n",
        "# because we need a numeric dataframe so, we convert this column to int64 type\n",
        "# by removing the '-' char\n",
        "df.info()"
      ]
    },
    {
      "cell_type": "code",
      "execution_count": 127,
      "metadata": {
        "colab": {
          "base_uri": "https://localhost:8080/"
        },
        "id": "3VTJfZLvEk4M",
        "outputId": "0de7ab1b-d8df-4dc4-9710-9231896f9e03"
      },
      "outputs": [
        {
          "name": "stderr",
          "output_type": "stream",
          "text": [
            "C:\\Users\\elone\\AppData\\Local\\Temp\\ipykernel_8524\\84532947.py:1: FutureWarning: Series.__getitem__ treating keys as positions is deprecated. In a future version, integer keys will always be treated as labels (consistent with DataFrame behavior). To access a value by position, use `ser.iloc[pos]`\n",
            "  int(df.iloc[1][0].replace('-', ''))\n"
          ]
        },
        {
          "data": {
            "text/plain": [
              "20140918"
            ]
          },
          "execution_count": 127,
          "metadata": {},
          "output_type": "execute_result"
        }
      ],
      "source": [
        "int(df.iloc[1][0].replace('-', ''))"
      ]
    },
    {
      "cell_type": "code",
      "execution_count": 128,
      "metadata": {
        "id": "wujuLZPoHIhx"
      },
      "outputs": [],
      "source": [
        "df[\"Date\"] = df[\"Date\"].apply(lambda x: x.replace('-','')).apply(pd.to_numeric)"
      ]
    },
    {
      "cell_type": "code",
      "execution_count": 129,
      "metadata": {
        "colab": {
          "base_uri": "https://localhost:8080/",
          "height": 431
        },
        "id": "h1BUpUrpH_Oc",
        "outputId": "b33e332f-07fc-469c-cbb4-0e8bbb648437"
      },
      "outputs": [
        {
          "name": "stdout",
          "output_type": "stream",
          "text": [
            "<class 'pandas.core.frame.DataFrame'>\n",
            "RangeIndex: 2713 entries, 0 to 2712\n",
            "Data columns (total 6 columns):\n",
            " #   Column          Non-Null Count  Dtype  \n",
            "---  ------          --------------  -----  \n",
            " 0   Date            2713 non-null   int64  \n",
            " 1   Open            2713 non-null   float64\n",
            " 2   High            2713 non-null   float64\n",
            " 3   Low             2713 non-null   float64\n",
            " 4   Volume          2713 non-null   int64  \n",
            " 5   Open_Close_Gap  2713 non-null   float64\n",
            "dtypes: float64(4), int64(2)\n",
            "memory usage: 127.3 KB\n"
          ]
        },
        {
          "data": {
            "text/html": [
              "<div>\n",
              "<style scoped>\n",
              "    .dataframe tbody tr th:only-of-type {\n",
              "        vertical-align: middle;\n",
              "    }\n",
              "\n",
              "    .dataframe tbody tr th {\n",
              "        vertical-align: top;\n",
              "    }\n",
              "\n",
              "    .dataframe thead th {\n",
              "        text-align: right;\n",
              "    }\n",
              "</style>\n",
              "<table border=\"1\" class=\"dataframe\">\n",
              "  <thead>\n",
              "    <tr style=\"text-align: right;\">\n",
              "      <th></th>\n",
              "      <th>Date</th>\n",
              "      <th>Open</th>\n",
              "      <th>High</th>\n",
              "      <th>Low</th>\n",
              "      <th>Volume</th>\n",
              "      <th>Open_Close_Gap</th>\n",
              "    </tr>\n",
              "  </thead>\n",
              "  <tbody>\n",
              "    <tr>\n",
              "      <th>0</th>\n",
              "      <td>20140917</td>\n",
              "      <td>465.864014</td>\n",
              "      <td>468.174011</td>\n",
              "      <td>452.421997</td>\n",
              "      <td>21056800</td>\n",
              "      <td>8.529999</td>\n",
              "    </tr>\n",
              "    <tr>\n",
              "      <th>1</th>\n",
              "      <td>20140918</td>\n",
              "      <td>456.859985</td>\n",
              "      <td>456.859985</td>\n",
              "      <td>413.104004</td>\n",
              "      <td>34483200</td>\n",
              "      <td>32.419983</td>\n",
              "    </tr>\n",
              "    <tr>\n",
              "      <th>2</th>\n",
              "      <td>20140919</td>\n",
              "      <td>424.102997</td>\n",
              "      <td>427.834991</td>\n",
              "      <td>384.532013</td>\n",
              "      <td>37919700</td>\n",
              "      <td>29.307007</td>\n",
              "    </tr>\n",
              "    <tr>\n",
              "      <th>3</th>\n",
              "      <td>20140920</td>\n",
              "      <td>394.673004</td>\n",
              "      <td>423.295990</td>\n",
              "      <td>389.882996</td>\n",
              "      <td>36863600</td>\n",
              "      <td>-14.230988</td>\n",
              "    </tr>\n",
              "    <tr>\n",
              "      <th>4</th>\n",
              "      <td>20140921</td>\n",
              "      <td>408.084991</td>\n",
              "      <td>412.425995</td>\n",
              "      <td>393.181000</td>\n",
              "      <td>26580100</td>\n",
              "      <td>9.263977</td>\n",
              "    </tr>\n",
              "  </tbody>\n",
              "</table>\n",
              "</div>"
            ],
            "text/plain": [
              "       Date        Open        High         Low    Volume  Open_Close_Gap\n",
              "0  20140917  465.864014  468.174011  452.421997  21056800        8.529999\n",
              "1  20140918  456.859985  456.859985  413.104004  34483200       32.419983\n",
              "2  20140919  424.102997  427.834991  384.532013  37919700       29.307007\n",
              "3  20140920  394.673004  423.295990  389.882996  36863600      -14.230988\n",
              "4  20140921  408.084991  412.425995  393.181000  26580100        9.263977"
            ]
          },
          "execution_count": 129,
          "metadata": {},
          "output_type": "execute_result"
        }
      ],
      "source": [
        "# Now, after we convert the \"Date\" column to numeric type, we can see the new data as request\n",
        "df.info()\n",
        "df.head()"
      ]
    },
    {
      "cell_type": "code",
      "execution_count": 130,
      "metadata": {},
      "outputs": [
        {
          "data": {
            "image/png": "[encoded data removed]",
            "text/plain": [
              "<Figure size 1200x600 with 1 Axes>"
            ]
          },
          "metadata": {},
          "output_type": "display_data"
        }
      ],
      "source": [
        "# Set 'Date' as the index\n",
        "df.set_index('Date', inplace=True)\n",
        "\n",
        "# Plot the data\n",
        "df[['Open', 'High', 'Low', 'Open_Close_Gap']].plot(kind='line', figsize=(12,6))\n",
        "plt.title('Stock price over time')\n",
        "plt.ylabel('Price')\n",
        "plt.show()\n",
        "\n",
        "\n"
      ]
    },
    {
      "cell_type": "code",
      "execution_count": 131,
      "metadata": {},
      "outputs": [
        {
          "data": {
            "image/png": "[encoded data removed]",
            "text/plain": [
              "<Figure size 640x480 with 2 Axes>"
            ]
          },
          "metadata": {},
          "output_type": "display_data"
        }
      ],
      "source": [
        "# Calculate the correlation matrix\n",
        "df = df.reset_index()\n",
        "corr = df[['Date', 'Open', 'High', 'Low', 'Volume', 'Open_Close_Gap']].corr()\n",
        "\n",
        "# Plot the heatmap\n",
        "sns.heatmap(corr, annot=True, cmap='coolwarm')\n",
        "plt.title('Correlation Heatmap')\n",
        "plt.show()\n"
      ]
    },
    {
      "cell_type": "markdown",
      "metadata": {},
      "source": [
        "High correlation coefficients (close to +1 or -1) between two or more variables indicate high multicollinearity which means that our data has high multicollinearity which is not good because it means that two or more explanatory variables in a multiple regression model are highly linearly related.\n",
        "\n",
        "We check the multicollinearity with another technique called Variance Inflation Factor (VIF) which is indicate how much the variance is inflated due to multicollinearity."
      ]
    },
    {
      "cell_type": "code",
      "execution_count": 132,
      "metadata": {},
      "outputs": [
        {
          "name": "stdout",
          "output_type": "stream",
          "text": [
            "  features          VIF\n",
            "0     Date     1.626099\n",
            "1     Open  1271.779503\n",
            "2     High  1302.971806\n",
            "3      Low   690.369679\n",
            "4   Volume     3.795683\n"
          ]
        }
      ],
      "source": [
        "X = df.drop(['Open_Close_Gap'], axis=1)\n",
        "\n",
        "# Assuming X is your feature matrix\n",
        "vif = pd.DataFrame()\n",
        "vif[\"features\"] = X.columns\n",
        "vif[\"VIF\"] = [variance_inflation_factor(X.values, i) for i in range(X.shape[1])]\n",
        "print(vif)\n"
      ]
    },
    {
      "cell_type": "markdown",
      "metadata": {},
      "source": [
        "open: The VIF of 1899.216794 suggests a high degree of multicollinearity with the other variables.\n",
        "high: Similarly, a VIF of 1933.193722 also indicates high multicollinearity.\n",
        "low: A VIF of 1017.898356 is also high, suggesting this variable is highly correlated with others.\n",
        "volume: A VIF of 3.492894 is relatively low compared to the others, suggesting less multicollinearity.\n",
        "\n",
        "Generally, a VIF above 5 or 10 indicates high multicollinearity that might be problematic for our model. With this case, the “open”, “high”, and “low” features have high VIF values, suggesting they are highly correlated with each other.\n",
        "\n",
        "We should use techinques to handle the high multicollinearity, one way we learned in the class is the \"Regularization\" technique, we will use it to make our data less multicollinearity."
      ]
    },
    {
      "cell_type": "markdown",
      "metadata": {},
      "source": [
        "# Regularization"
      ]
    },
    {
      "cell_type": "markdown",
      "metadata": {
        "id": "H5AP4t-qA-aZ"
      },
      "source": [
        "$\\sigma = \\sqrt(\\mu_2) = \\sqrt(1/n \\sum(x_i - x')^2)$\n",
        "\n",
        "$𝜇^{𝑙,𝑗}= \\frac{1}{m} ∑_{𝑖=0}^{𝑚}{𝑧_𝑖^{𝑙,𝑗}}$ \n",
        "\n",
        "$𝜎^{𝑙,𝑗}=\\sqrt{∑_{𝑖=0}^𝑚(𝑧_𝑖^{𝑙,𝑗}−𝜇^(𝑙,𝑗) )^2 }$\n",
        "\n",
        "$\\overline{𝑧_𝑖^{𝑙,𝑗}} ̂= \\frac{𝑧_𝑖^{𝑙,𝑗}−𝜇^{𝑙,𝑗}}{𝜎^{𝑙,𝑗}+𝜖} $\n"
      ]
    },
    {
      "cell_type": "code",
      "execution_count": 133,
      "metadata": {
        "colab": {
          "base_uri": "https://localhost:8080/"
        },
        "id": "whb9B9lmq0Fi",
        "outputId": "d4a40c9e-1888-48d0-d78c-b15e075e6718"
      },
      "outputs": [
        {
          "name": "stdout",
          "output_type": "stream",
          "text": [
            "Training set size: 2170\n",
            "Testing set size: 543\n"
          ]
        }
      ],
      "source": [
        "X = df.drop(['Open_Close_Gap'], axis=1)\n",
        "y = df['Open_Close_Gap']\n",
        "\n",
        "X_train, X_test, y_train, y_test = train_test_split(X, y, test_size=0.2, random_state=42)\n",
        "\n",
        "print(\"Training set size:\", len(X_train))\n",
        "print(\"Testing set size:\", len(X_test))\n"
      ]
    },
    {
      "cell_type": "markdown",
      "metadata": {},
      "source": [
        "# Normalization"
      ]
    },
    {
      "cell_type": "code",
      "execution_count": 134,
      "metadata": {},
      "outputs": [],
      "source": [
        "def normalize_data(X_train, y_train, X_test, y_test):\n",
        "    \"\"\"\n",
        "    This function normalizes the training and test data using the mean and variance of the training data.\n",
        "    \n",
        "    Parameters:\n",
        "    X_train (DataFrame): The training data\n",
        "    y_train (Series): The target values for the training data\n",
        "    X_test (DataFrame): The test data\n",
        "    y_test (Series): The target values for the test data\n",
        "    \n",
        "    Returns:\n",
        "    DataFrame, Series, DataFrame, Series: The normalized training data, training target values, test data, and test target values\n",
        "    \"\"\"\n",
        "    # Convert the dataframes to numpy arrays\n",
        "    train_np = X_train.values\n",
        "    test_np = X_test.values\n",
        "\n",
        "    # Convert the series to numpy arrays\n",
        "    y_train_np = y_train.values.reshape(-1, 1)\n",
        "    y_test_np = y_test.values.reshape(-1, 1)\n",
        "\n",
        "    # Create TensorFlow placeholders\n",
        "    train_placeholder = tf.placeholder(tf.float32, shape=train_np.shape)\n",
        "    test_placeholder = tf.placeholder(tf.float32, shape=test_np.shape)\n",
        "    y_train_placeholder = tf.placeholder(tf.float32, shape=y_train_np.shape)\n",
        "    y_test_placeholder = tf.placeholder(tf.float32, shape=y_test_np.shape)\n",
        "\n",
        "    # Define the normalization function\n",
        "    def normalize(x, mean, variance):\n",
        "        return (x - mean) / tf.sqrt(variance)\n",
        "\n",
        "    # Normalize the data\n",
        "    with tf.Session() as sess:\n",
        "        sess.run(tf.global_variables_initializer())\n",
        "        \n",
        "        # Compute mean and variance from training data\n",
        "        train_mean, train_variance = sess.run(tf.nn.moments(train_placeholder, axes=[0]), feed_dict={train_placeholder: train_np})\n",
        "        \n",
        "        # Normalize training data\n",
        "        train_normalized = sess.run(normalize(train_placeholder, train_mean, train_variance), feed_dict={train_placeholder: train_np})\n",
        "        \n",
        "        # Normalize test data using mean and variance from training data\n",
        "        test_normalized = sess.run(normalize(test_placeholder, train_mean, train_variance), feed_dict={test_placeholder: test_np})\n",
        "        \n",
        "        # Normalize y_train and y_test similarly\n",
        "        y_train_mean, y_train_variance = sess.run(tf.nn.moments(y_train_placeholder, axes=[0]), feed_dict={y_train_placeholder: y_train_np})\n",
        "        y_train_normalized = sess.run(normalize(y_train_placeholder, y_train_mean, y_train_variance), feed_dict={y_train_placeholder: y_train_np})\n",
        "        y_test_normalized = sess.run(normalize(y_test_placeholder, y_train_mean, y_train_variance), feed_dict={y_test_placeholder: y_test_np})\n",
        "\n",
        "    # Convert the normalized numpy arrays back to pandas dataframes\n",
        "    X_train_normalized = pd.DataFrame(train_normalized, columns=X_train.columns)\n",
        "    X_test_normalized = pd.DataFrame(test_normalized, columns=X_test.columns)\n",
        "\n",
        "    # Convert the normalized numpy arrays back to pandas series\n",
        "    y_train_normalized = pd.Series(y_train_normalized.flatten(), index=y_train.index)\n",
        "    y_test_normalized = pd.Series(y_test_normalized.flatten(), index=y_test.index)\n",
        "\n",
        "    return X_train_normalized, y_train_normalized, X_test_normalized, y_test_normalized\n"
      ]
    },
    {
      "cell_type": "code",
      "execution_count": 135,
      "metadata": {},
      "outputs": [
        {
          "name": "stdout",
          "output_type": "stream",
          "text": [
            "Training set size: 2170\n",
            "Testing set size: 543\n"
          ]
        }
      ],
      "source": [
        "X_train_normalized, y_train_normalized, X_test_normalized, y_test_normalized = normalize_data(X_train, y_train, X_test, y_test)\n",
        "print(\"Training set size:\", len(X_train_normalized))\n",
        "print(\"Testing set size:\", len(X_test_normalized))\n"
      ]
    },
    {
      "cell_type": "markdown",
      "metadata": {},
      "source": [
        "# Model training\n",
        "Models that represented in the code: Linear regression, ANN - neural network model, dummy regressor model - to compare our model to that dummy model"
      ]
    },
    {
      "cell_type": "code",
      "execution_count": 136,
      "metadata": {
        "colab": {
          "base_uri": "https://localhost:8080/"
        },
        "id": "T1R6ijbSvHTe",
        "outputId": "a12c39cd-32db-4563-f372-7bb128fc39b9"
      },
      "outputs": [],
      "source": [
        "def train_linear_regression(X_train, y_train, learning_rate=0.001, threshold=0.0001):\n",
        "    \"\"\"\n",
        "    This function trains a linear regression model using TensorFlow.\n",
        "    \n",
        "    Parameters:\n",
        "    X_train (DataFrame): The training data\n",
        "    y_train (Series): The target values for the training data\n",
        "    learning_rate (float): The learning rate for the optimizer\n",
        "    threshold (float): The threshold for the change in loss\n",
        "    \n",
        "    Returns:\n",
        "    sess (tf.Session): The TensorFlow session\n",
        "    pred (Tensor): The prediction tensor\n",
        "    x (tf.placeholder): The placeholder for the input data\n",
        "    \"\"\"\n",
        "    features = X_train.shape[1]\n",
        "    x = tf.placeholder(tf.float32, [None, features])\n",
        "    y = tf.placeholder(tf.float32, [None, 1])\n",
        "    W = tf.Variable(tf.zeros([features, 1]))\n",
        "    b = tf.Variable(tf.zeros([1]))\n",
        "    prev_loss = None\n",
        "    pred = tf.matmul(x, W) + b\n",
        "    loss = tf.reduce_mean(tf.square(pred - y))\n",
        "    update = tf.train.GradientDescentOptimizer(learning_rate).minimize(loss)\n",
        "    data_x = X_train.values\n",
        "    data_y = y_train.values.reshape(-1, 1)\n",
        "    sess = tf.Session()\n",
        "    sess.run(tf.global_variables_initializer())\n",
        "    i = 0\n",
        "    while True:\n",
        "        i += 1\n",
        "        _, val_loss = sess.run([update, loss], feed_dict={x: data_x, y: data_y})\n",
        "        if prev_loss is not None and abs(prev_loss - val_loss) < threshold:\n",
        "            print(f\"Early stopping at epoch {i}\")\n",
        "            break\n",
        "        prev_loss = val_loss\n",
        "        if i % 10000 == 0:\n",
        "            print('\\nIteration:', i, '\\n W:', sess.run(W), ' b:', sess.run(b), ' loss:', loss.eval(session=sess, feed_dict={x: data_x, y: data_y}))\n",
        "    return sess, pred, x"
      ]
    },
    {
      "cell_type": "code",
      "execution_count": 137,
      "metadata": {
        "colab": {
          "base_uri": "https://localhost:8080/"
        },
        "id": "v7XVE4ZzGuvP",
        "outputId": "76ad1a30-90e3-4c48-ed99-43680562221b"
      },
      "outputs": [],
      "source": [
        "def train_neural_network(X_train, y_train, learning_rate=0.00001, epochs=100000):\n",
        "    \"\"\"\n",
        "    This function trains a neural network with one hidden layer using TensorFlow.\n",
        "    \n",
        "    Parameters:\n",
        "    X_train (DataFrame): The training data\n",
        "    y_train (Series): The target values for the training data\n",
        "    learning_rate (float): The learning rate for the optimizer\n",
        "    epochs (int): The number of epochs to train the model\n",
        "    \n",
        "    Returns:\n",
        "    sess (tf.Session): The TensorFlow session\n",
        "    pred (Tensor): The prediction tensor\n",
        "    x (tf.placeholder): The placeholder for the input data\n",
        "    \"\"\"\n",
        "    features = X_train.shape[1]\n",
        "    x = tf.placeholder(tf.float32, [None, features])\n",
        "    y = tf.placeholder(tf.float32, [None, 1])\n",
        "    W1 = tf.Variable(tf.random_normal([features, 10]))\n",
        "    b1 = tf.Variable(tf.zeros([10]))\n",
        "    W2 = tf.Variable(tf.random_normal([10, 1]))\n",
        "    b2 = tf.Variable(tf.zeros([1]))\n",
        "    hidden_layer = tf.nn.relu(tf.matmul(x, W1) + b1)\n",
        "    pred = tf.matmul(hidden_layer, W2) + b2\n",
        "    loss = tf.reduce_mean(tf.square(pred - y))\n",
        "    optimizer = tf.train.GradientDescentOptimizer(learning_rate).minimize(loss)\n",
        "    data_x = X_train.values\n",
        "    data_y = y_train.values.reshape(-1, 1)\n",
        "    sess = tf.Session()\n",
        "    sess.run(tf.global_variables_initializer())\n",
        "    for epoch in range(0, epochs):\n",
        "        _, c = sess.run([optimizer, loss], feed_dict={x: data_x, y: data_y})\n",
        "        if epoch % 1000 == 0:\n",
        "            print(\"Epoch:\", '%04d' % (epoch), \"cost=\", \"{:.9f}\".format(c))\n",
        "    return sess, pred, x"
      ]
    },
    {
      "cell_type": "markdown",
      "metadata": {},
      "source": [
        "# Replace the Built-in dummy model with our dummy model, predicting 0 for the Open_Close_Gap"
      ]
    },
    {
      "cell_type": "markdown",
      "metadata": {},
      "source": [
        "#### Create dummy model"
      ]
    },
    {
      "cell_type": "code",
      "execution_count": 138,
      "metadata": {},
      "outputs": [],
      "source": [
        "def dummy_regressor(y_train):\n",
        "    \"\"\"\n",
        "    This function creates a dummy regressor that predicts the mean value of the target variable.\n",
        "    \n",
        "    Parameters:\n",
        "    X_train (DataFrame): The training data\n",
        "    y_train (Series): The target values for the training data\n",
        "    \n",
        "    Returns:\n",
        "    y_pred (ndarray): The predicted values\n",
        "    \"\"\"\n",
        "    y_pred = [(np.random.uniform(-1,1)) for i in range(len(y_train))]\n",
        "    return y_pred"
      ]
    },
    {
      "cell_type": "code",
      "execution_count": 139,
      "metadata": {},
      "outputs": [
        {
          "name": "stdout",
          "output_type": "stream",
          "text": [
            "y_dummy_pred: [-0.4162755620672802, -0.7674424951223426, 0.8754467361262122, -0.5665727541342389, 0.016913507704575004, -0.2821814473801829, -0.22387923930423947, 0.6480741355999158, 0.39192212379793934, 0.8841295224214867, 0.899806134195186, 0.7896240541132589, -0.4070928615891203, -0.5892599785398345, 0.03561795447034233, -0.13004399148244095, 0.842498401265668, 0.3495355309536139, 0.9516546680378888, 0.11487647978904936, 0.5355567712943154, -0.43646662839965833, 0.9129482635348887, 0.3759494201120206, -0.24400262163957653, -0.3594137862182296, 0.1343408424285466, -0.8217465697157216, -0.7016319199661312, -0.5323677009963963, -0.9417267552520683, 0.738082549830742, 0.6144863882641032, -0.8424709782577651, 0.2485217606468264, -0.3523879674834425, -0.7612074078818767, 0.27671509852548737, -0.0017312094686194879, 0.3135461177691947, 0.921794171026801, -0.7911001539133291, -0.41037780927158907, -0.762040965856988, -0.050276892372471016, 0.7415919840845226, -0.4302575264891446, -0.786116649148185, -0.7026441184595471, 0.36719398322727637, 0.6631405773951617, 0.32073992466629275, -0.10729237917189427, 0.9133726962289868, 0.5034996390062332, -0.6801835137418184, 0.5543010188037583, -0.4492622405937927, 0.6889276081181566, 0.756578717147735, -0.1588425466786747, -0.15246055810896553, -0.7996190749809939, -0.6509067742589978, 0.23944937113437414, -0.7094794306047041, 0.3465181288607375, -0.8652050907155755, 0.8734080001702551, 0.355974679958758, -0.9054003335243652, -0.565221973365835, 0.43363734370991547, -0.6799560334443746, 0.6877799382344276, -0.4538576530999947, -0.4012368116378444, 0.5409503251654395, 0.28134426593214346, -0.18630011581334727, 0.841738236609181, -0.14967028085496303, 0.0007898435509805513, -0.9206098360855408, -0.8343972788710561, 0.4838582960706519, 0.8800860368092231, -0.5250700457578805, 0.9630558170310106, 0.8017676466002424, 0.012604912583010552, -0.4842085761358079, 0.17377801767665502, -0.572880452122126, -0.53760687122246, -0.010343510126170186, -0.6466060379831808, -0.2413863927077422, -0.5746726216486073, 0.7299501906087689, 0.4801324587051443, 0.1585479249265851, 0.3934886295841502, 0.10906304879262474, -0.6852869139081323, -0.6932188092657188, 0.10090443769605595, -0.7830663173425072, 0.649130942982419, 0.6581249615005822, -0.5660925325140678, -0.4972975632893717, -0.5025369959225228, -0.3899700666895476, -0.057460810930418216, -0.07266041351322627, -0.9213006041719778, -0.40279258670134754, 0.7216935469848018, 0.0644521897048087, -0.6778073363784585, 0.9232608441911985, -0.3312482446978007, 0.5477109326556502, -0.8080126545620656, 0.654105297936147, 0.7721528704362803, -0.40749534102302265, 0.4116797360229114, -0.6959920482745638, -0.22174833813487171, -0.1751164388010915, 0.9997540146328565, -0.348238995194746, -0.5071436918859422, 0.7125001729622824, 0.9006710867524848, -0.4493623526801407, 0.8977811664428013, 0.012529573830318608, 0.7699524358350214, 0.9764646749474633, -0.5014812431287188, -0.0672959731444025, -0.5332461915400251, -0.5923651441797011, 0.39062361128002543, -0.6660211902359419, 0.6318205770705196, -0.19275366007906092, -0.016229285967375606, 0.20131433721504233, -0.4810362721170909, 0.603839524099059, 0.9675443927589442, 0.7241077495236583, -0.17072190377737684, -0.124239889793611, 0.7235595935753436, 0.8010192988185043, 0.2537753802103735, 0.7263767296274477, -0.7538660365981029, -0.8604728668389157, 0.3095776976622602, -0.8089754396129338, -0.021811836444668886, 0.056097302502410074, 0.9389871704096593, -0.8217347483925006, 0.08965774642605084, -0.14024989462114767, -0.4964759877702034, 0.5366380208927339, -0.19697910945442043, 0.49986362317905453, 0.6938359563502474, 0.23262634257552905, 0.31883552552488337, 0.6817734757997371, -0.24834342345866012, -0.17618954821265942, 0.4931818865982869, 0.6059574037839044, -0.260610620636317, -0.7011467813024419, 0.028079730820341098, 0.7377913186301093, -0.5632082527110629, -0.12087375248664456, -0.3128273501252705, 0.1450387157151829, -0.8411699530060028, 0.008172166163158412, 0.47714403618009293, 0.4458284663719707, -0.39294380130088347, -0.25347780153012067, -0.4430968748259201, 0.025220305050110525, -0.38538461306033245, -0.11185382284417655, 0.537927200523924, -0.1995452658194965, 0.4243072443903928, -0.5269716614331128, -0.36000132517866645, -0.18995008775907252, 0.22436947296624377, 0.14588893490523258, -0.07281074191590653, -0.21275562701070516, -0.37545785926004416, -0.2672181909784186, -0.05989588014842706, -0.7945604573871317, -0.5854476898460343, -0.24252837833861474, 0.6384842245692861, -0.5311441642827568, 0.43296771616938234, -0.5311894334500038, 0.5582415787257822, 0.08942413481446132, 0.4932054754909363, 0.8639749953995024, -0.8494336954284103, -0.8544570378532723, 0.24389325633243852, -0.2912528300709276, 0.4228682964087731, -0.8151781937490943, 0.8016582635623164, 0.7150084503873984, -0.8763705971016373, 0.8832880987760539, 0.3045079583407653, 0.5187867389101597, -0.025185369858145013, -0.7347941769144293, -0.7829807973576803, -0.026618100755885665, -0.6589418472114197, -0.059611917230248945, -0.15458414748336047, -0.08689505192529445, -0.6067807593367531, 0.8218199796876899, -0.4615204150048693, 0.47679898033073, -0.24509161636686772, -0.47576846191992694, 0.936150373113418, -0.022014321807143356, 0.24122031075767136, 0.20156159990769762, 0.4889670950808336, 0.36900629792802553, -0.7459473752804058, -0.09999173846394172, -0.7997949677243608, -0.20750330067344436, 0.5863940242912602, -0.5322756282968089, 0.3626015829459335, 0.25135580735667107, 0.27404275181686244, 0.878770745429517, 0.6502028542083145, 0.5738503306183707, 0.48276540924821343, -0.9031381832468057, -0.5901584837714191, -0.4675426478007021, -0.7102669566192772, -0.5144893523587415, 0.32702374524375233, 0.6469071555714618, -0.8302114188907748, -0.3422418283221449, -0.06856614373924552, 0.822784707254701, 0.11657813272414641, -0.25800650096538824, 0.9561972606748159, 0.8347017260751162, -0.2715908497505164, -0.5240067279632412, -0.44333625251107645, 0.036524084141108526, -0.7136607341537411, -0.6936221075210058, -0.15659841525689955, 0.5883491310729727, 0.24579702521540758, 0.23338834202259906, -0.11873672115099643, -0.3513917305633878, -0.672137054920618, -0.3179032448788528, 0.7845794532771049, -0.05815305655756697, -0.5477679931415784, -0.3829918565353214, -0.857718327456984, 0.3224290369354763, 0.6547813871270856, 0.89828283112138, -0.5118013782735895, 0.10020443214085994, 0.9380667647495229, 0.20925398876525958, 0.06870122448679838, 0.11960882101870296, -0.6959637652034043, 0.49836435837529214, 0.9638004627916181, -0.9045623063696588, 0.4065350352864878, 0.026408583661504892, 0.8802372114886752, -0.8555866587663323, -0.11531942637381909, 0.8619545334728791, 0.49029131911080137, 0.31203692105156366, 0.454548378301159, 0.3129933968346206, -0.6910866395302744, -0.570788770001111, 0.022966158124550606, 0.13342571094392053, -0.17862516874048717, -0.3680907072976163, 0.37180457415539925, 0.4973918823294998, -0.951732667292644, 0.843901319014484, 0.9388556997468072, -0.9567560711646241, -0.10562349626219225, -0.5777707729150157, 0.7919691633994086, 0.10858587024810218, -0.11185503351615811, 0.0904161374252559, 0.8368217234503132, -0.41043154465763676, -0.06147441963279676, -0.8172983652892805, -0.40631847676144983, 0.2869031191148328, -0.9506265571254044, 0.04052457716745095, 0.6602590406985887, 0.9871232583389635, 0.3630414744472912, -0.7488846856560947, -0.7553704122177747, -0.44546627666730676, -0.22950914806209677, -0.6675339335553547, -0.19713544082519907, 0.669285704890165, 0.7653888513346638, 0.633794689465083, 0.931155188847421, -0.6171200234314125, -0.6427528931587021, 0.12243418758531033, -0.027201882928384435, 0.9084620169723088, -0.028811115677893406, 0.8347465250528663, 0.45496624604645763, 0.8457130199681873, -0.5435583821427692, -0.3909125386529262, -0.6018012892437272, -0.7689136533338119, -0.15181791419776802, -0.7791319068691767, -0.7158403104274926, 0.3435983025620104, 0.9787756438224524, 0.6139594415973875, -0.4552981664077722, 0.7896788794023413, 0.9581519673434418, 0.01118767929069131, 0.9097874923646085, 0.8741618870170724, -0.6094435530219009, -0.902174903930802, 0.025952056259124, 0.10348579673076941, -0.29316082227551443, -0.43469166221647937, -0.805442282938406, -0.22415335758081723, -0.35553661628596833, 0.7512675865115905, 0.1772023972190635, -0.5541152647519612, -0.4416215506959762, -0.6364278725340091, -0.6602917043983354, 0.21689784619941177, 0.8950384714022297, -0.7525244344742579, 0.09229837654416295, -0.809226404859043, 0.37795991815735874, 0.4600136228087457, 0.22155030850682933, 0.9375594770412783, 0.09193106108011428, 0.6948091096104365, 0.2873634472177715, 0.6008623057768607, 0.3641493261966311, 0.8172694555386202, 0.907915362139754, -0.6541559504929617, -0.733415686535577, 0.18407029968490485, -0.911879058410566, -0.983951979478705, 0.4987212437734585, -0.9009362869308668, 0.7098414879902244, -0.4658254707565461, -0.4444530913006044, 0.7510991574011099, -0.7102613133145341, 0.5718300504387215, -0.3380534830506736, 0.9814992930840967, 0.866564632590995, -0.2817368643653595, 0.5026049296473505, 0.9227068745243165, 0.07251323374778673, -0.5533451576491031, 0.07968615216959285, -0.8450613559401656, -0.03001933971520354, 0.5341848403617824, -0.6335422096653662, -0.3306766427302694, 0.11079971682994372, -0.9422819934570312, 0.465387694731731, 0.7816671441785397, -0.6683360486228114, 0.8640223511164107, -0.2446884743293396, -0.5134268975274838, 0.10375531327883425, -0.2160982060085821, -0.009949075316175948, -0.168284536633581, 0.1450280159414843, 0.9253655727905106, -0.6920407402359745, 0.9288973875647655, -0.7457263579360045, -0.2785360480262149, -0.002021475569933262, 0.17372139804666165, 0.8267901069680044, 0.20783639922049146, -0.3059103079376342, -0.8334953624941526, 0.009393400816415376, 0.21262305901414424, -0.5259391154535697, 0.5449238046383127, 0.6479177974753629, -0.9104275203565364, -0.1897603322280248, -0.8782958354203896, -0.05591386233678164, -0.18513913621167322, -0.9987467823061336, -0.26274999829994217, 0.8563334779908383, -0.7442337604374663, 0.13490052498563654, -0.2551118540312163, 0.39024706044647295, -0.2711837084505171, -0.5749118914692117, 0.8163432821585694, 0.2402858177109799, -0.5373118052083039, -0.7063450120379353, -0.48834254731965787, -0.4149146366731884, 0.8466794350466094, 0.13181553009825575, -0.5205453066093373, -0.4955333245273341, -0.18929411574329924, 0.23944751743988069, -0.93952484804532, 0.9483917871080152, -0.32379547144141374, -0.44428003353697254, 0.2692103894706548, 0.06655384324689373, 0.9260498950214961, -0.9151304032447323, 0.878415732259149, -0.5094665402233634, -0.00696367825512012, 0.4419679141735178, -0.895021415266315, -0.9614308395802535, -0.2665282828794149, -0.03627633626688054, 0.5137858365461989, 0.4955326698553053, -0.438654948420204, -0.10394376216739287, -0.8914962647269216, -0.9464692122898906, -0.333272539952592, -0.9893489465235628, -0.6837963490934458, -0.5326511075672473, 0.9154009663251297, 0.8585899087239814, 0.9660735064031765, -0.9455329666667818, 0.7756592127454471, 0.795579986642194, -0.7711175124799978, -0.4260771591884771, 0.13633761234149344, 0.46528532642032117, -0.1408337255102401, 0.8748283948016287]\n"
          ]
        }
      ],
      "source": [
        "dummy_pred = dummy_regressor(y_test_normalized)\n",
        "print(\"y_dummy_pred:\", dummy_pred)"
      ]
    },
    {
      "cell_type": "code",
      "execution_count": 143,
      "metadata": {},
      "outputs": [
        {
          "name": "stdout",
          "output_type": "stream",
          "text": [
            "Training Linear Regression model...\n",
            "\n",
            "Iteration: 10000 \n",
            " W: [[-0.04676987]\n",
            " [ 3.4416952 ]\n",
            " [-1.056574  ]\n",
            " [-2.3524497 ]\n",
            " [ 0.03947638]]  b: [6.837758e-05]  loss: 0.8108598\n",
            "\n",
            "Iteration: 20000 \n",
            " W: [[-2.1004800e-02]\n",
            " [ 6.4455943e+00]\n",
            " [-2.1231716e+00]\n",
            " [-4.2780738e+00]\n",
            " [-2.2372708e-03]]  b: [3.1800595e-05]  loss: 0.6718761\n",
            "\n",
            "Iteration: 30000 \n",
            " W: [[-1.3473415e-03]\n",
            " [ 9.0789042e+00]\n",
            " [-3.1753907e+00]\n",
            " [-5.8504267e+00]\n",
            " [-3.3865441e-02]]  b: [3.8715384e-06]  loss: 0.5665248\n",
            "\n",
            "Iteration: 40000 \n",
            " W: [[ 0.01339069]\n",
            " [11.393152  ]\n",
            " [-4.201478  ]\n",
            " [-7.1322    ]\n",
            " [-0.05739504]]  b: [-1.7083687e-05]  loss: 0.48585612\n",
            "\n",
            "Iteration: 50000 \n",
            " W: [[ 0.02419347]\n",
            " [13.432026  ]\n",
            " [-5.1928873 ]\n",
            " [-8.175158  ]\n",
            " [-0.07443843]]  b: [-3.2459902e-05]  loss: 0.4234723\n",
            "\n",
            "Iteration: 60000 \n",
            " W: [[ 0.03183892]\n",
            " [15.232176  ]\n",
            " [-6.143442  ]\n",
            " [-9.021725  ]\n",
            " [-0.08632819]]  b: [-4.3350814e-05]  loss: 0.3747793\n",
            "\n",
            "Iteration: 70000 \n",
            " W: [[ 0.03699317]\n",
            " [16.82554   ]\n",
            " [-7.049427  ]\n",
            " [-9.707239  ]\n",
            " [-0.09412494]]  b: [-5.072836e-05]  loss: 0.33642322\n",
            "\n",
            "Iteration: 80000 \n",
            " W: [[  0.04018761]\n",
            " [ 18.238674  ]\n",
            " [ -7.9081793 ]\n",
            " [-10.260683  ]\n",
            " [ -0.09871393]]  b: [-5.531317e-05]  loss: 0.30596557\n",
            "\n",
            "Iteration: 90000 \n",
            " W: [[  0.04186622]\n",
            " [ 19.495096  ]\n",
            " [ -8.718688  ]\n",
            " [-10.706406  ]\n",
            " [ -0.10079409]]  b: [-5.7760644e-05]  loss: 0.28158918\n",
            "\n",
            "Iteration: 100000 \n",
            " W: [[  0.0423276 ]\n",
            " [ 20.61442   ]\n",
            " [ -9.48126   ]\n",
            " [-11.063445  ]\n",
            " [ -0.10096758]]  b: [-5.8460995e-05]  loss: 0.2619476\n",
            "\n",
            "Iteration: 110000 \n",
            " W: [[  0.04188361]\n",
            " [ 21.613224  ]\n",
            " [-10.1961355 ]\n",
            " [-11.34809   ]\n",
            " [ -0.09966468]]  b: [-5.7900164e-05]  loss: 0.24603084\n",
            "\n",
            "Iteration: 120000 \n",
            " W: [[  0.04080385]\n",
            " [ 22.505997  ]\n",
            " [-10.863188  ]\n",
            " [-11.574843  ]\n",
            " [ -0.09730244]]  b: [-5.640801e-05]  loss: 0.23307198\n",
            "\n",
            "Iteration: 130000 \n",
            " W: [[  0.0391977 ]\n",
            " [ 23.305855  ]\n",
            " [-11.484303  ]\n",
            " [-11.754703  ]\n",
            " [ -0.09423769]]  b: [-5.417504e-05]  loss: 0.22246912\n",
            "\n",
            "Iteration: 140000 \n",
            " W: [[  0.03723037]\n",
            " [ 24.023407  ]\n",
            " [-12.063953  ]\n",
            " [-11.893967  ]\n",
            " [ -0.09052066]]  b: [-5.143039e-05]  loss: 0.2137519\n",
            "\n",
            "Iteration: 150000 \n",
            " W: [[  0.03501232]\n",
            " [ 24.668007  ]\n",
            " [-12.603401  ]\n",
            " [-12.000623  ]\n",
            " [ -0.08636957]]  b: [-4.8332582e-05]  loss: 0.20656282\n",
            "\n",
            "Iteration: 160000 \n",
            " W: [[  0.03263002]\n",
            " [ 25.24842   ]\n",
            " [-13.103889  ]\n",
            " [-12.082045  ]\n",
            " [ -0.08203606]]  b: [-4.4993154e-05]  loss: 0.200617\n",
            "\n",
            "Iteration: 170000 \n",
            " W: [[  0.03018488]\n",
            " [ 25.771374  ]\n",
            " [-13.566876  ]\n",
            " [-12.143528  ]\n",
            " [ -0.07761336]]  b: [-4.1566447e-05]  loss: 0.19569264\n",
            "\n",
            "Iteration: 180000 \n",
            " W: [[  0.02769602]\n",
            " [ 26.243813  ]\n",
            " [-13.995799  ]\n",
            " [-12.188527  ]\n",
            " [ -0.07317657]]  b: [-3.8062797e-05]  loss: 0.1915992\n",
            "\n",
            "Iteration: 190000 \n",
            " W: [[ 2.5270108e-02]\n",
            " [ 2.6670164e+01]\n",
            " [-1.4391326e+01]\n",
            " [-1.2220856e+01]\n",
            " [-6.8797648e-02]]  b: [-3.4661367e-05]  loss: 0.1882\n",
            "Early stopping at epoch 195703\n",
            "Training Neural Network model...\n",
            "Epoch: 0000 cost= 6.996222496\n",
            "Epoch: 1000 cost= 4.052039623\n",
            "Epoch: 2000 cost= 2.691326618\n",
            "Epoch: 3000 cost= 2.039019823\n",
            "Epoch: 4000 cost= 1.713753939\n",
            "Epoch: 5000 cost= 1.542873740\n",
            "Epoch: 6000 cost= 1.448085070\n",
            "Epoch: 7000 cost= 1.391749859\n",
            "Epoch: 8000 cost= 1.354811192\n",
            "Epoch: 9000 cost= 1.328407168\n",
            "Linear Regression R-Squared score is: 0.7756200579730448 and MSE on the test set is: 0.20110484957695007\n",
            "Neural Network R-Squared score is: -0.6099235298210095 and MSE on the test set is: 1.4429250955581665\n",
            "Dummy Model R-Squared score is: -0.400142285826123 and MSE on the test set is: 1.2549045486836583\n"
          ]
        }
      ],
      "source": [
        "# Train the models\n",
        "print(\"Training Linear Regression model...\")\n",
        "sess_linear, pred_linear, x_linear = train_linear_regression(X_train_normalized, y_train_normalized, learning_rate=0.01, threshold=0.0000000000001)\n",
        "print(\"Training Neural Network model...\")\n",
        "sess_nn, pred_nn, x_nn = train_neural_network(X_train_normalized, y_train_normalized, learning_rate=0.00001, epochs=10000) \n",
        "\n",
        "# Make predictions\n",
        "y_pred_linear = sess_linear.run(pred_linear, feed_dict={x_linear: X_test_normalized.values})\n",
        "y_pred_nn = sess_nn.run(pred_nn, feed_dict={x_nn: X_test_normalized.values})\n",
        "\n",
        "# Calculate R-Squared score\n",
        "r2_linear = r2_score(y_test_normalized, y_pred_linear)\n",
        "r2_nn = r2_score(y_test_normalized, y_pred_nn)\n",
        "r2_dummy = r2_score(y_test_normalized, dummy_pred)\n",
        "\n",
        "mse_linear = mean_squared_error(y_test_normalized, y_pred_linear)\n",
        "mse_nn = mean_squared_error(y_test_normalized, y_pred_nn)\n",
        "mse_dummy = mean_squared_error(y_test_normalized, dummy_pred)\n",
        "\n",
        "print(f\"Linear Regression R-Squared score is: {r2_linear} and MSE on the test set is: {mse_linear}\")\n",
        "print(f\"Neural Network R-Squared score is: {r2_nn} and MSE on the test set is: {mse_nn}\")\n",
        "print(f\"Dummy Model R-Squared score is: {r2_dummy} and MSE on the test set is: {mse_dummy}\")"
      ]
    },
    {
      "cell_type": "markdown",
      "metadata": {},
      "source": [
        "# Comparison between models"
      ]
    },
    {
      "cell_type": "code",
      "execution_count": 141,
      "metadata": {},
      "outputs": [
        {
          "data": {
            "text/plain": [
              "<matplotlib.legend.Legend at 0x27fbd365760>"
            ]
          },
          "execution_count": 141,
          "metadata": {},
          "output_type": "execute_result"
        },
        {
          "data": {
            "image/png": "[encoded data removed]",
            "text/plain": [
              "<Figure size 1000x300 with 3 Axes>"
            ]
          },
          "metadata": {},
          "output_type": "display_data"
        }
      ],
      "source": [
        "fig, (ax1, ax2, ax3) = plt.subplots(1, 3, figsize=(10, 3))\n",
        "fig.suptitle('Comparsion between models with plots')\n",
        "\n",
        "ax1.scatter(y_test_normalized, dummy_pred, color='green', label='Dummy')\n",
        "ax1.scatter(y_test_normalized, y_test_normalized, color='cyan', label='Actual')\n",
        "ax1.legend()\n",
        "\n",
        "ax2.scatter(y_test_normalized, y_pred_nn, color='green', label='ANN')\n",
        "ax2.scatter(y_test_normalized, y_test_normalized, color='cyan', label='Actual')\n",
        "ax2.legend()\n",
        "\n",
        "ax3.scatter(y_test_normalized, y_pred_linear, color='green', label='Linear')\n",
        "ax3.scatter(y_test_normalized, y_test_normalized, color='cyan', label='Actual')\n",
        "ax3.legend()\n"
      ]
    }
  ],
  "metadata": {
    "accelerator": "GPU",
    "colab": {
      "gpuType": "T4",
      "include_colab_link": true,
      "provenance": []
    },
    "kernelspec": {
      "display_name": "Python 3",
      "name": "python3"
    },
    "language_info": {
      "codemirror_mode": {
        "name": "ipython",
        "version": 3
      },
      "file_extension": ".py",
      "mimetype": "text/x-python",
      "name": "python",
      "nbconvert_exporter": "python",
      "pygments_lexer": "ipython3",
      "version": "3.9.18"
    }
  },
  "nbformat": 4,
  "nbformat_minor": 0
}
