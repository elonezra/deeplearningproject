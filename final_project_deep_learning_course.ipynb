{
  "cells": [
    {
      "cell_type": "markdown",
      "metadata": {
        "colab_type": "text",
        "id": "view-in-github"
      },
      "source": [
        "<a href=\"https://colab.research.google.com/github/elonezra/deeplearningproject/blob/main/final_project_deep_learning_course.ipynb\" target=\"_parent\"><img src=\"https://colab.research.google.com/assets/colab-badge.svg\" alt=\"Open In Colab\"/></a>"
      ]
    },
    {
      "cell_type": "markdown",
      "metadata": {
        "id": "5eJcX1S6FRTW"
      },
      "source": [
        "Authors: Avi and Elon 🤗"
      ]
    },
    {
      "cell_type": "code",
      "execution_count": 49,
      "metadata": {
        "id": "QtYM8vgrUWIU"
      },
      "outputs": [],
      "source": [
        "# Importng necassary libraries\n",
        "import pandas as pd\n",
        "import numpy as np\n",
        "import tensorflow.compat.v1 as tf\n",
        "tf.compat.v1.disable_eager_execution()\n",
        "import seaborn as sns\n",
        "import matplotlib\n",
        "import matplotlib.pyplot as plt\n",
        "%matplotlib inline\n",
        "import warnings"
      ]
    },
    {
      "cell_type": "code",
      "execution_count": 50,
      "metadata": {
        "colab": {
          "base_uri": "https://localhost:8080/",
          "height": 206
        },
        "id": "Z_PlX0mMub6X",
        "outputId": "d9cd8dba-c010-45fe-8818-fc704099aec2"
      },
      "outputs": [
        {
          "data": {
            "text/html": [
              "<div>\n",
              "<style scoped>\n",
              "    .dataframe tbody tr th:only-of-type {\n",
              "        vertical-align: middle;\n",
              "    }\n",
              "\n",
              "    .dataframe tbody tr th {\n",
              "        vertical-align: top;\n",
              "    }\n",
              "\n",
              "    .dataframe thead th {\n",
              "        text-align: right;\n",
              "    }\n",
              "</style>\n",
              "<table border=\"1\" class=\"dataframe\">\n",
              "  <thead>\n",
              "    <tr style=\"text-align: right;\">\n",
              "      <th></th>\n",
              "      <th>Date</th>\n",
              "      <th>Open</th>\n",
              "      <th>High</th>\n",
              "      <th>Low</th>\n",
              "      <th>Close</th>\n",
              "      <th>Adj Close</th>\n",
              "      <th>Volume</th>\n",
              "    </tr>\n",
              "  </thead>\n",
              "  <tbody>\n",
              "    <tr>\n",
              "      <th>0</th>\n",
              "      <td>2014-09-17</td>\n",
              "      <td>465.864014</td>\n",
              "      <td>468.174011</td>\n",
              "      <td>452.421997</td>\n",
              "      <td>457.334015</td>\n",
              "      <td>457.334015</td>\n",
              "      <td>21056800</td>\n",
              "    </tr>\n",
              "    <tr>\n",
              "      <th>1</th>\n",
              "      <td>2014-09-18</td>\n",
              "      <td>456.859985</td>\n",
              "      <td>456.859985</td>\n",
              "      <td>413.104004</td>\n",
              "      <td>424.440002</td>\n",
              "      <td>424.440002</td>\n",
              "      <td>34483200</td>\n",
              "    </tr>\n",
              "    <tr>\n",
              "      <th>2</th>\n",
              "      <td>2014-09-19</td>\n",
              "      <td>424.102997</td>\n",
              "      <td>427.834991</td>\n",
              "      <td>384.532013</td>\n",
              "      <td>394.795990</td>\n",
              "      <td>394.795990</td>\n",
              "      <td>37919700</td>\n",
              "    </tr>\n",
              "    <tr>\n",
              "      <th>3</th>\n",
              "      <td>2014-09-20</td>\n",
              "      <td>394.673004</td>\n",
              "      <td>423.295990</td>\n",
              "      <td>389.882996</td>\n",
              "      <td>408.903992</td>\n",
              "      <td>408.903992</td>\n",
              "      <td>36863600</td>\n",
              "    </tr>\n",
              "    <tr>\n",
              "      <th>4</th>\n",
              "      <td>2014-09-21</td>\n",
              "      <td>408.084991</td>\n",
              "      <td>412.425995</td>\n",
              "      <td>393.181000</td>\n",
              "      <td>398.821014</td>\n",
              "      <td>398.821014</td>\n",
              "      <td>26580100</td>\n",
              "    </tr>\n",
              "  </tbody>\n",
              "</table>\n",
              "</div>"
            ],
            "text/plain": [
              "         Date        Open        High         Low       Close   Adj Close  \\\n",
              "0  2014-09-17  465.864014  468.174011  452.421997  457.334015  457.334015   \n",
              "1  2014-09-18  456.859985  456.859985  413.104004  424.440002  424.440002   \n",
              "2  2014-09-19  424.102997  427.834991  384.532013  394.795990  394.795990   \n",
              "3  2014-09-20  394.673004  423.295990  389.882996  408.903992  408.903992   \n",
              "4  2014-09-21  408.084991  412.425995  393.181000  398.821014  398.821014   \n",
              "\n",
              "     Volume  \n",
              "0  21056800  \n",
              "1  34483200  \n",
              "2  37919700  \n",
              "3  36863600  \n",
              "4  26580100  "
            ]
          },
          "execution_count": 50,
          "metadata": {},
          "output_type": "execute_result"
        }
      ],
      "source": [
        "df = pd.read_csv('BTC-USD.csv')\n",
        "df.head()"
      ]
    },
    {
      "cell_type": "code",
      "execution_count": 51,
      "metadata": {
        "colab": {
          "base_uri": "https://localhost:8080/",
          "height": 241
        },
        "id": "taAq-m-ywZcY",
        "outputId": "5996f67d-2779-464e-8bb2-3c33c8def880"
      },
      "outputs": [
        {
          "name": "stdout",
          "output_type": "stream",
          "text": [
            "2713 2713\n",
            "2713\n"
          ]
        },
        {
          "data": {
            "text/html": [
              "<div>\n",
              "<style scoped>\n",
              "    .dataframe tbody tr th:only-of-type {\n",
              "        vertical-align: middle;\n",
              "    }\n",
              "\n",
              "    .dataframe tbody tr th {\n",
              "        vertical-align: top;\n",
              "    }\n",
              "\n",
              "    .dataframe thead th {\n",
              "        text-align: right;\n",
              "    }\n",
              "</style>\n",
              "<table border=\"1\" class=\"dataframe\">\n",
              "  <thead>\n",
              "    <tr style=\"text-align: right;\">\n",
              "      <th></th>\n",
              "      <th>Date</th>\n",
              "      <th>Open</th>\n",
              "      <th>High</th>\n",
              "      <th>Low</th>\n",
              "      <th>Close</th>\n",
              "      <th>Volume</th>\n",
              "    </tr>\n",
              "  </thead>\n",
              "  <tbody>\n",
              "    <tr>\n",
              "      <th>0</th>\n",
              "      <td>2014-09-17</td>\n",
              "      <td>465.864014</td>\n",
              "      <td>468.174011</td>\n",
              "      <td>452.421997</td>\n",
              "      <td>457.334015</td>\n",
              "      <td>21056800</td>\n",
              "    </tr>\n",
              "    <tr>\n",
              "      <th>1</th>\n",
              "      <td>2014-09-18</td>\n",
              "      <td>456.859985</td>\n",
              "      <td>456.859985</td>\n",
              "      <td>413.104004</td>\n",
              "      <td>424.440002</td>\n",
              "      <td>34483200</td>\n",
              "    </tr>\n",
              "    <tr>\n",
              "      <th>2</th>\n",
              "      <td>2014-09-19</td>\n",
              "      <td>424.102997</td>\n",
              "      <td>427.834991</td>\n",
              "      <td>384.532013</td>\n",
              "      <td>394.795990</td>\n",
              "      <td>37919700</td>\n",
              "    </tr>\n",
              "    <tr>\n",
              "      <th>3</th>\n",
              "      <td>2014-09-20</td>\n",
              "      <td>394.673004</td>\n",
              "      <td>423.295990</td>\n",
              "      <td>389.882996</td>\n",
              "      <td>408.903992</td>\n",
              "      <td>36863600</td>\n",
              "    </tr>\n",
              "    <tr>\n",
              "      <th>4</th>\n",
              "      <td>2014-09-21</td>\n",
              "      <td>408.084991</td>\n",
              "      <td>412.425995</td>\n",
              "      <td>393.181000</td>\n",
              "      <td>398.821014</td>\n",
              "      <td>26580100</td>\n",
              "    </tr>\n",
              "  </tbody>\n",
              "</table>\n",
              "</div>"
            ],
            "text/plain": [
              "         Date        Open        High         Low       Close    Volume\n",
              "0  2014-09-17  465.864014  468.174011  452.421997  457.334015  21056800\n",
              "1  2014-09-18  456.859985  456.859985  413.104004  424.440002  34483200\n",
              "2  2014-09-19  424.102997  427.834991  384.532013  394.795990  37919700\n",
              "3  2014-09-20  394.673004  423.295990  389.882996  408.903992  36863600\n",
              "4  2014-09-21  408.084991  412.425995  393.181000  398.821014  26580100"
            ]
          },
          "execution_count": 51,
          "metadata": {},
          "output_type": "execute_result"
        }
      ],
      "source": [
        "# We don't need the \"Adj Close\" column because this column is the same as the \"Close\" column,\n",
        "# we are going to check it before earasing to make sure our assumption is true.\n",
        "print(df['Adj Close'].count(), df['Close'].count()) # In this line we can see that the number of lines in both of the columns is equal\n",
        "print(len(df[\"Close\"] == df[\"Adj Close\"])) # and in this line we compared between those columns and get as result that all lines are equal\n",
        "# thus, we can remove \"Asj Close\" column\n",
        "df = df.drop(['Adj Close'], axis = 1)\n",
        "df.head()"
      ]
    },
    {
      "cell_type": "code",
      "execution_count": 52,
      "metadata": {},
      "outputs": [],
      "source": [
        "# now we want to change the 'Close' column to be 'Open_Close_Mean' column because,\n",
        "# it's more common to predict the mean between the Open price and the Close price\n",
        "df['Close'].rename('Open_Close_Mean')\n",
        "df['Open_Close_Mean'] = (df['Open'] + df['Close']) / 2\n",
        "df = df.drop(['Close'], axis=1)"
      ]
    },
    {
      "cell_type": "code",
      "execution_count": 53,
      "metadata": {
        "colab": {
          "base_uri": "https://localhost:8080/"
        },
        "id": "X_nzRG4_w9ow",
        "outputId": "380384ab-b2d1-4277-e47e-938036c2120e"
      },
      "outputs": [
        {
          "name": "stdout",
          "output_type": "stream",
          "text": [
            "<class 'pandas.core.frame.DataFrame'>\n",
            "RangeIndex: 2713 entries, 0 to 2712\n",
            "Data columns (total 6 columns):\n",
            " #   Column           Non-Null Count  Dtype  \n",
            "---  ------           --------------  -----  \n",
            " 0   Date             2713 non-null   object \n",
            " 1   Open             2713 non-null   float64\n",
            " 2   High             2713 non-null   float64\n",
            " 3   Low              2713 non-null   float64\n",
            " 4   Volume           2713 non-null   int64  \n",
            " 5   Open_Close_Mean  2713 non-null   float64\n",
            "dtypes: float64(4), int64(1), object(1)\n",
            "memory usage: 127.3+ KB\n"
          ]
        }
      ],
      "source": [
        "# In the code below we will see that our dataframe uses an object column which is not good\n",
        "# because we need a numeric dataframe so, we convert this column to int64 type\n",
        "# by removing the '-' char\n",
        "df.info()"
      ]
    },
    {
      "cell_type": "markdown",
      "metadata": {
        "id": "UUUNf4cY7344"
      },
      "source": []
    },
    {
      "cell_type": "code",
      "execution_count": 54,
      "metadata": {
        "colab": {
          "base_uri": "https://localhost:8080/"
        },
        "id": "3VTJfZLvEk4M",
        "outputId": "0de7ab1b-d8df-4dc4-9710-9231896f9e03"
      },
      "outputs": [
        {
          "name": "stderr",
          "output_type": "stream",
          "text": [
            "C:\\Users\\rahim\\AppData\\Local\\Temp\\ipykernel_13388\\84532947.py:1: FutureWarning: Series.__getitem__ treating keys as positions is deprecated. In a future version, integer keys will always be treated as labels (consistent with DataFrame behavior). To access a value by position, use `ser.iloc[pos]`\n",
            "  int(df.iloc[1][0].replace('-', ''))\n"
          ]
        },
        {
          "data": {
            "text/plain": [
              "20140918"
            ]
          },
          "execution_count": 54,
          "metadata": {},
          "output_type": "execute_result"
        }
      ],
      "source": [
        "int(df.iloc[1][0].replace('-', ''))"
      ]
    },
    {
      "cell_type": "code",
      "execution_count": 55,
      "metadata": {
        "id": "wujuLZPoHIhx"
      },
      "outputs": [],
      "source": [
        "df[\"Date\"] = df[\"Date\"].apply(lambda x: x.replace('-','')).apply(pd.to_numeric)"
      ]
    },
    {
      "cell_type": "code",
      "execution_count": 56,
      "metadata": {
        "colab": {
          "base_uri": "https://localhost:8080/",
          "height": 431
        },
        "id": "h1BUpUrpH_Oc",
        "outputId": "b33e332f-07fc-469c-cbb4-0e8bbb648437"
      },
      "outputs": [
        {
          "name": "stdout",
          "output_type": "stream",
          "text": [
            "<class 'pandas.core.frame.DataFrame'>\n",
            "RangeIndex: 2713 entries, 0 to 2712\n",
            "Data columns (total 6 columns):\n",
            " #   Column           Non-Null Count  Dtype  \n",
            "---  ------           --------------  -----  \n",
            " 0   Date             2713 non-null   int64  \n",
            " 1   Open             2713 non-null   float64\n",
            " 2   High             2713 non-null   float64\n",
            " 3   Low              2713 non-null   float64\n",
            " 4   Volume           2713 non-null   int64  \n",
            " 5   Open_Close_Mean  2713 non-null   float64\n",
            "dtypes: float64(4), int64(2)\n",
            "memory usage: 127.3 KB\n"
          ]
        },
        {
          "data": {
            "text/html": [
              "<div>\n",
              "<style scoped>\n",
              "    .dataframe tbody tr th:only-of-type {\n",
              "        vertical-align: middle;\n",
              "    }\n",
              "\n",
              "    .dataframe tbody tr th {\n",
              "        vertical-align: top;\n",
              "    }\n",
              "\n",
              "    .dataframe thead th {\n",
              "        text-align: right;\n",
              "    }\n",
              "</style>\n",
              "<table border=\"1\" class=\"dataframe\">\n",
              "  <thead>\n",
              "    <tr style=\"text-align: right;\">\n",
              "      <th></th>\n",
              "      <th>Date</th>\n",
              "      <th>Open</th>\n",
              "      <th>High</th>\n",
              "      <th>Low</th>\n",
              "      <th>Volume</th>\n",
              "      <th>Open_Close_Mean</th>\n",
              "    </tr>\n",
              "  </thead>\n",
              "  <tbody>\n",
              "    <tr>\n",
              "      <th>0</th>\n",
              "      <td>20140917</td>\n",
              "      <td>465.864014</td>\n",
              "      <td>468.174011</td>\n",
              "      <td>452.421997</td>\n",
              "      <td>21056800</td>\n",
              "      <td>461.599015</td>\n",
              "    </tr>\n",
              "    <tr>\n",
              "      <th>1</th>\n",
              "      <td>20140918</td>\n",
              "      <td>456.859985</td>\n",
              "      <td>456.859985</td>\n",
              "      <td>413.104004</td>\n",
              "      <td>34483200</td>\n",
              "      <td>440.649993</td>\n",
              "    </tr>\n",
              "    <tr>\n",
              "      <th>2</th>\n",
              "      <td>20140919</td>\n",
              "      <td>424.102997</td>\n",
              "      <td>427.834991</td>\n",
              "      <td>384.532013</td>\n",
              "      <td>37919700</td>\n",
              "      <td>409.449494</td>\n",
              "    </tr>\n",
              "    <tr>\n",
              "      <th>3</th>\n",
              "      <td>20140920</td>\n",
              "      <td>394.673004</td>\n",
              "      <td>423.295990</td>\n",
              "      <td>389.882996</td>\n",
              "      <td>36863600</td>\n",
              "      <td>401.788498</td>\n",
              "    </tr>\n",
              "    <tr>\n",
              "      <th>4</th>\n",
              "      <td>20140921</td>\n",
              "      <td>408.084991</td>\n",
              "      <td>412.425995</td>\n",
              "      <td>393.181000</td>\n",
              "      <td>26580100</td>\n",
              "      <td>403.453003</td>\n",
              "    </tr>\n",
              "  </tbody>\n",
              "</table>\n",
              "</div>"
            ],
            "text/plain": [
              "       Date        Open        High         Low    Volume  Open_Close_Mean\n",
              "0  20140917  465.864014  468.174011  452.421997  21056800       461.599015\n",
              "1  20140918  456.859985  456.859985  413.104004  34483200       440.649993\n",
              "2  20140919  424.102997  427.834991  384.532013  37919700       409.449494\n",
              "3  20140920  394.673004  423.295990  389.882996  36863600       401.788498\n",
              "4  20140921  408.084991  412.425995  393.181000  26580100       403.453003"
            ]
          },
          "execution_count": 56,
          "metadata": {},
          "output_type": "execute_result"
        }
      ],
      "source": [
        "# Now, after we convert the \"Date\" column to numeric type, we can see the new data as request\n",
        "df.info()\n",
        "df.head()"
      ]
    },
    {
      "cell_type": "markdown",
      "metadata": {
        "id": "H5AP4t-qA-aZ"
      },
      "source": [
        "$\\sigma = \\sqrt(\\mu_2) = \\sqrt(1/n \\sum(x_i - x')^2)$\n",
        "\n",
        "$𝜇^{𝑙,𝑗}= \\frac{1}{m} ∑_{𝑖=0}^{𝑚}{𝑧_𝑖^{𝑙,𝑗}}$ \n",
        "\n",
        "$𝜎^{𝑙,𝑗}=\\sqrt{∑_{𝑖=0}^𝑚(𝑧_𝑖^{𝑙,𝑗}−𝜇^(𝑙,𝑗) )^2 }$\n",
        "\n",
        "$(𝑧_𝑖^(𝑙,𝑗) ) ̂= \\frac{𝑧_𝑖^{𝑙,𝑗}−𝜇^{𝑙,𝑗}}{𝜎^{𝑙,𝑗}+𝜖} $\n"
      ]
    },
    {
      "cell_type": "code",
      "execution_count": 57,
      "metadata": {
        "id": "cwe7U_pSAtOG"
      },
      "outputs": [],
      "source": [
        "def mu(data):\n",
        "    return np.mean(data)/len(data)\n",
        "\n",
        "def standard_deviation(data, mu):\n",
        "  # Calculate the variance of the data.\n",
        "  variance = np.sum((data - mu)**2)\n",
        "  # Calculate the standard deviation of the data.\n",
        "  standard_deviation = np.sqrt(variance)\n",
        "  return standard_deviation\n"
      ]
    },
    {
      "cell_type": "code",
      "execution_count": 58,
      "metadata": {
        "colab": {
          "base_uri": "https://localhost:8080/",
          "height": 206
        },
        "id": "j6PSGznRoLAN",
        "outputId": "21f74f77-050c-4d45-a5df-24027f6886e7"
      },
      "outputs": [
        {
          "data": {
            "text/html": [
              "<div>\n",
              "<style scoped>\n",
              "    .dataframe tbody tr th:only-of-type {\n",
              "        vertical-align: middle;\n",
              "    }\n",
              "\n",
              "    .dataframe tbody tr th {\n",
              "        vertical-align: top;\n",
              "    }\n",
              "\n",
              "    .dataframe thead th {\n",
              "        text-align: right;\n",
              "    }\n",
              "</style>\n",
              "<table border=\"1\" class=\"dataframe\">\n",
              "  <thead>\n",
              "    <tr style=\"text-align: right;\">\n",
              "      <th></th>\n",
              "      <th>Date</th>\n",
              "      <th>Open</th>\n",
              "      <th>High</th>\n",
              "      <th>Low</th>\n",
              "      <th>Volume</th>\n",
              "      <th>Open_Close_Mean</th>\n",
              "    </tr>\n",
              "  </thead>\n",
              "  <tbody>\n",
              "    <tr>\n",
              "      <th>0</th>\n",
              "      <td>0.019172</td>\n",
              "      <td>0.000460</td>\n",
              "      <td>0.000451</td>\n",
              "      <td>0.000461</td>\n",
              "      <td>0.000022</td>\n",
              "      <td>0.000456</td>\n",
              "    </tr>\n",
              "    <tr>\n",
              "      <th>1</th>\n",
              "      <td>0.019172</td>\n",
              "      <td>0.000452</td>\n",
              "      <td>0.000440</td>\n",
              "      <td>0.000422</td>\n",
              "      <td>0.000032</td>\n",
              "      <td>0.000436</td>\n",
              "    </tr>\n",
              "    <tr>\n",
              "      <th>2</th>\n",
              "      <td>0.019172</td>\n",
              "      <td>0.000420</td>\n",
              "      <td>0.000412</td>\n",
              "      <td>0.000393</td>\n",
              "      <td>0.000035</td>\n",
              "      <td>0.000405</td>\n",
              "    </tr>\n",
              "    <tr>\n",
              "      <th>3</th>\n",
              "      <td>0.019172</td>\n",
              "      <td>0.000391</td>\n",
              "      <td>0.000408</td>\n",
              "      <td>0.000398</td>\n",
              "      <td>0.000034</td>\n",
              "      <td>0.000398</td>\n",
              "    </tr>\n",
              "    <tr>\n",
              "      <th>4</th>\n",
              "      <td>0.019172</td>\n",
              "      <td>0.000404</td>\n",
              "      <td>0.000398</td>\n",
              "      <td>0.000402</td>\n",
              "      <td>0.000026</td>\n",
              "      <td>0.000400</td>\n",
              "    </tr>\n",
              "  </tbody>\n",
              "</table>\n",
              "</div>"
            ],
            "text/plain": [
              "       Date      Open      High       Low    Volume  Open_Close_Mean\n",
              "0  0.019172  0.000460  0.000451  0.000461  0.000022         0.000456\n",
              "1  0.019172  0.000452  0.000440  0.000422  0.000032         0.000436\n",
              "2  0.019172  0.000420  0.000412  0.000393  0.000035         0.000405\n",
              "3  0.019172  0.000391  0.000408  0.000398  0.000034         0.000398\n",
              "4  0.019172  0.000404  0.000398  0.000402  0.000026         0.000400"
            ]
          },
          "execution_count": 58,
          "metadata": {},
          "output_type": "execute_result"
        }
      ],
      "source": [
        "# As we can see, the data is not normalized so the next steps will focus on normalizing\n",
        "# the data to numbers from 0 to 1 i.e. [0, 1]\n",
        "epsilon = 0.00001\n",
        "\n",
        "df = df.apply(lambda x: (x - mu(x)) / standard_deviation(x, mu(x))+epsilon)\n",
        "\n",
        "# df = df.apply(lambda x: x/x.max())\n",
        "df.head()"
      ]
    },
    {
      "cell_type": "code",
      "execution_count": 59,
      "metadata": {
        "colab": {
          "base_uri": "https://localhost:8080/"
        },
        "id": "whb9B9lmq0Fi",
        "outputId": "d4a40c9e-1888-48d0-d78c-b15e075e6718"
      },
      "outputs": [
        {
          "name": "stdout",
          "output_type": "stream",
          "text": [
            "Training set size: 2170\n",
            "Testing set size: 543\n"
          ]
        }
      ],
      "source": [
        "from sklearn.model_selection import train_test_split\n",
        "\n",
        "# Assuming df is your DataFrame\n",
        "# Replace 'target' with your target column name\n",
        "X = df.drop(['Open_Close_Mean'], axis=1)\n",
        "y = df['Open_Close_Mean']\n",
        "\n",
        "X_train, X_test, y_train, y_test = train_test_split(X, y, test_size=0.2, random_state=42)\n",
        "\n",
        "print(\"Training set size:\", len(X_train))\n",
        "print(\"Testing set size:\", len(X_test))\n"
      ]
    },
    {
      "cell_type": "code",
      "execution_count": 60,
      "metadata": {
        "colab": {
          "base_uri": "https://localhost:8080/"
        },
        "id": "T1R6ijbSvHTe",
        "outputId": "a12c39cd-32db-4563-f372-7bb128fc39b9"
      },
      "outputs": [
        {
          "name": "stdout",
          "output_type": "stream",
          "text": [
            "Iteration: 0  W: [[4.2202660e-07]\n",
            " [7.2788862e-07]\n",
            " [7.2782632e-07]\n",
            " [7.2721195e-07]\n",
            " [5.8926577e-07]]  b: [2.1945376e-05]  loss: 0.00036332908\n"
          ]
        },
        {
          "name": "stdout",
          "output_type": "stream",
          "text": [
            "Iteration: 10000  W: [[0.00021181]\n",
            " [0.00494658]\n",
            " [0.00494587]\n",
            " [0.00493932]\n",
            " [0.00354226]]  b: [0.01077623]  loss: 0.0002350416\n",
            "Iteration: 20000  W: [[0.00021283]\n",
            " [0.00969042]\n",
            " [0.00968903]\n",
            " [0.00967635]\n",
            " [0.00689832]]  b: [0.01058275]  loss: 0.00022716718\n",
            "Iteration: 30000  W: [[0.0002138 ]\n",
            " [0.01435432]\n",
            " [0.01435213]\n",
            " [0.01433334]\n",
            " [0.01019153]]  b: [0.01039274]  loss: 0.00021956058\n",
            "Iteration: 40000  W: [[0.00021467]\n",
            " [0.01893914]\n",
            " [0.01893614]\n",
            " [0.01891185]\n",
            " [0.01342291]]  b: [0.01020579]  loss: 0.00021221294\n",
            "Iteration: 50000  W: [[0.00021566]\n",
            " [0.02344667]\n",
            " [0.02344283]\n",
            " [0.02341327]\n",
            " [0.01659356]]  b: [0.01002202]  loss: 0.0002051151\n",
            "Iteration: 60000  W: [[0.00021653]\n",
            " [0.02787806]\n",
            " [0.02787334]\n",
            " [0.0278387 ]\n",
            " [0.01970472]]  b: [0.00984167]  loss: 0.00019825868\n",
            "Iteration: 70000  W: [[0.0002174 ]\n",
            " [0.03223315]\n",
            " [0.03222775]\n",
            " [0.03218937]\n",
            " [0.02275685]]  b: [0.00966418]  loss: 0.00019163694\n",
            "Iteration: 80000  W: [[0.00021827]\n",
            " [0.03651616]\n",
            " [0.03650976]\n",
            " [0.03646666]\n",
            " [0.02575159]]  b: [0.00948983]  loss: 0.00018523926\n",
            "Iteration: 90000  W: [[0.00021915]\n",
            " [0.04072692]\n",
            " [0.04071947]\n",
            " [0.04067185]\n",
            " [0.02868977]]  b: [0.00931866]  loss: 0.00017905916\n"
          ]
        }
      ],
      "source": [
        "# to extract the numebr of features in out dataset we need to index to the\n",
        "# second element in the shape of the dataframe which is the number of columns\n",
        "# in our dataframe and -1 for the features without the label\n",
        "features = df.shape[1] - 1\n",
        "x = tf.placeholder(tf.float32, [None, features])\n",
        "y = tf.placeholder(tf.float32, [None, 1])\n",
        "W = tf.Variable(tf.zeros([features,1]))\n",
        "b = tf.Variable(tf.zeros([1]))\n",
        "pred = tf.matmul(x,W) + b\n",
        "loss = tf.reduce_mean(tf.pow(pred - y, 2))\n",
        "update = tf.train.GradientDescentOptimizer(0.001).minimize(loss)\n",
        "data_x = X_train\n",
        "data_y = y_train.values.reshape(-1, 1)\n",
        "sess = tf.Session()\n",
        "sess.run(tf.global_variables_initializer())\n",
        "for i in range(0,100000):\n",
        "    sess.run(update, feed_dict = {x:data_x, y:data_y})\n",
        "    if i % 10000 == 0 :\n",
        "        print('Iteration:' , i , ' W:' , sess.run(W) , ' b:' , sess.run(b), ' loss:', loss.eval(session=sess, feed_dict = {x:data_x, y:data_y}))\n"
      ]
    },
    {
      "cell_type": "code",
      "execution_count": 61,
      "metadata": {
        "colab": {
          "base_uri": "https://localhost:8080/"
        },
        "id": "UUiDbUjKrwLy",
        "outputId": "485bf33c-70f2-497e-b65d-5cabf05131a9"
      },
      "outputs": [
        {
          "name": "stdout",
          "output_type": "stream",
          "text": [
            "R-squared:  0.28971806204698125\n",
            "R-squared (%):  28.971806204698126\n",
            "NRMSE:  0.21182192455149204\n"
          ]
        }
      ],
      "source": [
        "from sklearn.metrics import mean_squared_error\n",
        "from sklearn.metrics import r2_score\n",
        "\n",
        "b = tf.cast(b, tf.float32)  # Ensure b is float32\n",
        "X_test_np = X_test.to_numpy().astype('float32')  # Convert X_test to numpy array of type float32\n",
        "\n",
        "# Compute y_pred\n",
        "y_pred_tensor = tf.matmul(X_test_np, W) + b  # Now X_test, W, and b are of the same type\n",
        "y_pred = sess.run(y_pred_tensor)\n",
        "\n",
        "# Calculate RMSE\n",
        "rmse = np.sqrt(mean_squared_error(y_test, y_pred))\n",
        "\n",
        "# Calculate the range of the target variable\n",
        "range_y = np.max(y_test) - np.min(y_test)\n",
        "\n",
        "# Calculate NRMSE\n",
        "nrmse = rmse / range_y\n",
        "\n",
        "# Assuming y_test are the true target values and y_pred are the predicted target values\n",
        "r2 = r2_score(y_test, y_pred)\n",
        "\n",
        "print(\"R-squared: \", r2)\n",
        "\n",
        "r2_percentage = r2 * 100\n",
        "\n",
        "print(\"R-squared (%): \", r2_percentage)\n",
        "\n",
        "print(\"NRMSE: \", nrmse)\n"
      ]
    },
    {
      "cell_type": "code",
      "execution_count": 62,
      "metadata": {
        "colab": {
          "base_uri": "https://localhost:8080/"
        },
        "id": "v7XVE4ZzGuvP",
        "outputId": "76ad1a30-90e3-4c48-ed99-43680562221b"
      },
      "outputs": [
        {
          "name": "stdout",
          "output_type": "stream",
          "text": [
            "The tensorboard extension is already loaded. To reload it, use:\n",
            "  %reload_ext tensorboard\n",
            "Epoch: 0000 cost= 0.000294410\n",
            "Epoch: 1000 cost= 0.000147841\n",
            "Epoch: 2000 cost= 0.000141442\n",
            "Epoch: 3000 cost= 0.000137725\n",
            "Epoch: 4000 cost= 0.000135190\n",
            "Epoch: 5000 cost= 0.000133333\n",
            "Epoch: 6000 cost= 0.000131931\n",
            "Epoch: 7000 cost= 0.000130677\n",
            "Epoch: 8000 cost= 0.000129490\n",
            "Epoch: 9000 cost= 0.000128366\n",
            "R-Squared:  -2.0417985586076646\n",
            "R-squared (%):  -204.17985586076645\n",
            "NRMSE:  0.21182192455149204\n"
          ]
        }
      ],
      "source": [
        "%load_ext tensorboard\n",
        "# Define the number of features\n",
        "features = df.shape[1] - 1\n",
        "\n",
        "# Define placeholders\n",
        "x = tf.placeholder(tf.float32, [None, features])\n",
        "y = tf.placeholder(tf.float32, [None, 1])\n",
        "\n",
        "# Define weights and bias\n",
        "W1 = tf.Variable(tf.random_normal([features, 10]))\n",
        "b1 = tf.Variable(tf.zeros([10]))\n",
        "W2 = tf.Variable(tf.random_normal([10, 1]))\n",
        "b2 = tf.Variable(tf.zeros([1]))\n",
        "\n",
        "# Define the model\n",
        "hidden_layer = tf.nn.relu(tf.matmul(x, W1) + b1)\n",
        "pred = tf.matmul(hidden_layer, W2) + b2\n",
        "\n",
        "# Define the loss function (Mean Squared Error)\n",
        "loss = tf.reduce_mean(tf.square(pred - y))\n",
        "\n",
        "# Define the optimizer (Gradient Descent)\n",
        "optimizer = tf.train.GradientDescentOptimizer(0.001).minimize(loss)\n",
        "\n",
        "# Initialize variables\n",
        "init = tf.global_variables_initializer()\n",
        "\n",
        "# Reshape y_train and y_test to be 2D arrays\n",
        "y_train = y_train.values.reshape(-1, 1)\n",
        "y_test = y_test.values.reshape(-1, 1)\n",
        "\n",
        "# Start a Session\n",
        "with tf.Session() as sess:\n",
        "    sess.run(init)\n",
        "\n",
        "    # Train the model\n",
        "    for epoch in range(10000):\n",
        "        _, c = sess.run([optimizer, loss], feed_dict={x: X_train, y: y_train})\n",
        "\n",
        "        # Print loss every 1000 epochs\n",
        "        if epoch % 1000 == 0:\n",
        "            print(\"Epoch:\", '%04d' % (epoch), \"cost=\", \"{:.9f}\".format(c))\n",
        "\n",
        "    # Make predictions\n",
        "    y_pred = sess.run(pred, feed_dict={x: X_test})\n",
        "\n",
        "# Calculate R-Squared score\n",
        "r2 = r2_score(y_test, y_pred)\n",
        "print(\"R-Squared: \", r2)\n",
        "\n",
        "r2_percentage = r2 * 100\n",
        "\n",
        "print(\"R-squared (%): \", r2_percentage)\n",
        "\n",
        "print(\"NRMSE: \", nrmse)\n"
      ]
    },
    {
      "cell_type": "markdown",
      "metadata": {
        "id": "K82AO25B3c73"
      },
      "source": [
        "this is an improve code to view the graph model"
      ]
    },
    {
      "cell_type": "code",
      "execution_count": null,
      "metadata": {},
      "outputs": [],
      "source": []
    }
  ],
  "metadata": {
    "accelerator": "GPU",
    "colab": {
      "gpuType": "T4",
      "include_colab_link": true,
      "provenance": []
    },
    "kernelspec": {
      "display_name": "Python 3",
      "name": "python3"
    },
    "language_info": {
      "codemirror_mode": {
        "name": "ipython",
        "version": 3
      },
      "file_extension": ".py",
      "mimetype": "text/x-python",
      "name": "python",
      "nbconvert_exporter": "python",
      "pygments_lexer": "ipython3",
      "version": "3.9.13"
    }
  },
  "nbformat": 4,
  "nbformat_minor": 0
}
