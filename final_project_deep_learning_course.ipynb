{
  "cells": [
    {
      "cell_type": "markdown",
      "metadata": {
        "colab_type": "text",
        "id": "view-in-github"
      },
      "source": [
        "<a href=\"https://colab.research.google.com/github/elonezra/deeplearningproject/blob/main/final_project_deep_learning_course.ipynb\" target=\"_parent\"><img src=\"https://colab.research.google.com/assets/colab-badge.svg\" alt=\"Open In Colab\"/></a>"
      ]
    },
    {
      "cell_type": "markdown",
      "metadata": {
        "id": "5eJcX1S6FRTW"
      },
      "source": [
        "Authors: Avi and Elon 🤗"
      ]
    },
    {
      "cell_type": "markdown",
      "metadata": {},
      "source": [
        "## Pre-Processing the data"
      ]
    },
    {
      "cell_type": "code",
      "execution_count": 105,
      "metadata": {
        "id": "QtYM8vgrUWIU"
      },
      "outputs": [],
      "source": [
        "# Importng necassary libraries\n",
        "import pandas as pd\n",
        "import numpy as np\n",
        "import tensorflow.compat.v1 as tf\n",
        "tf.compat.v1.disable_eager_execution()\n",
        "import seaborn as sns\n",
        "import matplotlib.pyplot as plt\n",
        "%matplotlib inline\n",
        "import warnings\n",
        "from sklearn.model_selection import train_test_split\n",
        "from sklearn.metrics import mean_squared_error\n",
        "from sklearn.metrics import r2_score\n",
        "from statsmodels.stats.outliers_influence import variance_inflation_factor\n",
        "from sklearn.dummy import DummyRegressor"
      ]
    },
    {
      "cell_type": "code",
      "execution_count": 106,
      "metadata": {
        "colab": {
          "base_uri": "https://localhost:8080/",
          "height": 206
        },
        "id": "Z_PlX0mMub6X",
        "outputId": "d9cd8dba-c010-45fe-8818-fc704099aec2"
      },
      "outputs": [
        {
          "data": {
            "text/html": [
              "<div>\n",
              "<style scoped>\n",
              "    .dataframe tbody tr th:only-of-type {\n",
              "        vertical-align: middle;\n",
              "    }\n",
              "\n",
              "    .dataframe tbody tr th {\n",
              "        vertical-align: top;\n",
              "    }\n",
              "\n",
              "    .dataframe thead th {\n",
              "        text-align: right;\n",
              "    }\n",
              "</style>\n",
              "<table border=\"1\" class=\"dataframe\">\n",
              "  <thead>\n",
              "    <tr style=\"text-align: right;\">\n",
              "      <th></th>\n",
              "      <th>Date</th>\n",
              "      <th>Open</th>\n",
              "      <th>High</th>\n",
              "      <th>Low</th>\n",
              "      <th>Close</th>\n",
              "      <th>Adj Close</th>\n",
              "      <th>Volume</th>\n",
              "    </tr>\n",
              "  </thead>\n",
              "  <tbody>\n",
              "    <tr>\n",
              "      <th>0</th>\n",
              "      <td>2014-09-17</td>\n",
              "      <td>465.864014</td>\n",
              "      <td>468.174011</td>\n",
              "      <td>452.421997</td>\n",
              "      <td>457.334015</td>\n",
              "      <td>457.334015</td>\n",
              "      <td>21056800</td>\n",
              "    </tr>\n",
              "    <tr>\n",
              "      <th>1</th>\n",
              "      <td>2014-09-18</td>\n",
              "      <td>456.859985</td>\n",
              "      <td>456.859985</td>\n",
              "      <td>413.104004</td>\n",
              "      <td>424.440002</td>\n",
              "      <td>424.440002</td>\n",
              "      <td>34483200</td>\n",
              "    </tr>\n",
              "    <tr>\n",
              "      <th>2</th>\n",
              "      <td>2014-09-19</td>\n",
              "      <td>424.102997</td>\n",
              "      <td>427.834991</td>\n",
              "      <td>384.532013</td>\n",
              "      <td>394.795990</td>\n",
              "      <td>394.795990</td>\n",
              "      <td>37919700</td>\n",
              "    </tr>\n",
              "    <tr>\n",
              "      <th>3</th>\n",
              "      <td>2014-09-20</td>\n",
              "      <td>394.673004</td>\n",
              "      <td>423.295990</td>\n",
              "      <td>389.882996</td>\n",
              "      <td>408.903992</td>\n",
              "      <td>408.903992</td>\n",
              "      <td>36863600</td>\n",
              "    </tr>\n",
              "    <tr>\n",
              "      <th>4</th>\n",
              "      <td>2014-09-21</td>\n",
              "      <td>408.084991</td>\n",
              "      <td>412.425995</td>\n",
              "      <td>393.181000</td>\n",
              "      <td>398.821014</td>\n",
              "      <td>398.821014</td>\n",
              "      <td>26580100</td>\n",
              "    </tr>\n",
              "  </tbody>\n",
              "</table>\n",
              "</div>"
            ],
            "text/plain": [
              "         Date        Open        High         Low       Close   Adj Close  \\\n",
              "0  2014-09-17  465.864014  468.174011  452.421997  457.334015  457.334015   \n",
              "1  2014-09-18  456.859985  456.859985  413.104004  424.440002  424.440002   \n",
              "2  2014-09-19  424.102997  427.834991  384.532013  394.795990  394.795990   \n",
              "3  2014-09-20  394.673004  423.295990  389.882996  408.903992  408.903992   \n",
              "4  2014-09-21  408.084991  412.425995  393.181000  398.821014  398.821014   \n",
              "\n",
              "     Volume  \n",
              "0  21056800  \n",
              "1  34483200  \n",
              "2  37919700  \n",
              "3  36863600  \n",
              "4  26580100  "
            ]
          },
          "execution_count": 106,
          "metadata": {},
          "output_type": "execute_result"
        }
      ],
      "source": [
        "df = pd.read_csv('BTC-USD.csv')\n",
        "df.head()"
      ]
    },
    {
      "cell_type": "code",
      "execution_count": 107,
      "metadata": {
        "colab": {
          "base_uri": "https://localhost:8080/",
          "height": 241
        },
        "id": "taAq-m-ywZcY",
        "outputId": "5996f67d-2779-464e-8bb2-3c33c8def880"
      },
      "outputs": [
        {
          "name": "stdout",
          "output_type": "stream",
          "text": [
            "2713 2713\n",
            "2713\n"
          ]
        },
        {
          "data": {
            "text/html": [
              "<div>\n",
              "<style scoped>\n",
              "    .dataframe tbody tr th:only-of-type {\n",
              "        vertical-align: middle;\n",
              "    }\n",
              "\n",
              "    .dataframe tbody tr th {\n",
              "        vertical-align: top;\n",
              "    }\n",
              "\n",
              "    .dataframe thead th {\n",
              "        text-align: right;\n",
              "    }\n",
              "</style>\n",
              "<table border=\"1\" class=\"dataframe\">\n",
              "  <thead>\n",
              "    <tr style=\"text-align: right;\">\n",
              "      <th></th>\n",
              "      <th>Date</th>\n",
              "      <th>Open</th>\n",
              "      <th>High</th>\n",
              "      <th>Low</th>\n",
              "      <th>Close</th>\n",
              "      <th>Volume</th>\n",
              "    </tr>\n",
              "  </thead>\n",
              "  <tbody>\n",
              "    <tr>\n",
              "      <th>0</th>\n",
              "      <td>2014-09-17</td>\n",
              "      <td>465.864014</td>\n",
              "      <td>468.174011</td>\n",
              "      <td>452.421997</td>\n",
              "      <td>457.334015</td>\n",
              "      <td>21056800</td>\n",
              "    </tr>\n",
              "    <tr>\n",
              "      <th>1</th>\n",
              "      <td>2014-09-18</td>\n",
              "      <td>456.859985</td>\n",
              "      <td>456.859985</td>\n",
              "      <td>413.104004</td>\n",
              "      <td>424.440002</td>\n",
              "      <td>34483200</td>\n",
              "    </tr>\n",
              "    <tr>\n",
              "      <th>2</th>\n",
              "      <td>2014-09-19</td>\n",
              "      <td>424.102997</td>\n",
              "      <td>427.834991</td>\n",
              "      <td>384.532013</td>\n",
              "      <td>394.795990</td>\n",
              "      <td>37919700</td>\n",
              "    </tr>\n",
              "    <tr>\n",
              "      <th>3</th>\n",
              "      <td>2014-09-20</td>\n",
              "      <td>394.673004</td>\n",
              "      <td>423.295990</td>\n",
              "      <td>389.882996</td>\n",
              "      <td>408.903992</td>\n",
              "      <td>36863600</td>\n",
              "    </tr>\n",
              "    <tr>\n",
              "      <th>4</th>\n",
              "      <td>2014-09-21</td>\n",
              "      <td>408.084991</td>\n",
              "      <td>412.425995</td>\n",
              "      <td>393.181000</td>\n",
              "      <td>398.821014</td>\n",
              "      <td>26580100</td>\n",
              "    </tr>\n",
              "  </tbody>\n",
              "</table>\n",
              "</div>"
            ],
            "text/plain": [
              "         Date        Open        High         Low       Close    Volume\n",
              "0  2014-09-17  465.864014  468.174011  452.421997  457.334015  21056800\n",
              "1  2014-09-18  456.859985  456.859985  413.104004  424.440002  34483200\n",
              "2  2014-09-19  424.102997  427.834991  384.532013  394.795990  37919700\n",
              "3  2014-09-20  394.673004  423.295990  389.882996  408.903992  36863600\n",
              "4  2014-09-21  408.084991  412.425995  393.181000  398.821014  26580100"
            ]
          },
          "execution_count": 107,
          "metadata": {},
          "output_type": "execute_result"
        }
      ],
      "source": [
        "# We don't need the \"Adj Close\" column because this column is the same as the \"Close\" column,\n",
        "# we are going to check it before earasing to make sure our assumption is true.\n",
        "print(df['Adj Close'].count(), df['Close'].count()) # In this line we can see that the number of lines in both of the columns is equal\n",
        "print(len(df[\"Close\"] == df[\"Adj Close\"])) # and in this line we compared between those columns and get as result that all lines are equal\n",
        "# thus, we can remove \"Asj Close\" column\n",
        "df = df.drop(['Adj Close'], axis = 1)\n",
        "df.head()"
      ]
    },
    {
      "cell_type": "code",
      "execution_count": 108,
      "metadata": {},
      "outputs": [],
      "source": [
        "# now we want to change the 'Close' column to be 'Open_Close_Gap' column because,\n",
        "# it's more common to predict the mean between the Open price and the Close price\n",
        "df['Close'].rename('Open_Close_Gap')\n",
        "df['Open_Close_Gap'] = (df['Open'] - df['Close'])\n",
        "df = df.drop(['Close'], axis=1)"
      ]
    },
    {
      "cell_type": "code",
      "execution_count": 109,
      "metadata": {
        "colab": {
          "base_uri": "https://localhost:8080/"
        },
        "id": "X_nzRG4_w9ow",
        "outputId": "380384ab-b2d1-4277-e47e-938036c2120e"
      },
      "outputs": [
        {
          "name": "stdout",
          "output_type": "stream",
          "text": [
            "<class 'pandas.core.frame.DataFrame'>\n",
            "RangeIndex: 2713 entries, 0 to 2712\n",
            "Data columns (total 6 columns):\n",
            " #   Column          Non-Null Count  Dtype  \n",
            "---  ------          --------------  -----  \n",
            " 0   Date            2713 non-null   object \n",
            " 1   Open            2713 non-null   float64\n",
            " 2   High            2713 non-null   float64\n",
            " 3   Low             2713 non-null   float64\n",
            " 4   Volume          2713 non-null   int64  \n",
            " 5   Open_Close_Gap  2713 non-null   float64\n",
            "dtypes: float64(4), int64(1), object(1)\n",
            "memory usage: 127.3+ KB\n"
          ]
        }
      ],
      "source": [
        "# In the code below we will see that our dataframe uses an object column which is not good\n",
        "# because we need a numeric dataframe so, we convert this column to int64 type\n",
        "# by removing the '-' char\n",
        "df.info()"
      ]
    },
    {
      "cell_type": "code",
      "execution_count": 110,
      "metadata": {
        "colab": {
          "base_uri": "https://localhost:8080/"
        },
        "id": "3VTJfZLvEk4M",
        "outputId": "0de7ab1b-d8df-4dc4-9710-9231896f9e03"
      },
      "outputs": [
        {
          "name": "stderr",
          "output_type": "stream",
          "text": [
            "C:\\Users\\elone\\AppData\\Local\\Temp\\ipykernel_26820\\84532947.py:1: FutureWarning: Series.__getitem__ treating keys as positions is deprecated. In a future version, integer keys will always be treated as labels (consistent with DataFrame behavior). To access a value by position, use `ser.iloc[pos]`\n",
            "  int(df.iloc[1][0].replace('-', ''))\n"
          ]
        },
        {
          "data": {
            "text/plain": [
              "20140918"
            ]
          },
          "execution_count": 110,
          "metadata": {},
          "output_type": "execute_result"
        }
      ],
      "source": [
        "int(df.iloc[1][0].replace('-', ''))"
      ]
    },
    {
      "cell_type": "code",
      "execution_count": 111,
      "metadata": {
        "id": "wujuLZPoHIhx"
      },
      "outputs": [],
      "source": [
        "df[\"Date\"] = df[\"Date\"].apply(lambda x: x.replace('-','')).apply(pd.to_numeric)"
      ]
    },
    {
      "cell_type": "code",
      "execution_count": 112,
      "metadata": {
        "colab": {
          "base_uri": "https://localhost:8080/",
          "height": 431
        },
        "id": "h1BUpUrpH_Oc",
        "outputId": "b33e332f-07fc-469c-cbb4-0e8bbb648437"
      },
      "outputs": [
        {
          "name": "stdout",
          "output_type": "stream",
          "text": [
            "<class 'pandas.core.frame.DataFrame'>\n",
            "RangeIndex: 2713 entries, 0 to 2712\n",
            "Data columns (total 6 columns):\n",
            " #   Column          Non-Null Count  Dtype  \n",
            "---  ------          --------------  -----  \n",
            " 0   Date            2713 non-null   int64  \n",
            " 1   Open            2713 non-null   float64\n",
            " 2   High            2713 non-null   float64\n",
            " 3   Low             2713 non-null   float64\n",
            " 4   Volume          2713 non-null   int64  \n",
            " 5   Open_Close_Gap  2713 non-null   float64\n",
            "dtypes: float64(4), int64(2)\n",
            "memory usage: 127.3 KB\n"
          ]
        },
        {
          "data": {
            "text/html": [
              "<div>\n",
              "<style scoped>\n",
              "    .dataframe tbody tr th:only-of-type {\n",
              "        vertical-align: middle;\n",
              "    }\n",
              "\n",
              "    .dataframe tbody tr th {\n",
              "        vertical-align: top;\n",
              "    }\n",
              "\n",
              "    .dataframe thead th {\n",
              "        text-align: right;\n",
              "    }\n",
              "</style>\n",
              "<table border=\"1\" class=\"dataframe\">\n",
              "  <thead>\n",
              "    <tr style=\"text-align: right;\">\n",
              "      <th></th>\n",
              "      <th>Date</th>\n",
              "      <th>Open</th>\n",
              "      <th>High</th>\n",
              "      <th>Low</th>\n",
              "      <th>Volume</th>\n",
              "      <th>Open_Close_Gap</th>\n",
              "    </tr>\n",
              "  </thead>\n",
              "  <tbody>\n",
              "    <tr>\n",
              "      <th>0</th>\n",
              "      <td>20140917</td>\n",
              "      <td>465.864014</td>\n",
              "      <td>468.174011</td>\n",
              "      <td>452.421997</td>\n",
              "      <td>21056800</td>\n",
              "      <td>8.529999</td>\n",
              "    </tr>\n",
              "    <tr>\n",
              "      <th>1</th>\n",
              "      <td>20140918</td>\n",
              "      <td>456.859985</td>\n",
              "      <td>456.859985</td>\n",
              "      <td>413.104004</td>\n",
              "      <td>34483200</td>\n",
              "      <td>32.419983</td>\n",
              "    </tr>\n",
              "    <tr>\n",
              "      <th>2</th>\n",
              "      <td>20140919</td>\n",
              "      <td>424.102997</td>\n",
              "      <td>427.834991</td>\n",
              "      <td>384.532013</td>\n",
              "      <td>37919700</td>\n",
              "      <td>29.307007</td>\n",
              "    </tr>\n",
              "    <tr>\n",
              "      <th>3</th>\n",
              "      <td>20140920</td>\n",
              "      <td>394.673004</td>\n",
              "      <td>423.295990</td>\n",
              "      <td>389.882996</td>\n",
              "      <td>36863600</td>\n",
              "      <td>-14.230988</td>\n",
              "    </tr>\n",
              "    <tr>\n",
              "      <th>4</th>\n",
              "      <td>20140921</td>\n",
              "      <td>408.084991</td>\n",
              "      <td>412.425995</td>\n",
              "      <td>393.181000</td>\n",
              "      <td>26580100</td>\n",
              "      <td>9.263977</td>\n",
              "    </tr>\n",
              "  </tbody>\n",
              "</table>\n",
              "</div>"
            ],
            "text/plain": [
              "       Date        Open        High         Low    Volume  Open_Close_Gap\n",
              "0  20140917  465.864014  468.174011  452.421997  21056800        8.529999\n",
              "1  20140918  456.859985  456.859985  413.104004  34483200       32.419983\n",
              "2  20140919  424.102997  427.834991  384.532013  37919700       29.307007\n",
              "3  20140920  394.673004  423.295990  389.882996  36863600      -14.230988\n",
              "4  20140921  408.084991  412.425995  393.181000  26580100        9.263977"
            ]
          },
          "execution_count": 112,
          "metadata": {},
          "output_type": "execute_result"
        }
      ],
      "source": [
        "# Now, after we convert the \"Date\" column to numeric type, we can see the new data as request\n",
        "df.info()\n",
        "df.head()"
      ]
    },
    {
      "cell_type": "code",
      "execution_count": 113,
      "metadata": {},
      "outputs": [
        {
          "data": {
            "image/png": "[encoded data removed]",
            "text/plain": [
              "<Figure size 1200x600 with 1 Axes>"
            ]
          },
          "metadata": {},
          "output_type": "display_data"
        }
      ],
      "source": [
        "# Set 'Date' as the index\n",
        "df.set_index('Date', inplace=True)\n",
        "\n",
        "# Plot the data\n",
        "df[['Open', 'High', 'Low', 'Open_Close_Gap']].plot(kind='line', figsize=(12,6))\n",
        "plt.title('Stock price over time')\n",
        "plt.ylabel('Price')\n",
        "plt.show()\n",
        "\n",
        "\n"
      ]
    },
    {
      "cell_type": "code",
      "execution_count": 114,
      "metadata": {},
      "outputs": [
        {
          "data": {
            "image/png": "[encoded data removed]",
            "text/plain": [
              "<Figure size 640x480 with 2 Axes>"
            ]
          },
          "metadata": {},
          "output_type": "display_data"
        }
      ],
      "source": [
        "# Calculate the correlation matrix\n",
        "df = df.reset_index()\n",
        "corr = df[['Date', 'Open', 'High', 'Low', 'Volume', 'Open_Close_Gap']].corr()\n",
        "\n",
        "# Plot the heatmap\n",
        "sns.heatmap(corr, annot=True, cmap='coolwarm')\n",
        "plt.title('Correlation Heatmap')\n",
        "plt.show()\n"
      ]
    },
    {
      "cell_type": "markdown",
      "metadata": {},
      "source": [
        "High correlation coefficients (close to +1 or -1) between two or more variables indicate high multicollinearity which means that our data has high multicollinearity which is not good because it means that two or more explanatory variables in a multiple regression model are highly linearly related.\n",
        "\n",
        "We check the multicollinearity with another technique called Variance Inflation Factor (VIF) which is indicate how much the variance is inflated due to multicollinearity."
      ]
    },
    {
      "cell_type": "code",
      "execution_count": 115,
      "metadata": {},
      "outputs": [
        {
          "name": "stdout",
          "output_type": "stream",
          "text": [
            "  features          VIF\n",
            "0     Date     1.626099\n",
            "1     Open  1271.779503\n",
            "2     High  1302.971806\n",
            "3      Low   690.369679\n",
            "4   Volume     3.795683\n"
          ]
        }
      ],
      "source": [
        "X = df.drop(['Open_Close_Gap'], axis=1)\n",
        "\n",
        "# Assuming X is your feature matrix\n",
        "vif = pd.DataFrame()\n",
        "vif[\"features\"] = X.columns\n",
        "vif[\"VIF\"] = [variance_inflation_factor(X.values, i) for i in range(X.shape[1])]\n",
        "print(vif)\n"
      ]
    },
    {
      "cell_type": "markdown",
      "metadata": {},
      "source": [
        "open: The VIF of 1899.216794 suggests a high degree of multicollinearity with the other variables.\n",
        "high: Similarly, a VIF of 1933.193722 also indicates high multicollinearity.\n",
        "low: A VIF of 1017.898356 is also high, suggesting this variable is highly correlated with others.\n",
        "volume: A VIF of 3.492894 is relatively low compared to the others, suggesting less multicollinearity.\n",
        "\n",
        "Generally, a VIF above 5 or 10 indicates high multicollinearity that might be problematic for our model. With this case, the “open”, “high”, and “low” features have high VIF values, suggesting they are highly correlated with each other.\n",
        "\n",
        "We should use techinques to handle the high multicollinearity, one way we learned in the class is the \"Regularization\" technique, we will use it to make our data less multicollinearity."
      ]
    },
    {
      "cell_type": "markdown",
      "metadata": {},
      "source": [
        "# Regularization"
      ]
    },
    {
      "cell_type": "markdown",
      "metadata": {},
      "source": [
        "# TODO"
      ]
    },
    {
      "cell_type": "markdown",
      "metadata": {
        "id": "H5AP4t-qA-aZ"
      },
      "source": [
        "$\\sigma = \\sqrt(\\mu_2) = \\sqrt(1/n \\sum(x_i - x')^2)$\n",
        "\n",
        "$𝜇^{𝑙,𝑗}= \\frac{1}{m} ∑_{𝑖=0}^{𝑚}{𝑧_𝑖^{𝑙,𝑗}}$ \n",
        "\n",
        "$𝜎^{𝑙,𝑗}=\\sqrt{∑_{𝑖=0}^𝑚(𝑧_𝑖^{𝑙,𝑗}−𝜇^(𝑙,𝑗) )^2 }$\n",
        "\n",
        "$\\overline{𝑧_𝑖^{𝑙,𝑗}} ̂= \\frac{𝑧_𝑖^{𝑙,𝑗}−𝜇^{𝑙,𝑗}}{𝜎^{𝑙,𝑗}+𝜖} $\n"
      ]
    },
    {
      "cell_type": "code",
      "execution_count": 116,
      "metadata": {
        "colab": {
          "base_uri": "https://localhost:8080/"
        },
        "id": "whb9B9lmq0Fi",
        "outputId": "d4a40c9e-1888-48d0-d78c-b15e075e6718"
      },
      "outputs": [
        {
          "name": "stdout",
          "output_type": "stream",
          "text": [
            "Training set size: 2170\n",
            "Testing set size: 543\n"
          ]
        }
      ],
      "source": [
        "X = df.drop(['Open_Close_Gap'], axis=1)\n",
        "y = df['Open_Close_Gap']\n",
        "\n",
        "X_train, X_test, y_train, y_test = train_test_split(X, y, test_size=0.2, random_state=42)\n",
        "\n",
        "print(\"Training set size:\", len(X_train))\n",
        "print(\"Testing set size:\", len(X_test))\n"
      ]
    },
    {
      "cell_type": "markdown",
      "metadata": {},
      "source": [
        "# Normalization"
      ]
    },
    {
      "cell_type": "code",
      "execution_count": 117,
      "metadata": {},
      "outputs": [],
      "source": [
        "def normalize_data(X_train, y_train, X_test, y_test):\n",
        "    \"\"\"\n",
        "    This function normalizes the training and test data using the mean and variance of the training data.\n",
        "    \n",
        "    Parameters:\n",
        "    X_train (DataFrame): The training data\n",
        "    y_train (Series): The target values for the training data\n",
        "    X_test (DataFrame): The test data\n",
        "    y_test (Series): The target values for the test data\n",
        "    \n",
        "    Returns:\n",
        "    DataFrame, Series, DataFrame, Series: The normalized training data, training target values, test data, and test target values\n",
        "    \"\"\"\n",
        "    # Convert the dataframes to numpy arrays\n",
        "    train_np = X_train.values\n",
        "    test_np = X_test.values\n",
        "\n",
        "    # Convert the series to numpy arrays\n",
        "    y_train_np = y_train.values.reshape(-1, 1)\n",
        "    y_test_np = y_test.values.reshape(-1, 1)\n",
        "\n",
        "    # Create TensorFlow placeholders\n",
        "    train_placeholder = tf.placeholder(tf.float32, shape=train_np.shape)\n",
        "    test_placeholder = tf.placeholder(tf.float32, shape=test_np.shape)\n",
        "    y_train_placeholder = tf.placeholder(tf.float32, shape=y_train_np.shape)\n",
        "    y_test_placeholder = tf.placeholder(tf.float32, shape=y_test_np.shape)\n",
        "\n",
        "    # Define the normalization function\n",
        "    def normalize(x, mean, variance):\n",
        "        return (x - mean) / tf.sqrt(variance)\n",
        "\n",
        "    # Normalize the data\n",
        "    with tf.Session() as sess:\n",
        "        sess.run(tf.global_variables_initializer())\n",
        "        \n",
        "        # Compute mean and variance from training data\n",
        "        train_mean, train_variance = sess.run(tf.nn.moments(train_placeholder, axes=[0]), feed_dict={train_placeholder: train_np})\n",
        "        \n",
        "        # Normalize training data\n",
        "        train_normalized = sess.run(normalize(train_placeholder, train_mean, train_variance), feed_dict={train_placeholder: train_np})\n",
        "        \n",
        "        # Normalize test data using mean and variance from training data\n",
        "        test_normalized = sess.run(normalize(test_placeholder, train_mean, train_variance), feed_dict={test_placeholder: test_np})\n",
        "        \n",
        "        # Normalize y_train and y_test similarly\n",
        "        y_train_mean, y_train_variance = sess.run(tf.nn.moments(y_train_placeholder, axes=[0]), feed_dict={y_train_placeholder: y_train_np})\n",
        "        y_train_normalized = sess.run(normalize(y_train_placeholder, y_train_mean, y_train_variance), feed_dict={y_train_placeholder: y_train_np})\n",
        "        y_test_normalized = sess.run(normalize(y_test_placeholder, y_train_mean, y_train_variance), feed_dict={y_test_placeholder: y_test_np})\n",
        "\n",
        "    # Convert the normalized numpy arrays back to pandas dataframes\n",
        "    X_train_normalized = pd.DataFrame(train_normalized, columns=X_train.columns)\n",
        "    X_test_normalized = pd.DataFrame(test_normalized, columns=X_test.columns)\n",
        "\n",
        "    # Convert the normalized numpy arrays back to pandas series\n",
        "    y_train_normalized = pd.Series(y_train_normalized.flatten(), index=y_train.index)\n",
        "    y_test_normalized = pd.Series(y_test_normalized.flatten(), index=y_test.index)\n",
        "\n",
        "    return X_train_normalized, y_train_normalized, X_test_normalized, y_test_normalized\n"
      ]
    },
    {
      "cell_type": "code",
      "execution_count": 118,
      "metadata": {},
      "outputs": [
        {
          "name": "stdout",
          "output_type": "stream",
          "text": [
            "Training set size: 2170\n",
            "Testing set size: 543\n"
          ]
        }
      ],
      "source": [
        "X_train_normalized, y_train_normalized, X_test_normalized, y_test_normalized = normalize_data(X_train, y_train, X_test, y_test)\n",
        "print(\"Training set size:\", len(X_train_normalized))\n",
        "print(\"Testing set size:\", len(X_test_normalized))\n"
      ]
    },
    {
      "cell_type": "markdown",
      "metadata": {},
      "source": [
        "# Model training\n",
        "Models that represented in the code: Linear regression, ANN - neural network model, dummy regressor model - to compare our model to that dummy model"
      ]
    },
    {
      "cell_type": "code",
      "execution_count": 119,
      "metadata": {
        "colab": {
          "base_uri": "https://localhost:8080/"
        },
        "id": "T1R6ijbSvHTe",
        "outputId": "a12c39cd-32db-4563-f372-7bb128fc39b9"
      },
      "outputs": [],
      "source": [
        "# to extract the numebr of features in out dataset we need to index to the\n",
        "# second element in the shape of the dataframe which is the number of columns\n",
        "# in our dataframe and -1 for the features without the label\n",
        "def train_linear_regression(X_train, y_train, learning_rate=0.001, epochs=100000):\n",
        "    \"\"\"\n",
        "    This function trains a linear regression model using TensorFlow.\n",
        "    \n",
        "    Parameters:\n",
        "    X_train (DataFrame): The training data\n",
        "    y_train (Series): The target values for the training data\n",
        "    learning_rate (float): The learning rate for the optimizer\n",
        "    epochs (int): The number of epochs to train the model\n",
        "    \n",
        "    Returns:\n",
        "    sess (tf.Session): The TensorFlow session\n",
        "    pred (Tensor): The prediction tensor\n",
        "    x (tf.placeholder): The placeholder for the input data\n",
        "    \"\"\"\n",
        "    features = X_train.shape[1]\n",
        "    x = tf.placeholder(tf.float32, [None, features])\n",
        "    y = tf.placeholder(tf.float32, [None, 1])\n",
        "    W = tf.Variable(tf.zeros([features,1]))\n",
        "    b = tf.Variable(tf.zeros([1]))\n",
        "    pred = tf.matmul(x,W) + b\n",
        "    loss = tf.reduce_mean(tf.square(pred - y))\n",
        "    update = tf.train.GradientDescentOptimizer(learning_rate).minimize(loss)\n",
        "    data_x = X_train.values\n",
        "    data_y = y_train.values.reshape(-1, 1)\n",
        "    sess = tf.Session()\n",
        "    sess.run(tf.global_variables_initializer())\n",
        "    for i in range(0, epochs):\n",
        "        sess.run(update, feed_dict = {x: data_x, y: data_y})\n",
        "        if i % 10000 == 0:\n",
        "            print('Iteration:' , i , ' W:' , sess.run(W) , ' b:' , sess.run(b), ' loss:', loss.eval(session=sess, feed_dict = {x: data_x, y: data_y}))\n",
        "    return sess, pred, x"
      ]
    },
    {
      "cell_type": "code",
      "execution_count": 120,
      "metadata": {
        "colab": {
          "base_uri": "https://localhost:8080/"
        },
        "id": "v7XVE4ZzGuvP",
        "outputId": "76ad1a30-90e3-4c48-ed99-43680562221b"
      },
      "outputs": [],
      "source": [
        "def train_neural_network(X_train, y_train, learning_rate=0.00001, epochs=100000):\n",
        "    \"\"\"\n",
        "    This function trains a neural network with one hidden layer using TensorFlow.\n",
        "    \n",
        "    Parameters:\n",
        "    X_train (DataFrame): The training data\n",
        "    y_train (Series): The target values for the training data\n",
        "    learning_rate (float): The learning rate for the optimizer\n",
        "    epochs (int): The number of epochs to train the model\n",
        "    \n",
        "    Returns:\n",
        "    sess (tf.Session): The TensorFlow session\n",
        "    pred (Tensor): The prediction tensor\n",
        "    x (tf.placeholder): The placeholder for the input data\n",
        "    \"\"\"\n",
        "    features = X_train.shape[1]\n",
        "    x = tf.placeholder(tf.float32, [None, features])\n",
        "    y = tf.placeholder(tf.float32, [None, 1])\n",
        "    W1 = tf.Variable(tf.random_normal([features, 10]))\n",
        "    b1 = tf.Variable(tf.zeros([10]))\n",
        "    W2 = tf.Variable(tf.random_normal([10, 1]))\n",
        "    b2 = tf.Variable(tf.zeros([1]))\n",
        "    hidden_layer = tf.nn.relu(tf.matmul(x, W1) + b1)\n",
        "    pred = tf.matmul(hidden_layer, W2) + b2\n",
        "    loss = tf.reduce_mean(tf.square(pred - y))\n",
        "    optimizer = tf.train.GradientDescentOptimizer(learning_rate).minimize(loss)\n",
        "    data_x = X_train.values\n",
        "    data_y = y_train.values.reshape(-1, 1)\n",
        "    sess = tf.Session()\n",
        "    sess.run(tf.global_variables_initializer())\n",
        "    for epoch in range(0, epochs):\n",
        "        _, c = sess.run([optimizer, loss], feed_dict={x: data_x, y: data_y})\n",
        "        if epoch % 1000 == 0:\n",
        "            print(\"Epoch:\", '%04d' % (epoch), \"cost=\", \"{:.9f}\".format(c))\n",
        "    return sess, pred, x"
      ]
    },
    {
      "cell_type": "markdown",
      "metadata": {},
      "source": [
        "# Replace the Built-in dummy model with our dummy model, predicting 0 for the Open_Close_Gap"
      ]
    },
    {
      "cell_type": "markdown",
      "metadata": {},
      "source": [
        "#### Create dummy model"
      ]
    },
    {
      "cell_type": "code",
      "execution_count": 121,
      "metadata": {},
      "outputs": [],
      "source": [
        "def dummy_regressor(y_train):\n",
        "    \"\"\"\n",
        "    This function creates a dummy regressor that predicts the mean value of the target variable.\n",
        "    \n",
        "    Parameters:\n",
        "    X_train (DataFrame): The training data\n",
        "    y_train (Series): The target values for the training data\n",
        "    \n",
        "    Returns:\n",
        "    y_pred (ndarray): The predicted values\n",
        "    \"\"\"\n",
        "    y_pred = [(np.random.uniform(-1,1)) for i in range(len(y_train))]\n",
        "    return y_pred"
      ]
    },
    {
      "cell_type": "code",
      "execution_count": 122,
      "metadata": {},
      "outputs": [
        {
          "name": "stdout",
          "output_type": "stream",
          "text": [
            "y_dummy_pred: [0.12240077593600018, 0.6012896174247289, 0.8055139927474644, -0.5211196032534944, -0.5637035220019744, -0.049599423088346306, 0.9663034935547083, -0.6509491523131647, 0.045186718169949014, -0.43836301538097966, -0.0349710915579422, -0.4804148890077573, 0.9282798808832673, -0.3590053384528229, -0.48169788998206786, 0.8586986500696143, -0.6622975343712187, 0.22946681751120668, -0.7305441766803216, -0.4064780516093278, -0.8213832662758969, -0.6847704105979822, 0.060000786812018925, -0.7771757371176795, 0.4501587121088153, -0.5156121314245052, 0.4335308318318212, -0.8843056228421011, 0.9319989237833599, 0.6465090182749105, -0.03051877919755097, 0.023659935567206913, 0.13837890682350884, 0.9692575410231623, -0.8077935293604717, 0.7520280664813082, -0.4492612476124793, 0.10958473407241742, 0.26500996447574554, -0.17424532448085084, -0.03175837229219325, -0.4376908401558577, 0.06791167904677575, 0.47121899822385616, 0.6033590371505384, -0.9230002537204756, -0.43766035810753556, 0.5776776815639673, -0.4719637407559161, -0.1297632888294824, -0.26531476620895167, -0.5521662172377844, 0.42003031441347316, 0.17929621938439833, 0.1558937989685918, 0.7255343352507533, -0.6933906660999878, 0.8180677065348143, -0.7301088056259657, 0.7585450098643503, -0.2636043601421212, 0.05702721542365308, -0.7429076251109601, -0.13176156337657807, -0.2759792949301376, 0.8633864059548091, -0.5654418668629397, -0.23995919458870163, -0.15027009159331617, -0.4386645702653953, 0.6241987435047422, 0.18889239351159426, 0.940329887802378, 0.41799423693146687, -0.6497124918078245, -0.2654821586005871, 0.20606265144270153, -0.7986436819373133, -0.8190569628872604, 0.3940530802168243, 0.4750656468831136, -0.4057171130213566, 0.18902525503296252, -0.6493878698137825, 0.9352018748680786, 0.32362458572745534, 0.10387484375711886, 0.604054866055588, -0.8407536111524718, 0.13616765799241204, -0.32956381775943644, -0.1417993220177578, 0.7032520879127611, -0.19622544296940325, 0.5962020509682919, 0.7869046781313427, -0.7075926607970355, -0.9711694315464152, -0.7517357299204268, 0.8839211218432905, -0.9860864303475092, 0.3634056171715372, 0.8447148534629654, -0.4887378950257386, 0.4896322071539507, 0.4729847499196791, 0.6316904690566709, -0.2730670648228506, 0.6792262434946024, -0.6180953638427928, 0.9157937529353364, 0.6820725873355722, 0.18730922254232185, 0.45496918498432404, 0.04077454099361799, -0.026142348475272525, 0.8301954329044161, 0.8041728770211116, 0.045974599610054234, -0.07478348706294335, -0.2819354859205516, 0.5112268184426905, 0.8980544985715451, -0.7580202344719804, -0.48267914943903656, 0.8604552763129887, 0.7521791858627098, -0.9139715538158868, 0.05176310865680156, -0.8371557751167262, -0.6423468126525556, -0.22688767181400027, -0.3574671076640028, 0.18688241742521017, -0.0733870664789098, -0.5679189597622272, 0.7467590982550221, -0.9869056223662358, 0.03457219544069323, -0.30465282163001794, -0.11847892549835004, 0.5701355413121969, -0.6528986824329692, -0.35515604152687064, -0.6828573356680787, 0.7362818388791024, -0.8486010042180199, 0.08725891998184698, 0.654315209128745, 0.9728434546597418, -0.47499634458077633, 0.01946906608246346, -0.8332951233991368, -0.1037461234106889, 0.1422074414012846, -0.5884687702596452, -0.9610527469569401, -0.5093634161479577, 0.7039481934820264, -0.45504504501442633, -0.8951817606392316, -0.09578729434402034, -0.7301676858080117, -0.45398210884286616, 0.369079015446782, -0.3746220137843945, 0.5213980135499989, -0.5657236683374007, -0.5441685579410216, -0.9039838982989001, 0.38516253123019806, -0.8779380463465065, -0.1385452894721546, -0.0950375359569211, -0.8654651556979156, 0.6343460051378902, -0.6814786178765451, 0.7522199263294922, 0.1305731890246542, 0.8227065556345285, 0.2324589459968711, -0.671718059866115, -0.7572213551006823, -0.8362963710358777, -0.5794737487141024, 0.1056391717268872, 0.04946535179439526, 0.2290684705540149, -0.998959098661889, 0.8216133134727084, 0.8726884347943915, 0.6148852449381899, -0.9967695732690725, -0.11771777879923362, -0.6260981777891999, -0.1466616143878936, -0.5770419363126502, -0.410351543169849, 0.8871061284848216, -0.12328510797180581, -0.7599872901471401, -0.7201772510933306, 0.4211023041204798, 0.16067937551197597, -0.624867233743988, -0.8479760235347931, -0.8175769735674248, -0.9133592307549252, 0.3965500649057587, 0.021063174903199533, 0.7072470109831877, 0.5324264198857271, 0.5312341496419601, -0.6706563888607489, 0.24713656699258468, 0.7530663641790358, -0.42133725913655473, 0.27236147944345146, -0.9021318556256124, 0.11415227270192685, 0.10001974765442112, -0.9159555580209169, -0.34261935944897104, -0.29237308504366966, 0.42805981687220784, 0.5338580699924012, -0.8118416726708766, -0.383890021460392, -0.9216131740447024, 0.9097692216289421, -0.08202437402302509, -0.20587394501573542, 0.3591599350359147, -0.9951268507525939, -0.2502630382624047, -0.46634556586141085, 0.36609207415960765, 0.1984586977094731, -0.05173340588443609, -0.9466480023176798, -0.3323549900064744, -0.6811311156664921, 0.40511177734829595, -0.42707505908340715, 0.377574628438756, 0.0401656272718498, 0.9489198080629031, -0.0005215876129158747, -0.7041798071467289, 0.5337633709927789, -0.24124273009168484, 0.6894952118292252, -0.36044930045861956, -0.9541918022018427, 0.8866639766875226, 0.3094450573202787, -0.1638048690190126, -0.3762359478647479, -0.4525199437339995, 0.6813709466219202, 0.9447919935236959, 0.10891222214564533, -0.569309764139061, -0.5207488980117567, -0.05219082963019428, 0.9977107121918989, -0.21106545224492934, 0.30654814628075155, 0.8064413604504632, 0.5835481312246769, 0.10361165284114615, 0.7707445807455129, 0.5777327958338658, 0.16849954478929408, -0.7282906386857879, 0.04124724723499873, -0.2761631021736415, 0.5666390419134912, 0.25411082848259525, -0.5941978184907193, 0.10616579592602093, 0.020384057270627753, 0.830177249707466, -0.9856253076203243, -0.10651623463515225, -0.10443490452023885, 0.36164228985020563, 0.531451883818369, -0.15187171197837923, 0.7547532896318545, 0.9911561078016069, -0.42759270009276085, 0.7403447954263118, -0.21619723716595574, 0.17849111645604987, 0.4946071282818061, -0.45880924315916927, -0.2035661722509441, -0.9593605711370434, -0.6641770769219677, -0.28869333255004714, 0.08317205011055617, 0.07298258337608732, 0.9419714922624902, -0.04518158018735052, -0.5835891983708699, -0.7080365621849982, 0.2628380030146782, 0.766514222877108, -0.9776901323000466, -0.7202908517355093, 0.8290548386874654, -0.08555318709792803, 0.7194884831146426, -0.15669490917027185, -0.11851201560022018, 0.3156169627214087, 0.4436573673221873, -0.9386643697395951, 0.9647225792275285, -0.1743878295943171, -0.20614210071000127, -0.8899365984362784, -0.1660165427896534, -0.06835069328614618, -0.8450552440847439, 0.15740810648283876, 0.30094794269058434, -0.7218909665356865, -0.9537253669878036, -0.5333968150739277, -0.8943289031379804, -0.17761583259942304, -0.41925416693730955, 0.01743791190728894, 0.9391866140191176, 0.1572164171387327, -0.8147333179281118, -0.9850938657394643, -0.23256004233524918, -0.9279018440844886, 0.7250718033907695, -0.6631093331551552, -0.6235797378144421, -0.2582357145748291, -0.6540244627522009, 0.03858382454328946, 0.5276947233610767, -0.8315627535597374, 0.34796265245748037, 0.40981545294680166, 0.42904047245340315, -0.8738438130578923, -0.2552620059900772, -0.694886435081586, -0.04466350132576258, 0.3253986306817225, -0.22275390752348478, 0.4099631558772363, -0.534977560020446, -0.1731102142958949, 0.39900799512858875, -0.48409640764132456, 0.32237112539155244, 0.20202003052666084, 0.7894147627047785, 0.25105631580691856, 0.2052272418283274, 0.2199775116340934, -0.4630576795845791, -0.9293540690319477, -0.07508048737973483, -0.6672723014806192, -0.6767280440946275, 0.03639687757713461, -0.3662408619148556, 0.372136159799741, -0.6516042295572697, 0.7651320193457674, -0.7600024617313823, 0.6671306735926228, 0.8492920696685082, 0.16674148294314506, 0.5011638848337283, 0.8420380358980684, 0.42630940366772063, 0.507127247693371, -0.4315660608875953, -0.9822622804677106, -0.8013715541097619, 0.31955165278743913, 0.9508926114867455, -0.848951517463703, 0.6379064960511271, 0.6589786340436425, -0.47436397275902453, 0.06675377871873778, -0.5372870709628439, 0.919389889075146, -0.8313345213763672, -0.36476984100163135, -0.12970831400244687, 0.902159084177864, -0.8174488988645072, -0.6736498264975386, -0.2846495809522569, -0.533758041303519, -0.33412088705777365, 0.14131472791060196, -0.006632632379235837, -0.1651424644790016, -0.46142636343252996, -0.7316246563839155, -0.3993994820903388, 0.33656437513702553, -0.5232470681644033, -0.07039798527855745, 0.9140542068454864, -0.6664428646733969, -0.8756013712813562, 0.35171331514727644, -0.5367954905493595, -0.4473184339479359, -0.6852839916351561, 0.990323059885605, -0.9814139887229516, -0.5867605310140809, 0.7697304638778963, 0.004201266537164239, -0.8111957440317832, -0.5435210381872602, 0.3122916529562816, -0.4407409061014611, 0.3017061258946607, 0.5130568270902394, -0.3154704491652771, -0.561596744096005, 0.8234085746741604, 0.4374501861017066, 0.20028678813955492, -0.18768511573212643, -0.13743890050007201, 0.6755010475014749, 0.828912013269417, 0.5970130062918639, -0.3548017011053062, 0.6099218937067021, -0.7130114012287927, 0.41474797597255586, -0.11148255925371187, -0.19318977937891124, 0.7603407619365747, -0.19183037993434593, 0.08826127865682754, -0.4286424807820852, 0.6088750603986373, -0.011747854820957526, 0.09961406868012124, 0.5935917860666464, 0.9186543161773237, 0.8342938767945887, -0.6677725128359533, 0.4885457932673378, -0.06286263061214337, 0.0686106190601623, -0.07050699174830855, 0.5283844449892303, -0.12629133105066925, 0.9646630556662887, -0.40739090482348006, -0.7568404611048187, 0.6504465176510603, -0.7229861829623978, 0.2157820617974766, 0.09340425885422543, 0.9934155218079974, 0.008329071132796573, 0.9825532041493501, -0.8524261352509901, 0.47582231974832445, 0.964225753175487, -0.774457435993525, 0.43091003132592554, -0.5285897117319476, -0.8827251868487405, 0.7106507762130305, -0.4039258630785776, -0.35909145024120814, -0.9704836078741144, 0.7525156703363991, 0.9255979651388424, -0.9354291665099237, 0.3197254206565334, 0.6944736478548432, -0.3068032609922695, 0.04771387051413134, 0.1145534803033803, -0.6547067082632698, -0.7075516358830913, -0.9036161073279265, 0.08609974846580637, -0.8313729993542063, 0.7328291337139234, -0.06567973318716791, -0.17461883476991158, -0.5064730371819426, -0.5813949800696996, 0.7875460306793376, -0.49663912613380967, -0.4753868212679695, 0.4343236090980156, -0.05668965613455823, 0.7975400338186898, 0.9342787087986995, -0.6610212890856124, -0.9249864550068598, -0.2936098779402301, -0.3242911334688847, 0.6216198941484368, 0.2114894241764369, 0.8711372826611432, -0.742974324569903, 0.05804908880590265, 0.1331832154145558, -0.13405981770965614, -0.10188263014057619, 0.3484063195320566, 0.644839074718774, -0.2131672478956499, -0.01828682611710386, -0.22390883604938927, -0.7833095866330453, 0.7515139455719686, -0.7833667167208487, -0.904020489810966, -0.07835131879243007, 0.2037713704147266, 0.35486153099282114, 0.8404522006372597, 0.8172265747806813, -0.18161448273555392, 0.5563859431936997, 0.7921117678212946]\n"
          ]
        }
      ],
      "source": [
        "dummy_pred = dummy_regressor(y_test_normalized)\n",
        "print(\"y_dummy_pred:\", dummy_pred)"
      ]
    },
    {
      "cell_type": "code",
      "execution_count": 125,
      "metadata": {},
      "outputs": [
        {
          "name": "stdout",
          "output_type": "stream",
          "text": [
            "Iteration: 0  W: [[1.5325583e-07]\n",
            " [9.2148247e-07]\n",
            " [4.5637913e-07]\n",
            " [2.7645589e-07]\n",
            " [8.5828509e-07]]  b: [-3.899913e-14]  loss: 1.0\n",
            "Iteration: 10000  W: [[-4.7068686e-05]\n",
            " [ 7.3672775e-03]\n",
            " [ 2.7130630e-03]\n",
            " [ 9.2351029e-04]\n",
            " [ 6.8600383e-03]]  b: [-5.371783e-08]  loss: 0.9988651\n",
            "Iteration: 20000  W: [[-0.00188768]\n",
            " [ 0.01257471]\n",
            " [ 0.00326256]\n",
            " [-0.00030071]\n",
            " [ 0.0116448 ]]  b: [1.9119229e-07]  loss: 0.99830633\n",
            "Iteration: 30000  W: [[-0.00440838]\n",
            " [ 0.0168788 ]\n",
            " [ 0.00290563]\n",
            " [-0.00241921]\n",
            " [ 0.01547894]]  b: [9.788026e-07]  loss: 0.99786305\n",
            "Iteration: 40000  W: [[-0.00714502]\n",
            " [ 0.02080592]\n",
            " [ 0.00216897]\n",
            " [-0.00490697]\n",
            " [ 0.018837  ]]  b: [2.317357e-06]  loss: 0.99745363\n",
            "Iteration: 50000  W: [[-0.00990601]\n",
            " [ 0.02457586]\n",
            " [ 0.00127325]\n",
            " [-0.00754421]\n",
            " [ 0.02192142]]  b: [4.133993e-06]  loss: 0.9970623\n",
            "Iteration: 60000  W: [[-0.01261285]\n",
            " [ 0.02828103]\n",
            " [ 0.00031086]\n",
            " [-0.01023933]\n",
            " [ 0.0248204 ]]  b: [6.3363527e-06]  loss: 0.996686\n",
            "Iteration: 70000  W: [[-0.01523551]\n",
            " [ 0.03196335]\n",
            " [-0.00067957]\n",
            " [-0.01295474]\n",
            " [ 0.02757311]]  b: [8.835697e-06]  loss: 0.9963224\n",
            "Iteration: 80000  W: [[-0.01776326]\n",
            " [ 0.03562618]\n",
            " [-0.00168194]\n",
            " [-0.0156742 ]\n",
            " [ 0.0301997 ]]  b: [1.155455e-05]  loss: 0.99597114\n",
            "Iteration: 90000  W: [[-0.02019283]\n",
            " [ 0.0392775 ]\n",
            " [-0.00268736]\n",
            " [-0.01839155]\n",
            " [ 0.0327129 ]]  b: [1.442776e-05]  loss: 0.9956311\n",
            "Epoch: 0000 cost= 6.037110806\n",
            "Epoch: 1000 cost= 4.771271706\n",
            "Epoch: 2000 cost= 3.990566492\n",
            "Epoch: 3000 cost= 3.474601984\n",
            "Epoch: 4000 cost= 3.100414991\n",
            "Epoch: 5000 cost= 2.812741041\n",
            "Epoch: 6000 cost= 2.584464788\n",
            "Epoch: 7000 cost= 2.399240971\n",
            "Epoch: 8000 cost= 2.246001720\n",
            "Epoch: 9000 cost= 2.118434191\n",
            "Linear Regression R-Squared score is: -0.009098117873280742 and MSE on the test set is: 0.9044236540794373\n",
            "Neural Network R-Squared score is: -1.0380318673999493 and MSE on the test set is: 1.8266254663467407\n",
            "Dummy Model R-Squared score is: -0.35547735646034506 and MSE on the test set is: 1.2148727436341609\n"
          ]
        }
      ],
      "source": [
        "# Train the models\n",
        "sess_linear, pred_linear, x_linear = train_linear_regression(X_train_normalized, y_train_normalized, learning_rate=0.00001, epochs=100000)\n",
        "sess_nn, pred_nn, x_nn = train_neural_network(X_train_normalized, y_train_normalized, learning_rate=0.00001, epochs=10000) \n",
        "\n",
        "# Make predictions\n",
        "y_pred_linear = sess_linear.run(pred_linear, feed_dict={x_linear: X_test_normalized.values})\n",
        "y_pred_nn = sess_nn.run(pred_nn, feed_dict={x_nn: X_test_normalized.values})\n",
        "\n",
        "# Calculate R-Squared score\n",
        "r2_linear = r2_score(y_test_normalized, y_pred_linear)\n",
        "r2_nn = r2_score(y_test_normalized, y_pred_nn)\n",
        "r2_dummy = r2_score(y_test_normalized, dummy_pred)\n",
        "\n",
        "mse_linear = mean_squared_error(y_test_normalized, y_pred_linear)\n",
        "mse_nn = mean_squared_error(y_test_normalized, y_pred_nn)\n",
        "mse_dummy = mean_squared_error(y_test_normalized, dummy_pred)\n",
        "\n",
        "print(f\"Linear Regression R-Squared score is: {r2_linear} and MSE on the test set is: {mse_linear}\")\n",
        "print(f\"Neural Network R-Squared score is: {r2_nn} and MSE on the test set is: {mse_nn}\")\n",
        "print(f\"Dummy Model R-Squared score is: {r2_dummy} and MSE on the test set is: {mse_dummy}\")"
      ]
    },
    {
      "cell_type": "markdown",
      "metadata": {},
      "source": [
        "# Comparison between models"
      ]
    },
    {
      "cell_type": "code",
      "execution_count": 124,
      "metadata": {},
      "outputs": [
        {
          "data": {
            "text/plain": [
              "<matplotlib.legend.Legend at 0x2a191939880>"
            ]
          },
          "execution_count": 124,
          "metadata": {},
          "output_type": "execute_result"
        },
        {
          "data": {
            "image/png": "[encoded data removed]",
            "text/plain": [
              "<Figure size 1000x300 with 3 Axes>"
            ]
          },
          "metadata": {},
          "output_type": "display_data"
        }
      ],
      "source": [
        "fig, (ax1, ax2, ax3) = plt.subplots(1, 3, figsize=(10, 3))\n",
        "fig.suptitle('Comparsion between models with plots')\n",
        "\n",
        "ax1.scatter(y_test_normalized, dummy_pred, color='green', label='Dummy')\n",
        "ax1.scatter(y_test_normalized, y_test_normalized, color='cyan', label='Actual')\n",
        "ax1.legend()\n",
        "\n",
        "ax2.scatter(y_test_normalized, y_pred_nn, color='green', label='ANN')\n",
        "ax2.scatter(y_test_normalized, y_test_normalized, color='cyan', label='Actual')\n",
        "ax2.legend()\n",
        "\n",
        "ax3.scatter(y_test_normalized, y_pred_linear, color='green', label='Linear')\n",
        "ax3.scatter(y_test_normalized, y_test_normalized, color='cyan', label='Actual')\n",
        "ax3.legend()\n"
      ]
    }
  ],
  "metadata": {
    "accelerator": "GPU",
    "colab": {
      "gpuType": "T4",
      "include_colab_link": true,
      "provenance": []
    },
    "kernelspec": {
      "display_name": "Python 3",
      "name": "python3"
    },
    "language_info": {
      "codemirror_mode": {
        "name": "ipython",
        "version": 3
      },
      "file_extension": ".py",
      "mimetype": "text/x-python",
      "name": "python",
      "nbconvert_exporter": "python",
      "pygments_lexer": "ipython3",
      "version": "3.9.18"
    }
  },
  "nbformat": 4,
  "nbformat_minor": 0
}
