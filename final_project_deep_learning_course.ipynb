{
  "cells": [
    {
      "cell_type": "markdown",
      "metadata": {
        "colab_type": "text",
        "id": "view-in-github"
      },
      "source": [
        "<a href=\"https://colab.research.google.com/github/elonezra/deeplearningproject/blob/main/final_project_deep_learning_course.ipynb\" target=\"_parent\"><img src=\"https://colab.research.google.com/assets/colab-badge.svg\" alt=\"Open In Colab\"/></a>"
      ]
    },
    {
      "cell_type": "markdown",
      "metadata": {
        "id": "5eJcX1S6FRTW"
      },
      "source": [
        "Authors: Avi and Elon 🤗"
      ]
    },
    {
      "cell_type": "markdown",
      "metadata": {},
      "source": [
        "## Pre-Processing the data"
      ]
    },
    {
      "cell_type": "code",
      "execution_count": 177,
      "metadata": {
        "id": "QtYM8vgrUWIU"
      },
      "outputs": [],
      "source": [
        "# Importng necassary libraries\n",
        "import pandas as pd\n",
        "import numpy as np\n",
        "import tensorflow.compat.v1 as tf\n",
        "tf.compat.v1.disable_eager_execution()\n",
        "import seaborn as sns\n",
        "import matplotlib.pyplot as plt\n",
        "%matplotlib inline\n",
        "import warnings\n",
        "from sklearn.model_selection import train_test_split\n",
        "from sklearn.metrics import mean_squared_error\n",
        "from sklearn.metrics import r2_score\n",
        "from statsmodels.stats.outliers_influence import variance_inflation_factor\n",
        "from sklearn.dummy import DummyRegressor"
      ]
    },
    {
      "cell_type": "code",
      "execution_count": 178,
      "metadata": {
        "colab": {
          "base_uri": "https://localhost:8080/",
          "height": 206
        },
        "id": "Z_PlX0mMub6X",
        "outputId": "d9cd8dba-c010-45fe-8818-fc704099aec2"
      },
      "outputs": [
        {
          "data": {
            "text/html": [
              "<div>\n",
              "<style scoped>\n",
              "    .dataframe tbody tr th:only-of-type {\n",
              "        vertical-align: middle;\n",
              "    }\n",
              "\n",
              "    .dataframe tbody tr th {\n",
              "        vertical-align: top;\n",
              "    }\n",
              "\n",
              "    .dataframe thead th {\n",
              "        text-align: right;\n",
              "    }\n",
              "</style>\n",
              "<table border=\"1\" class=\"dataframe\">\n",
              "  <thead>\n",
              "    <tr style=\"text-align: right;\">\n",
              "      <th></th>\n",
              "      <th>Date</th>\n",
              "      <th>Open</th>\n",
              "      <th>High</th>\n",
              "      <th>Low</th>\n",
              "      <th>Close</th>\n",
              "      <th>Adj Close</th>\n",
              "      <th>Volume</th>\n",
              "    </tr>\n",
              "  </thead>\n",
              "  <tbody>\n",
              "    <tr>\n",
              "      <th>0</th>\n",
              "      <td>2014-09-17</td>\n",
              "      <td>465.864014</td>\n",
              "      <td>468.174011</td>\n",
              "      <td>452.421997</td>\n",
              "      <td>457.334015</td>\n",
              "      <td>457.334015</td>\n",
              "      <td>21056800</td>\n",
              "    </tr>\n",
              "    <tr>\n",
              "      <th>1</th>\n",
              "      <td>2014-09-18</td>\n",
              "      <td>456.859985</td>\n",
              "      <td>456.859985</td>\n",
              "      <td>413.104004</td>\n",
              "      <td>424.440002</td>\n",
              "      <td>424.440002</td>\n",
              "      <td>34483200</td>\n",
              "    </tr>\n",
              "    <tr>\n",
              "      <th>2</th>\n",
              "      <td>2014-09-19</td>\n",
              "      <td>424.102997</td>\n",
              "      <td>427.834991</td>\n",
              "      <td>384.532013</td>\n",
              "      <td>394.795990</td>\n",
              "      <td>394.795990</td>\n",
              "      <td>37919700</td>\n",
              "    </tr>\n",
              "    <tr>\n",
              "      <th>3</th>\n",
              "      <td>2014-09-20</td>\n",
              "      <td>394.673004</td>\n",
              "      <td>423.295990</td>\n",
              "      <td>389.882996</td>\n",
              "      <td>408.903992</td>\n",
              "      <td>408.903992</td>\n",
              "      <td>36863600</td>\n",
              "    </tr>\n",
              "    <tr>\n",
              "      <th>4</th>\n",
              "      <td>2014-09-21</td>\n",
              "      <td>408.084991</td>\n",
              "      <td>412.425995</td>\n",
              "      <td>393.181000</td>\n",
              "      <td>398.821014</td>\n",
              "      <td>398.821014</td>\n",
              "      <td>26580100</td>\n",
              "    </tr>\n",
              "  </tbody>\n",
              "</table>\n",
              "</div>"
            ],
            "text/plain": [
              "         Date        Open        High         Low       Close   Adj Close  \\\n",
              "0  2014-09-17  465.864014  468.174011  452.421997  457.334015  457.334015   \n",
              "1  2014-09-18  456.859985  456.859985  413.104004  424.440002  424.440002   \n",
              "2  2014-09-19  424.102997  427.834991  384.532013  394.795990  394.795990   \n",
              "3  2014-09-20  394.673004  423.295990  389.882996  408.903992  408.903992   \n",
              "4  2014-09-21  408.084991  412.425995  393.181000  398.821014  398.821014   \n",
              "\n",
              "     Volume  \n",
              "0  21056800  \n",
              "1  34483200  \n",
              "2  37919700  \n",
              "3  36863600  \n",
              "4  26580100  "
            ]
          },
          "execution_count": 178,
          "metadata": {},
          "output_type": "execute_result"
        }
      ],
      "source": [
        "df = pd.read_csv('BTC-USD.csv')\n",
        "df.head()"
      ]
    },
    {
      "cell_type": "code",
      "execution_count": 179,
      "metadata": {
        "colab": {
          "base_uri": "https://localhost:8080/",
          "height": 241
        },
        "id": "taAq-m-ywZcY",
        "outputId": "5996f67d-2779-464e-8bb2-3c33c8def880"
      },
      "outputs": [
        {
          "name": "stdout",
          "output_type": "stream",
          "text": [
            "2713 2713\n",
            "2713\n"
          ]
        },
        {
          "data": {
            "text/html": [
              "<div>\n",
              "<style scoped>\n",
              "    .dataframe tbody tr th:only-of-type {\n",
              "        vertical-align: middle;\n",
              "    }\n",
              "\n",
              "    .dataframe tbody tr th {\n",
              "        vertical-align: top;\n",
              "    }\n",
              "\n",
              "    .dataframe thead th {\n",
              "        text-align: right;\n",
              "    }\n",
              "</style>\n",
              "<table border=\"1\" class=\"dataframe\">\n",
              "  <thead>\n",
              "    <tr style=\"text-align: right;\">\n",
              "      <th></th>\n",
              "      <th>Date</th>\n",
              "      <th>Open</th>\n",
              "      <th>High</th>\n",
              "      <th>Low</th>\n",
              "      <th>Close</th>\n",
              "      <th>Volume</th>\n",
              "    </tr>\n",
              "  </thead>\n",
              "  <tbody>\n",
              "    <tr>\n",
              "      <th>0</th>\n",
              "      <td>2014-09-17</td>\n",
              "      <td>465.864014</td>\n",
              "      <td>468.174011</td>\n",
              "      <td>452.421997</td>\n",
              "      <td>457.334015</td>\n",
              "      <td>21056800</td>\n",
              "    </tr>\n",
              "    <tr>\n",
              "      <th>1</th>\n",
              "      <td>2014-09-18</td>\n",
              "      <td>456.859985</td>\n",
              "      <td>456.859985</td>\n",
              "      <td>413.104004</td>\n",
              "      <td>424.440002</td>\n",
              "      <td>34483200</td>\n",
              "    </tr>\n",
              "    <tr>\n",
              "      <th>2</th>\n",
              "      <td>2014-09-19</td>\n",
              "      <td>424.102997</td>\n",
              "      <td>427.834991</td>\n",
              "      <td>384.532013</td>\n",
              "      <td>394.795990</td>\n",
              "      <td>37919700</td>\n",
              "    </tr>\n",
              "    <tr>\n",
              "      <th>3</th>\n",
              "      <td>2014-09-20</td>\n",
              "      <td>394.673004</td>\n",
              "      <td>423.295990</td>\n",
              "      <td>389.882996</td>\n",
              "      <td>408.903992</td>\n",
              "      <td>36863600</td>\n",
              "    </tr>\n",
              "    <tr>\n",
              "      <th>4</th>\n",
              "      <td>2014-09-21</td>\n",
              "      <td>408.084991</td>\n",
              "      <td>412.425995</td>\n",
              "      <td>393.181000</td>\n",
              "      <td>398.821014</td>\n",
              "      <td>26580100</td>\n",
              "    </tr>\n",
              "  </tbody>\n",
              "</table>\n",
              "</div>"
            ],
            "text/plain": [
              "         Date        Open        High         Low       Close    Volume\n",
              "0  2014-09-17  465.864014  468.174011  452.421997  457.334015  21056800\n",
              "1  2014-09-18  456.859985  456.859985  413.104004  424.440002  34483200\n",
              "2  2014-09-19  424.102997  427.834991  384.532013  394.795990  37919700\n",
              "3  2014-09-20  394.673004  423.295990  389.882996  408.903992  36863600\n",
              "4  2014-09-21  408.084991  412.425995  393.181000  398.821014  26580100"
            ]
          },
          "execution_count": 179,
          "metadata": {},
          "output_type": "execute_result"
        }
      ],
      "source": [
        "# We don't need the \"Adj Close\" column because this column is the same as the \"Close\" column,\n",
        "# we are going to check it before earasing to make sure our assumption is true.\n",
        "print(df['Adj Close'].count(), df['Close'].count()) # In this line we can see that the number of lines in both of the columns is equal\n",
        "print(len(df[\"Close\"] == df[\"Adj Close\"])) # and in this line we compared between those columns and get as result that all lines are equal\n",
        "# thus, we can remove \"Asj Close\" column\n",
        "df = df.drop(['Adj Close'], axis = 1)\n",
        "df.head()"
      ]
    },
    {
      "cell_type": "code",
      "execution_count": 180,
      "metadata": {},
      "outputs": [],
      "source": [
        "# now we want to change the 'Close' column to be 'Open_Close_Gap' column because,\n",
        "# it's more common to predict the mean between the Open price and the Close price\n",
        "df['Close'].rename('Open_Close_Gap')\n",
        "df['Open_Close_Gap'] = (df['Open'] - df['Close'])\n",
        "df = df.drop(['Close'], axis=1)"
      ]
    },
    {
      "cell_type": "code",
      "execution_count": 181,
      "metadata": {
        "colab": {
          "base_uri": "https://localhost:8080/"
        },
        "id": "X_nzRG4_w9ow",
        "outputId": "380384ab-b2d1-4277-e47e-938036c2120e"
      },
      "outputs": [
        {
          "name": "stdout",
          "output_type": "stream",
          "text": [
            "<class 'pandas.core.frame.DataFrame'>\n",
            "RangeIndex: 2713 entries, 0 to 2712\n",
            "Data columns (total 6 columns):\n",
            " #   Column          Non-Null Count  Dtype  \n",
            "---  ------          --------------  -----  \n",
            " 0   Date            2713 non-null   object \n",
            " 1   Open            2713 non-null   float64\n",
            " 2   High            2713 non-null   float64\n",
            " 3   Low             2713 non-null   float64\n",
            " 4   Volume          2713 non-null   int64  \n",
            " 5   Open_Close_Gap  2713 non-null   float64\n",
            "dtypes: float64(4), int64(1), object(1)\n",
            "memory usage: 127.3+ KB\n"
          ]
        }
      ],
      "source": [
        "# In the code below we will see that our dataframe uses an object column which is not good\n",
        "# because we need a numeric dataframe so, we convert this column to int64 type\n",
        "# by removing the '-' char\n",
        "df.info()"
      ]
    },
    {
      "cell_type": "code",
      "execution_count": 182,
      "metadata": {
        "colab": {
          "base_uri": "https://localhost:8080/"
        },
        "id": "3VTJfZLvEk4M",
        "outputId": "0de7ab1b-d8df-4dc4-9710-9231896f9e03"
      },
      "outputs": [
        {
          "name": "stderr",
          "output_type": "stream",
          "text": [
            "C:\\Users\\rahim\\AppData\\Local\\Temp\\ipykernel_5592\\84532947.py:1: FutureWarning: Series.__getitem__ treating keys as positions is deprecated. In a future version, integer keys will always be treated as labels (consistent with DataFrame behavior). To access a value by position, use `ser.iloc[pos]`\n",
            "  int(df.iloc[1][0].replace('-', ''))\n"
          ]
        },
        {
          "data": {
            "text/plain": [
              "20140918"
            ]
          },
          "execution_count": 182,
          "metadata": {},
          "output_type": "execute_result"
        }
      ],
      "source": [
        "int(df.iloc[1][0].replace('-', ''))"
      ]
    },
    {
      "cell_type": "code",
      "execution_count": 183,
      "metadata": {
        "id": "wujuLZPoHIhx"
      },
      "outputs": [],
      "source": [
        "df[\"Date\"] = df[\"Date\"].apply(lambda x: x.replace('-','')).apply(pd.to_numeric)"
      ]
    },
    {
      "cell_type": "code",
      "execution_count": 184,
      "metadata": {
        "colab": {
          "base_uri": "https://localhost:8080/",
          "height": 431
        },
        "id": "h1BUpUrpH_Oc",
        "outputId": "b33e332f-07fc-469c-cbb4-0e8bbb648437"
      },
      "outputs": [
        {
          "name": "stdout",
          "output_type": "stream",
          "text": [
            "<class 'pandas.core.frame.DataFrame'>\n",
            "RangeIndex: 2713 entries, 0 to 2712\n",
            "Data columns (total 6 columns):\n",
            " #   Column          Non-Null Count  Dtype  \n",
            "---  ------          --------------  -----  \n",
            " 0   Date            2713 non-null   int64  \n",
            " 1   Open            2713 non-null   float64\n",
            " 2   High            2713 non-null   float64\n",
            " 3   Low             2713 non-null   float64\n",
            " 4   Volume          2713 non-null   int64  \n",
            " 5   Open_Close_Gap  2713 non-null   float64\n",
            "dtypes: float64(4), int64(2)\n",
            "memory usage: 127.3 KB\n"
          ]
        },
        {
          "data": {
            "text/html": [
              "<div>\n",
              "<style scoped>\n",
              "    .dataframe tbody tr th:only-of-type {\n",
              "        vertical-align: middle;\n",
              "    }\n",
              "\n",
              "    .dataframe tbody tr th {\n",
              "        vertical-align: top;\n",
              "    }\n",
              "\n",
              "    .dataframe thead th {\n",
              "        text-align: right;\n",
              "    }\n",
              "</style>\n",
              "<table border=\"1\" class=\"dataframe\">\n",
              "  <thead>\n",
              "    <tr style=\"text-align: right;\">\n",
              "      <th></th>\n",
              "      <th>Date</th>\n",
              "      <th>Open</th>\n",
              "      <th>High</th>\n",
              "      <th>Low</th>\n",
              "      <th>Volume</th>\n",
              "      <th>Open_Close_Gap</th>\n",
              "    </tr>\n",
              "  </thead>\n",
              "  <tbody>\n",
              "    <tr>\n",
              "      <th>0</th>\n",
              "      <td>20140917</td>\n",
              "      <td>465.864014</td>\n",
              "      <td>468.174011</td>\n",
              "      <td>452.421997</td>\n",
              "      <td>21056800</td>\n",
              "      <td>8.529999</td>\n",
              "    </tr>\n",
              "    <tr>\n",
              "      <th>1</th>\n",
              "      <td>20140918</td>\n",
              "      <td>456.859985</td>\n",
              "      <td>456.859985</td>\n",
              "      <td>413.104004</td>\n",
              "      <td>34483200</td>\n",
              "      <td>32.419983</td>\n",
              "    </tr>\n",
              "    <tr>\n",
              "      <th>2</th>\n",
              "      <td>20140919</td>\n",
              "      <td>424.102997</td>\n",
              "      <td>427.834991</td>\n",
              "      <td>384.532013</td>\n",
              "      <td>37919700</td>\n",
              "      <td>29.307007</td>\n",
              "    </tr>\n",
              "    <tr>\n",
              "      <th>3</th>\n",
              "      <td>20140920</td>\n",
              "      <td>394.673004</td>\n",
              "      <td>423.295990</td>\n",
              "      <td>389.882996</td>\n",
              "      <td>36863600</td>\n",
              "      <td>-14.230988</td>\n",
              "    </tr>\n",
              "    <tr>\n",
              "      <th>4</th>\n",
              "      <td>20140921</td>\n",
              "      <td>408.084991</td>\n",
              "      <td>412.425995</td>\n",
              "      <td>393.181000</td>\n",
              "      <td>26580100</td>\n",
              "      <td>9.263977</td>\n",
              "    </tr>\n",
              "  </tbody>\n",
              "</table>\n",
              "</div>"
            ],
            "text/plain": [
              "       Date        Open        High         Low    Volume  Open_Close_Gap\n",
              "0  20140917  465.864014  468.174011  452.421997  21056800        8.529999\n",
              "1  20140918  456.859985  456.859985  413.104004  34483200       32.419983\n",
              "2  20140919  424.102997  427.834991  384.532013  37919700       29.307007\n",
              "3  20140920  394.673004  423.295990  389.882996  36863600      -14.230988\n",
              "4  20140921  408.084991  412.425995  393.181000  26580100        9.263977"
            ]
          },
          "execution_count": 184,
          "metadata": {},
          "output_type": "execute_result"
        }
      ],
      "source": [
        "# Now, after we convert the \"Date\" column to numeric type, we can see the new data as request\n",
        "df.info()\n",
        "df.head()"
      ]
    },
    {
      "cell_type": "code",
      "execution_count": 185,
      "metadata": {},
      "outputs": [
        {
          "data": {
            "image/png": "[encoded data removed]",
            "text/plain": [
              "<Figure size 1200x600 with 1 Axes>"
            ]
          },
          "metadata": {},
          "output_type": "display_data"
        }
      ],
      "source": [
        "# Set 'Date' as the index\n",
        "df.set_index('Date', inplace=True)\n",
        "\n",
        "# Plot the data\n",
        "df[['Open', 'High', 'Low', 'Open_Close_Gap']].plot(kind='line', figsize=(12,6))\n",
        "plt.title('Stock price over time')\n",
        "plt.ylabel('Price')\n",
        "plt.show()\n",
        "\n",
        "\n"
      ]
    },
    {
      "cell_type": "code",
      "execution_count": 186,
      "metadata": {},
      "outputs": [
        {
          "data": {
            "image/png": "[encoded data removed]",
            "text/plain": [
              "<Figure size 640x480 with 2 Axes>"
            ]
          },
          "metadata": {},
          "output_type": "display_data"
        }
      ],
      "source": [
        "# Calculate the correlation matrix\n",
        "df = df.reset_index()\n",
        "corr = df[['Date', 'Open', 'High', 'Low', 'Volume', 'Open_Close_Gap']].corr()\n",
        "\n",
        "# Plot the heatmap\n",
        "sns.heatmap(corr, annot=True, cmap='coolwarm')\n",
        "plt.title('Correlation Heatmap')\n",
        "plt.show()\n"
      ]
    },
    {
      "cell_type": "markdown",
      "metadata": {},
      "source": [
        "High correlation coefficients (close to +1 or -1) between two or more variables indicate high multicollinearity which means that our data has high multicollinearity which is not good because it means that two or more explanatory variables in a multiple regression model are highly linearly related.\n",
        "\n",
        "We check the multicollinearity with another technique called Variance Inflation Factor (VIF) which is indicate how much the variance is inflated due to multicollinearity."
      ]
    },
    {
      "cell_type": "code",
      "execution_count": 187,
      "metadata": {},
      "outputs": [
        {
          "name": "stdout",
          "output_type": "stream",
          "text": [
            "  features          VIF\n",
            "0     Date     1.626099\n",
            "1     Open  1271.779503\n",
            "2     High  1302.971806\n",
            "3      Low   690.369679\n",
            "4   Volume     3.795683\n"
          ]
        }
      ],
      "source": [
        "X = df.drop(['Open_Close_Gap'], axis=1)\n",
        "\n",
        "# Assuming X is your feature matrix\n",
        "vif = pd.DataFrame()\n",
        "vif[\"features\"] = X.columns\n",
        "vif[\"VIF\"] = [variance_inflation_factor(X.values, i) for i in range(X.shape[1])]\n",
        "print(vif)\n"
      ]
    },
    {
      "cell_type": "markdown",
      "metadata": {},
      "source": [
        "open: The VIF of 1899.216794 suggests a high degree of multicollinearity with the other variables.\n",
        "high: Similarly, a VIF of 1933.193722 also indicates high multicollinearity.\n",
        "low: A VIF of 1017.898356 is also high, suggesting this variable is highly correlated with others.\n",
        "volume: A VIF of 3.492894 is relatively low compared to the others, suggesting less multicollinearity.\n",
        "\n",
        "Generally, a VIF above 5 or 10 indicates high multicollinearity that might be problematic for our model. With this case, the “open”, “high”, and “low” features have high VIF values, suggesting they are highly correlated with each other.\n",
        "\n",
        "We should use techinques to handle the high multicollinearity, one way we learned in the class is the \"Regularization\" technique, we will use it to make our data less multicollinearity."
      ]
    },
    {
      "cell_type": "markdown",
      "metadata": {},
      "source": [
        "# Regularization"
      ]
    },
    {
      "cell_type": "markdown",
      "metadata": {
        "id": "H5AP4t-qA-aZ"
      },
      "source": [
        "$\\sigma = \\sqrt(\\mu_2) = \\sqrt(1/n \\sum(x_i - x')^2)$\n",
        "\n",
        "$𝜇^{𝑙,𝑗}= \\frac{1}{m} ∑_{𝑖=0}^{𝑚}{𝑧_𝑖^{𝑙,𝑗}}$ \n",
        "\n",
        "$𝜎^{𝑙,𝑗}=\\sqrt{∑_{𝑖=0}^𝑚(𝑧_𝑖^{𝑙,𝑗}−𝜇^(𝑙,𝑗) )^2 }$\n",
        "\n",
        "$\\overline{𝑧_𝑖^{𝑙,𝑗}} ̂= \\frac{𝑧_𝑖^{𝑙,𝑗}−𝜇^{𝑙,𝑗}}{𝜎^{𝑙,𝑗}+𝜖} $\n"
      ]
    },
    {
      "cell_type": "code",
      "execution_count": 188,
      "metadata": {
        "colab": {
          "base_uri": "https://localhost:8080/"
        },
        "id": "whb9B9lmq0Fi",
        "outputId": "d4a40c9e-1888-48d0-d78c-b15e075e6718"
      },
      "outputs": [
        {
          "name": "stdout",
          "output_type": "stream",
          "text": [
            "Training set size: 2170\n",
            "Testing set size: 543\n"
          ]
        }
      ],
      "source": [
        "X = df.drop(['Open_Close_Gap'], axis=1)\n",
        "y = df['Open_Close_Gap']\n",
        "\n",
        "X_train, X_test, y_train, y_test = train_test_split(X, y, test_size=0.2, random_state=42)\n",
        "\n",
        "print(\"Training set size:\", len(X_train))\n",
        "print(\"Testing set size:\", len(X_test))\n"
      ]
    },
    {
      "cell_type": "markdown",
      "metadata": {},
      "source": [
        "# Normalization"
      ]
    },
    {
      "cell_type": "code",
      "execution_count": 189,
      "metadata": {},
      "outputs": [],
      "source": [
        "def normalize_data(X_train, y_train, X_test, y_test):\n",
        "    \"\"\"\n",
        "    This function normalizes the training and test data using the mean and variance of the training data.\n",
        "    \n",
        "    Parameters:\n",
        "    X_train (DataFrame): The training data\n",
        "    y_train (Series): The target values for the training data\n",
        "    X_test (DataFrame): The test data\n",
        "    y_test (Series): The target values for the test data\n",
        "    \n",
        "    Returns:\n",
        "    DataFrame, Series, DataFrame, Series: The normalized training data, training target values, test data, and test target values\n",
        "    \"\"\"\n",
        "    # Convert the dataframes to numpy arrays\n",
        "    train_np = X_train.values\n",
        "    test_np = X_test.values\n",
        "\n",
        "    # Convert the series to numpy arrays\n",
        "    y_train_np = y_train.values.reshape(-1, 1)\n",
        "    y_test_np = y_test.values.reshape(-1, 1)\n",
        "\n",
        "    # Create TensorFlow placeholders\n",
        "    train_placeholder = tf.placeholder(tf.float32, shape=train_np.shape)\n",
        "    test_placeholder = tf.placeholder(tf.float32, shape=test_np.shape)\n",
        "    y_train_placeholder = tf.placeholder(tf.float32, shape=y_train_np.shape)\n",
        "    y_test_placeholder = tf.placeholder(tf.float32, shape=y_test_np.shape)\n",
        "\n",
        "    # Define the normalization function\n",
        "    def normalize(x, mean, variance):\n",
        "        return (x - mean) / tf.sqrt(variance)\n",
        "\n",
        "    # Normalize the data\n",
        "    with tf.Session() as sess:\n",
        "        sess.run(tf.global_variables_initializer())\n",
        "        \n",
        "        # Compute mean and variance from training data\n",
        "        train_mean, train_variance = sess.run(tf.nn.moments(train_placeholder, axes=[0]), feed_dict={train_placeholder: train_np})\n",
        "        \n",
        "        # Normalize training data\n",
        "        train_normalized = sess.run(normalize(train_placeholder, train_mean, train_variance), feed_dict={train_placeholder: train_np})\n",
        "        \n",
        "        # Normalize test data using mean and variance from training data\n",
        "        test_normalized = sess.run(normalize(test_placeholder, train_mean, train_variance), feed_dict={test_placeholder: test_np})\n",
        "        \n",
        "        # Normalize y_train and y_test similarly\n",
        "        y_train_mean, y_train_variance = sess.run(tf.nn.moments(y_train_placeholder, axes=[0]), feed_dict={y_train_placeholder: y_train_np})\n",
        "        y_train_normalized = sess.run(normalize(y_train_placeholder, y_train_mean, y_train_variance), feed_dict={y_train_placeholder: y_train_np})\n",
        "        y_test_normalized = sess.run(normalize(y_test_placeholder, y_train_mean, y_train_variance), feed_dict={y_test_placeholder: y_test_np})\n",
        "\n",
        "    # Convert the normalized numpy arrays back to pandas dataframes\n",
        "    X_train_normalized = pd.DataFrame(train_normalized, columns=X_train.columns)\n",
        "    X_test_normalized = pd.DataFrame(test_normalized, columns=X_test.columns)\n",
        "\n",
        "    # Convert the normalized numpy arrays back to pandas series\n",
        "    y_train_normalized = pd.Series(y_train_normalized.flatten(), index=y_train.index)\n",
        "    y_test_normalized = pd.Series(y_test_normalized.flatten(), index=y_test.index)\n",
        "\n",
        "    return X_train_normalized, y_train_normalized, X_test_normalized, y_test_normalized\n"
      ]
    },
    {
      "cell_type": "code",
      "execution_count": 190,
      "metadata": {},
      "outputs": [
        {
          "name": "stdout",
          "output_type": "stream",
          "text": [
            "Training set size: 2170\n",
            "Testing set size: 543\n"
          ]
        }
      ],
      "source": [
        "X_train_normalized, y_train_normalized, X_test_normalized, y_test_normalized = normalize_data(X_train, y_train, X_test, y_test)\n",
        "print(\"Training set size:\", len(X_train_normalized))\n",
        "print(\"Testing set size:\", len(X_test_normalized))\n"
      ]
    },
    {
      "cell_type": "markdown",
      "metadata": {},
      "source": [
        "# Model training\n",
        "Models that represented in the code: Linear regression, ANN - neural network model, dummy regressor model - to compare our model to that dummy model"
      ]
    },
    {
      "cell_type": "code",
      "execution_count": 191,
      "metadata": {
        "colab": {
          "base_uri": "https://localhost:8080/"
        },
        "id": "T1R6ijbSvHTe",
        "outputId": "a12c39cd-32db-4563-f372-7bb128fc39b9"
      },
      "outputs": [],
      "source": [
        "def train_linear_regression(X_train, y_train, learning_rate=0.001, threshold=0.0001):\n",
        "    \"\"\"\n",
        "    This function trains a linear regression model using TensorFlow.\n",
        "    \n",
        "    Parameters:\n",
        "    X_train (DataFrame): The training data\n",
        "    y_train (Series): The target values for the training data\n",
        "    learning_rate (float): The learning rate for the optimizer\n",
        "    threshold (float): The threshold for the change in loss\n",
        "    \n",
        "    Returns:\n",
        "    sess (tf.Session): The TensorFlow session\n",
        "    pred (Tensor): The prediction tensor\n",
        "    x (tf.placeholder): The placeholder for the input data\n",
        "    \"\"\"\n",
        "    features = X_train.shape[1]\n",
        "    x = tf.placeholder(tf.float32, [None, features])\n",
        "    y = tf.placeholder(tf.float32, [None, 1])\n",
        "    W = tf.Variable(tf.zeros([features, 1]))\n",
        "    b = tf.Variable(tf.zeros([1]))\n",
        "    prev_loss = None\n",
        "    pred = tf.matmul(x, W) + b\n",
        "    loss = tf.reduce_mean(tf.square(pred - y))\n",
        "    update = tf.train.GradientDescentOptimizer(learning_rate).minimize(loss)\n",
        "    data_x = X_train.values\n",
        "    data_y = y_train.values.reshape(-1, 1)\n",
        "    sess = tf.Session()\n",
        "    sess.run(tf.global_variables_initializer())\n",
        "    i = 0\n",
        "    while True:\n",
        "        i += 1\n",
        "        _, val_loss = sess.run([update, loss], feed_dict={x: data_x, y: data_y})\n",
        "        if prev_loss is not None and abs(prev_loss - val_loss) < threshold:\n",
        "            print(f\"Early stopping at epoch {i}\")\n",
        "            break\n",
        "        prev_loss = val_loss\n",
        "        if i % 10000 == 0:\n",
        "            print('\\nIteration:', i, '\\n W:', sess.run(W), ' b:', sess.run(b), ' loss:', loss.eval(session=sess, feed_dict={x: data_x, y: data_y}))\n",
        "    return sess, pred, x"
      ]
    },
    {
      "cell_type": "markdown",
      "metadata": {},
      "source": [
        "We replaced this code:\n",
        "```\n",
        "for epoch in range(0, epochs):\n",
        "        _, c = sess.run([optimizer, loss], feed_dict={x: data_x, y: data_y})\n",
        "        if epoch % 1000 == 0:\n",
        "            print(\"Epoch:\", '%04d' % (epoch), \"cost=\", \"{:.9f}\".format(c))\n",
        "```\n",
        "with this code below:\n",
        "```\n",
        "prev_loss = None\n",
        "i = 0\n",
        "while True:\n",
        "        i += 1\n",
        "        _, val_loss = sess.run([optimizer, loss], feed_dict={x: data_x, y: data_y})\n",
        "        if prev_loss is not None and abs(prev_loss - val_loss) < threshold:\n",
        "            print(f\"Early stopping at epoch {i}\")\n",
        "            break\n",
        "        prev_loss = val_loss\n",
        "        if i % 10000 == 0:\n",
        "            print('\\nIteration:', i, '\\n W1:', sess.run(W1), ' b1:', sess.run(b1), '\\n W2:', sess.run(W2), ' b2:', sess.run(b2), ' loss:', loss.eval(session=sess, feed_dict={x: data_x, y: data_y}))\n",
        "```\n",
        "\n",
        "which is the same approach as in the Linear Regression model.\n",
        "We apply \"Early stopping\" for the ANN model such that when the difference between the current cost and the previous cost is less than the threshold, so we will stop to train the model and break the loop.\n",
        "\n",
        "This technique saves us to use Trial and error because it finds the optimal values for W1, b1, W2, b2 because if we keep changing the bias and weights it has no much effect on the cost value."
      ]
    },
    {
      "cell_type": "code",
      "execution_count": 192,
      "metadata": {
        "colab": {
          "base_uri": "https://localhost:8080/"
        },
        "id": "v7XVE4ZzGuvP",
        "outputId": "76ad1a30-90e3-4c48-ed99-43680562221b"
      },
      "outputs": [],
      "source": [
        "def train_neural_network(X_train, y_train, learning_rate=0.001, threshold=0.0001):\n",
        "    \"\"\"\n",
        "    This function trains a neural network with one hidden layer using TensorFlow.\n",
        "    \n",
        "    Parameters:\n",
        "    X_train (DataFrame): The training data\n",
        "    y_train (Series): The target values for the training data\n",
        "    learning_rate (float): The learning rate for the optimizer\n",
        "    epochs (int): The number of epochs to train the model\n",
        "    \n",
        "    Returns:\n",
        "    sess (tf.Session): The TensorFlow session\n",
        "    pred (Tensor): The prediction tensor\n",
        "    x (tf.placeholder): The placeholder for the input data\n",
        "    \"\"\"\n",
        "    features = X_train.shape[1]\n",
        "    x = tf.placeholder(tf.float32, [None, features])\n",
        "    y = tf.placeholder(tf.float32, [None, 1])\n",
        "    W1 = tf.Variable(tf.random_normal([features, 10]))\n",
        "    b1 = tf.Variable(tf.zeros([10]))\n",
        "    W2 = tf.Variable(tf.random_normal([10, 1]))\n",
        "    b2 = tf.Variable(tf.zeros([1]))\n",
        "    hidden_layer = tf.nn.relu(tf.matmul(x, W1) + b1)\n",
        "    pred = tf.matmul(hidden_layer, W2) + b2\n",
        "    loss = tf.reduce_mean(tf.square(pred - y))\n",
        "    optimizer = tf.train.GradientDescentOptimizer(learning_rate).minimize(loss)\n",
        "    data_x = X_train.values\n",
        "    data_y = y_train.values.reshape(-1, 1)\n",
        "    sess = tf.Session()\n",
        "    sess.run(tf.global_variables_initializer())\n",
        "    prev_cost = None\n",
        "    i = 0\n",
        "    while True:\n",
        "        i += 1\n",
        "        _, val_cost = sess.run([optimizer, loss], feed_dict={x: data_x, y: data_y})\n",
        "        if prev_cost is not None and abs(prev_cost - val_cost) < threshold:\n",
        "            print(f\"Early stopping at epoch {i}\")\n",
        "            break\n",
        "        prev_cost = val_cost\n",
        "        if i % 10000 == 0:\n",
        "            print('\\nIteration:', i, '\\n W1:', sess.run(W1), ' b1:', sess.run(b1), '\\n W2:', sess.run(W2), ' b2:', sess.run(b2), ' loss:', loss.eval(session=sess, feed_dict={x: data_x, y: data_y}))\n",
        "    return sess, pred, x"
      ]
    },
    {
      "cell_type": "markdown",
      "metadata": {},
      "source": [
        "#### Create dummy model"
      ]
    },
    {
      "cell_type": "code",
      "execution_count": 193,
      "metadata": {},
      "outputs": [],
      "source": [
        "def dummy_regressor(y_train):\n",
        "    \"\"\"\n",
        "    This function creates a dummy regressor that predicts the mean value of the target variable.\n",
        "    \n",
        "    Parameters:\n",
        "    X_train (DataFrame): The training data\n",
        "    y_train (Series): The target values for the training data\n",
        "    \n",
        "    Returns:\n",
        "    y_pred (ndarray): The predicted values\n",
        "    \"\"\"\n",
        "    y_pred = [(np.random.uniform(-1,1)) for i in range(len(y_train))]\n",
        "    return y_pred"
      ]
    },
    {
      "cell_type": "code",
      "execution_count": 194,
      "metadata": {},
      "outputs": [
        {
          "name": "stdout",
          "output_type": "stream",
          "text": [
            "y_dummy_pred: [-0.32888752578715685, -0.2112177204327197, -0.063105912791098, 0.8340847711014108, 0.47977529623306947, 0.9998236479192757, 0.9341224388194054, -0.6601473032386551, 0.16392473707048572, 0.5746730154802993, 0.18098650068941313, -0.11690759937729123, 0.37068111335119824, -0.6678529281625589, 0.9355728935349321, 0.30731133679969935, 0.02374986072767693, -0.3375542369352189, -0.7503353820752148, -0.6032778133373027, 0.3708738813672927, -0.884955072476242, -0.5868195739867621, -0.16152753355140792, -0.26389675318068084, -0.9050192113388222, 0.18455279601545738, 0.5548358628826702, -0.7947115865076242, -0.06574785427036733, -0.22683546602470317, 0.020224641982474978, 0.6464863069870819, 0.7385083892024016, 0.341286748545496, -0.06390913044624358, -0.6279560112649492, 0.6153404026946898, -0.7535562580741828, 0.37140824525601634, -0.6307579596104067, -0.05704017990634269, -0.7351819396715393, -0.9652541428725707, -0.057564070183926175, 0.3431301830706539, -0.9700528478598092, -0.14382726560225212, -0.964954535008979, -0.16790440363472436, -0.01741256123781154, -0.8581944746081194, -0.5164942932934566, 0.8349628845897725, 0.6261212018556523, 0.5818298082785054, -0.36762742003192894, -0.2292344873551746, 0.1635599894707629, 0.39128929781697175, 0.41135283840057935, 0.8103207228122753, -0.16571381289170284, 0.9824735390944921, 0.6723735467084928, -0.23205514791807946, 0.5717763972913166, -0.14254107525987703, 0.41836172699071716, 0.12881642554880846, -0.8518400640412336, -0.6548380781670546, -0.9124558701517695, -0.12342522115253707, 0.47858097526515975, 0.78672320275474, 0.4100800225120287, -0.5750228093633891, 0.528346812769261, -0.9722200430033827, -0.42240998343488845, -0.9171760753265286, 0.7566892039760549, -0.02998090126411901, -0.11814745094679058, -0.6143994643680826, 0.8096379653577954, 0.026646493678136762, -0.511211676474032, 0.23503860977380864, 0.05402523823584415, -0.4581450107394056, 0.30119096011744473, 0.1284616955369604, 0.5976618139536731, 0.7313679074007136, -0.0255395904102107, -0.9770117735090613, 0.193597347375555, 0.06975597152127921, 0.2181307168533948, -0.5487302113841335, 0.715489019177544, 0.8274106117487288, 0.2374343924825253, 0.9629386420911787, 0.23660918716703083, -0.9035249178150233, 0.05359818623674939, 0.10225458081882999, -0.8327038628416734, 0.011816969479188977, 0.6194251488130298, -0.34562949868296444, -0.41427158390232943, 0.3345742041676323, -0.25251564984242325, -0.25144591533656535, 0.8009599356721289, 0.7717559461435397, 0.46331484249586574, 0.4208996365054265, -0.10844355824407015, -0.31296039045679924, -0.696022977045279, 0.12803572395304608, 0.3026302915265704, 0.6135081598102246, 0.18371951492040206, 0.48792654223069265, -0.03158236953140725, -0.8698420363314379, 0.6411856897275585, -0.06336776674179956, -0.413125603317793, -0.690993753587873, -0.4774366674381889, -0.13678176897288163, -0.7472384194402353, 0.6252465482894578, 0.7408376153848046, 0.1183799042724285, -0.48057031876256606, -0.8191274391344459, 0.08170576206062052, -0.1521716536987623, 0.8987228987463685, -0.6117240393515639, -0.8529229113399077, -0.19227913377902728, 0.6650169751557422, -0.9210238465459668, -0.4815829834178258, -0.6526279952107521, -0.6469164877147062, 0.22298379170380622, -0.0998305698628763, 0.04634952293353756, 0.21863713143843433, 0.8340922822303147, -0.3695459189568888, -0.2636459169166079, -0.12912021993626266, 0.16269466450688364, -0.5525624499470283, 0.746190719556642, 0.06315702616830365, -0.21016822104595922, -0.7684147844213898, 0.567610889195455, 0.5815595041251325, -0.17391917812949775, -0.5034964731636926, 0.21823617572534526, 0.12157326047090744, 0.9273486444458778, 0.4137036622925643, -0.40610443965756526, -0.24444155337044982, 0.02876878109613412, 0.6892229680844542, -0.6366073332605691, -0.4871078602368337, 0.4483712321132418, -0.8966296488607421, 0.7785404532685725, -0.1734519187603687, -0.9549819446907104, -0.7603213096646995, -0.172564123189191, -0.4289392952880664, 0.9224074548278862, -0.6031019483644224, 0.9248463620896403, -0.9038465696102651, 0.1604807888214419, -0.9223976140532439, -0.4004112658792143, 0.8299088888000004, -0.8386371661609697, -0.7375111633994329, -0.764855755578288, 0.24050828474512587, -0.97282115556904, -0.631540862742191, -0.7100874030224733, 0.680117746224401, -0.24251828726845326, 0.49602903608869364, -0.23489403986276702, -0.50793476707487, 0.6790027069840279, 0.4406457235199699, 0.3711126125559927, 0.5853942784488513, 0.36750724297047666, -0.1558952244136398, 0.03743740063988232, 0.9360059417100961, 0.9443439723135831, 0.2519830596023136, -0.40321680708069163, -0.41704813338152547, -0.5277706617307294, 0.7887485767649023, 0.06926578267935346, -0.5500974637329841, 0.23002420664023004, 0.4437617155376419, 0.8918681007549758, -0.8457364951701563, -0.9565410628501354, 0.06711558052519284, -0.5437550619425824, 0.9944257445314784, 0.2913525338794427, 0.5902948792442873, 0.22790584239775669, -0.8895542252946749, -0.45300714200718084, 0.47447858230741513, -0.776966310786761, -0.900674394095045, 0.9269902121263884, -0.5349548044519716, -0.6837594406334244, -0.06098577202279554, -0.6078028331774203, -0.04456713202355056, -0.006612556635550604, 0.3439399335565365, -0.19399073923893195, 0.4853962026439649, -0.6406424305541547, 0.04792548993543644, 0.1817605691976314, 0.17210701499352532, 0.5404783253425605, -0.028871272570134998, 0.12286388172532026, -0.9676213763334462, -0.08541032352036537, 0.529475722627905, -0.7877743210865327, -0.6909058905686125, -0.6177907031175944, -0.6507626815768304, -0.6197542897954476, 0.3231827070713753, -0.19592721513861755, -0.9637077534102165, -0.33210812521390176, -0.049548679515714955, -0.21859763906791363, -0.3917748202437288, -0.8189959528572435, 0.7045983672655642, -0.511382256262944, 0.6345667452407091, 0.5168957830692291, -0.2750110433142203, 0.25308500196686, 0.15507074895201178, 0.516586052519538, -0.7603887802052729, 0.7365671737304524, 0.5629974186440507, -0.4582050477368207, 0.983307178511841, 0.30043052360896505, 0.1961217190811717, -0.8636512798638527, -0.09528076013971143, -0.2414971718842931, -0.48596477563978624, 0.2827524183404655, 0.24006217032002186, 0.495882071068906, 0.5241431788170796, -0.11082380669470981, 0.9458547228682059, -0.7147796965765105, 0.8883306915395004, -0.9339793134843233, -0.7069827014649765, -0.9491436221268486, 0.28757946259628864, 0.45022958215287967, -0.07801747045653351, 0.6792005206716585, 0.21807045841811856, 0.8174759026046827, -0.3470680068928529, -0.6401676295042507, 0.1337124116294821, 0.10187325648461454, 0.6847406773952436, 0.9024017499999843, 0.26546976492107266, -0.6986869023155706, -0.4951053625030839, 0.7364253386502035, 0.20939944456153015, -0.19835415859382288, 0.7877627603202577, -0.5448139238428145, 0.7637833064305208, 0.4692414716467199, 0.96786851756684, -0.4821735340441293, 0.897504645038615, -0.07884645313117256, 0.3640114592780612, 0.800175299783443, 0.48303332063390214, -0.3074961033904289, 0.21995388535141136, -0.3026850796993339, 0.7748387029711086, -0.3759556324396487, -0.8113780168845866, -0.9746020729501936, -0.8519774013191228, -0.33256947533567627, -0.6825582811646413, 0.24884935896728733, -0.18968578165663175, -0.9224471266939498, 0.7541569494268128, -0.8622464554888314, -0.4309387365727846, -0.18846392321190164, -0.044644513188653034, -0.0432105163000398, 0.5036694106876893, 0.009955053038138928, -0.914710655606654, -0.498463839612882, 0.14776990026456716, -0.7178796277150399, -0.5204317839964299, 0.7468386816914296, 0.7588921421724892, 0.8469515601014255, -0.04807098090887574, 0.9483183513253914, -0.127734681409438, -0.8328021201289497, -0.48482045011279795, -0.30319430733033914, 0.03568298355194921, -0.4906083648874138, -0.6675940875648085, -0.42041039726190843, 0.9620375840651008, 0.27687624490898455, 0.9957160554842628, -0.03200955494361324, 0.1876598423623721, -0.41750970318506697, 0.08089694267945813, 0.8889134408243022, 0.5868956293382568, 0.7477662820151711, 0.06275611234030598, 0.3354447059275254, -0.5821236406100365, -0.8369687906567354, -0.7174658176329671, -0.5565932533850526, 0.644373492505647, 0.5692519689522069, -0.7997292783318679, 0.3837068840008837, -0.5429678747948141, 0.7627464654843814, -0.7764527707576465, 0.7989677991379929, 0.6446433207705706, -0.2931754505150206, -0.7478542571982965, 0.9718201594508968, -0.12292421461450753, -0.34151095947861876, -0.8232424634207931, -0.046205455103808246, 0.18977756205632534, -0.28116540115497624, 0.5462597263192623, 0.6171119301085795, 0.9531957433381453, 0.9285214227981293, 0.7706845577023813, -0.5770239931536276, 0.5522731495057382, 0.1386971656568805, -0.09689141314006, 0.08411027143301752, 0.56399180475655, 0.3058468644953558, 0.20132551563356627, -0.006038582814530624, -0.20416836665681437, -0.2906788934172768, 0.5181223839971414, -0.5303291600966553, 0.7947550474464138, 0.3100092726091326, 0.36467028173593996, 0.15739331520265898, -0.19045341483584144, -0.1498655981169914, 0.49427152857088874, -0.27338688454105964, 0.5099936313941986, -0.8506141737217401, 0.3408768253426848, 0.5437556678922464, 0.5950940539716658, -0.1188354082199059, -0.8286598601362816, 0.12961235549436756, 0.7693117439380996, -0.23709163025752789, -0.9263549082700582, -0.17608278533789679, -0.14843396503618322, 0.2636386813802507, -0.09205856588388772, -0.4110906829350829, -0.07217327116578942, -0.1918298302180912, -0.5700597440737791, -0.7745757742090746, 0.08777404601605232, 0.6071676235025392, 0.7627086343546245, -0.9079120542238208, 0.8105662529977009, 0.4481162123372513, -0.8024645522509721, 0.42085589936983503, -0.26102247263398937, 0.5616415391431937, 0.45288868983677766, 0.45678955771750673, -0.41278094987920944, -0.769663411749993, 0.033156669100817604, -0.03600517362734745, -0.5092743320528859, 0.981396320394254, -0.3298193850320912, -0.7906820865989934, 0.8121262402167229, 0.7647758359171986, 0.4886975724861502, -0.23059670276012634, 0.38944544328682484, 0.18420753618925056, -0.9314842635529854, 0.7678715546878803, 0.3481317850788834, 0.0248656097780644, 0.5492283039813322, -0.5112937521446912, 0.4486785032954337, 0.8512152049477426, -0.07844950756379765, -0.8799778627398502, -0.24926160066470993, 0.5102471741708063, -0.0009658216162256039, 0.9940073206729723, -0.5141569396050314, 0.5641176592539494, 0.37345142465995496, -0.6389495797438853, -0.22112547956951323, -0.2620863574546941, -0.23821667589707607, 0.1362379676606058, -0.4569965831161964, 0.4462713444263051, -0.09013001650495567, -0.6265254979732555, -0.057822635982955006, 0.8298258713139186, -0.9243004298599795, 0.23073283006074585, -0.6025439541696342, 0.7191578558521154, -0.11754153610988793, -0.12174024566133701, -0.31302340501956993, -0.39295329538597246, 0.27587953729145687, -0.7115065540611347, -0.8974304003672975, -0.925985837373575, 0.16684077065949476, 0.865164446299652, -0.00258753057809602, -0.5814459737739666, -0.5671142986468252, 0.7364282105942785, -0.1100090772760347, 0.8881361126728475, -0.831450453541128, -0.8220267586791346, -0.901996972932614, -0.5200367872337466, 0.4343395962824008, 0.5692939876368726, -0.6187383091222205, -0.539821001924883, -0.5274749344472933, 0.9391957549835754, 0.9057842900727038, -0.5743817953471919, 0.9172822205620315, -0.28923440866106587, 0.45674240562146484]\n"
          ]
        }
      ],
      "source": [
        "dummy_pred = dummy_regressor(y_test_normalized)\n",
        "print(\"y_dummy_pred:\", dummy_pred)"
      ]
    },
    {
      "cell_type": "code",
      "execution_count": 195,
      "metadata": {},
      "outputs": [
        {
          "name": "stdout",
          "output_type": "stream",
          "text": [
            "Training Linear Regression model...\n"
          ]
        },
        {
          "name": "stdout",
          "output_type": "stream",
          "text": [
            "\n",
            "Iteration: 10000 \n",
            " W: [[-0.04676987]\n",
            " [ 3.4416952 ]\n",
            " [-1.056574  ]\n",
            " [-2.3524497 ]\n",
            " [ 0.03947638]]  b: [6.837758e-05]  loss: 0.8108598\n",
            "\n",
            "Iteration: 20000 \n",
            " W: [[-2.1004800e-02]\n",
            " [ 6.4455943e+00]\n",
            " [-2.1231716e+00]\n",
            " [-4.2780738e+00]\n",
            " [-2.2372708e-03]]  b: [3.1800595e-05]  loss: 0.6718761\n",
            "\n",
            "Iteration: 30000 \n",
            " W: [[-1.3473415e-03]\n",
            " [ 9.0789042e+00]\n",
            " [-3.1753907e+00]\n",
            " [-5.8504267e+00]\n",
            " [-3.3865441e-02]]  b: [3.8715384e-06]  loss: 0.5665248\n",
            "\n",
            "Iteration: 40000 \n",
            " W: [[ 0.01339069]\n",
            " [11.393152  ]\n",
            " [-4.201478  ]\n",
            " [-7.1322    ]\n",
            " [-0.05739504]]  b: [-1.7083687e-05]  loss: 0.48585612\n",
            "\n",
            "Iteration: 50000 \n",
            " W: [[ 0.02419347]\n",
            " [13.432026  ]\n",
            " [-5.1928873 ]\n",
            " [-8.175158  ]\n",
            " [-0.07443843]]  b: [-3.2459902e-05]  loss: 0.4234723\n",
            "\n",
            "Iteration: 60000 \n",
            " W: [[ 0.03183892]\n",
            " [15.232176  ]\n",
            " [-6.143442  ]\n",
            " [-9.021725  ]\n",
            " [-0.08632819]]  b: [-4.3350814e-05]  loss: 0.3747793\n",
            "\n",
            "Iteration: 70000 \n",
            " W: [[ 0.03699317]\n",
            " [16.82554   ]\n",
            " [-7.049427  ]\n",
            " [-9.707239  ]\n",
            " [-0.09412494]]  b: [-5.072836e-05]  loss: 0.33642322\n",
            "\n",
            "Iteration: 80000 \n",
            " W: [[  0.04018761]\n",
            " [ 18.238674  ]\n",
            " [ -7.9081793 ]\n",
            " [-10.260683  ]\n",
            " [ -0.09871393]]  b: [-5.531317e-05]  loss: 0.30596557\n",
            "\n",
            "Iteration: 90000 \n",
            " W: [[  0.04186622]\n",
            " [ 19.495096  ]\n",
            " [ -8.718688  ]\n",
            " [-10.706406  ]\n",
            " [ -0.10079409]]  b: [-5.7760644e-05]  loss: 0.28158918\n",
            "\n",
            "Iteration: 100000 \n",
            " W: [[  0.0423276 ]\n",
            " [ 20.61442   ]\n",
            " [ -9.48126   ]\n",
            " [-11.063445  ]\n",
            " [ -0.10096758]]  b: [-5.8460995e-05]  loss: 0.2619476\n",
            "\n",
            "Iteration: 110000 \n",
            " W: [[  0.04188361]\n",
            " [ 21.613224  ]\n",
            " [-10.1961355 ]\n",
            " [-11.34809   ]\n",
            " [ -0.09966468]]  b: [-5.7900164e-05]  loss: 0.24603084\n",
            "\n",
            "Iteration: 120000 \n",
            " W: [[  0.04080385]\n",
            " [ 22.505997  ]\n",
            " [-10.863188  ]\n",
            " [-11.574843  ]\n",
            " [ -0.09730244]]  b: [-5.640801e-05]  loss: 0.23307198\n",
            "\n",
            "Iteration: 130000 \n",
            " W: [[  0.0391977 ]\n",
            " [ 23.305855  ]\n",
            " [-11.484303  ]\n",
            " [-11.754703  ]\n",
            " [ -0.09423769]]  b: [-5.417504e-05]  loss: 0.22246912\n",
            "\n",
            "Iteration: 140000 \n",
            " W: [[  0.03723037]\n",
            " [ 24.023407  ]\n",
            " [-12.063953  ]\n",
            " [-11.893967  ]\n",
            " [ -0.09052066]]  b: [-5.143039e-05]  loss: 0.2137519\n",
            "\n",
            "Iteration: 150000 \n",
            " W: [[  0.03501232]\n",
            " [ 24.668007  ]\n",
            " [-12.603401  ]\n",
            " [-12.000623  ]\n",
            " [ -0.08636957]]  b: [-4.8332582e-05]  loss: 0.20656282\n",
            "\n",
            "Iteration: 160000 \n",
            " W: [[  0.03263002]\n",
            " [ 25.24842   ]\n",
            " [-13.103889  ]\n",
            " [-12.082045  ]\n",
            " [ -0.08203606]]  b: [-4.4993154e-05]  loss: 0.200617\n",
            "\n",
            "Iteration: 170000 \n",
            " W: [[  0.03018488]\n",
            " [ 25.771374  ]\n",
            " [-13.566876  ]\n",
            " [-12.143528  ]\n",
            " [ -0.07761336]]  b: [-4.1566447e-05]  loss: 0.19569264\n",
            "\n",
            "Iteration: 180000 \n",
            " W: [[  0.02769602]\n",
            " [ 26.243813  ]\n",
            " [-13.995799  ]\n",
            " [-12.188527  ]\n",
            " [ -0.07317657]]  b: [-3.8062797e-05]  loss: 0.1915992\n",
            "\n",
            "Iteration: 190000 \n",
            " W: [[ 2.5270108e-02]\n",
            " [ 2.6670164e+01]\n",
            " [-1.4391326e+01]\n",
            " [-1.2220856e+01]\n",
            " [-6.8797648e-02]]  b: [-3.4661367e-05]  loss: 0.1882\n",
            "Early stopping at epoch 195703\n",
            "Training Neural Network model...\n",
            "\n",
            "Iteration: 10000 \n",
            " W1: [[ 0.44080234  1.0221384   0.22298859 -1.0770172  -0.5467713   2.005202\n",
            "  -0.88332087 -0.2926     -0.9362306  -0.08139142]\n",
            " [-0.7480174   1.2093645  -0.41271538 -0.2918959  -0.26177788 -1.275482\n",
            "  -0.5995054   0.15274256  0.13194919 -0.792122  ]\n",
            " [-0.82852626 -0.26021647 -0.6770356  -0.20259304 -0.27821177  0.5996069\n",
            "   0.38016203 -0.04815327  1.7899357   0.7398066 ]\n",
            " [-0.87257254  1.1898229   0.21717542 -0.5079816   0.5892298   0.91992396\n",
            "   1.2372502  -2.232561   -1.3745155  -0.30711892]\n",
            " [ 0.16434313 -1.1075523  -1.6835926  -0.47191012  2.3215024   0.31384054\n",
            "   0.429705   -0.3838657   0.84951746 -0.44985825]]  b1: [-0.08754836  0.2520377  -0.10200886  0.03674892  0.00658401 -0.09005043\n",
            " -0.01304043  0.05739701 -0.4261671  -0.01231677] \n",
            " W2: [[ 0.78954774]\n",
            " [ 0.49960455]\n",
            " [-0.87392324]\n",
            " [ 0.31699696]\n",
            " [ 0.0486462 ]\n",
            " [-0.5401115 ]\n",
            " [-1.1056231 ]\n",
            " [-0.35589552]\n",
            " [ 1.4146068 ]\n",
            " [ 0.803673  ]]  b2: [0.18638898]  loss: 0.8893173\n",
            "\n",
            "Iteration: 20000 \n",
            " W1: [[ 0.48121476  1.1647015   0.21771193 -1.061747   -0.5115294   1.8769393\n",
            "  -0.7963092  -0.26980308 -0.9436861  -0.04146711]\n",
            " [-0.7051267   1.3424608  -0.40658832 -0.29714122 -0.20038569 -1.4814837\n",
            "  -0.97936726  0.13976589  0.56896573 -0.8082841 ]\n",
            " [-0.810225   -0.36560586 -0.66034627 -0.21759479 -0.27475938  0.647531\n",
            "   0.53918946 -0.05332191  1.6664312   0.7081693 ]\n",
            " [-0.8499373   1.0537848   0.23340155 -0.5209419   0.5832723   1.0100869\n",
            "   1.4839958  -2.237161   -1.5951327  -0.33369482]\n",
            " [ 0.07539525 -1.003665   -1.6605521  -0.47771335  2.347562    0.23512\n",
            "   0.46993688 -0.35207495  0.74766254 -0.46565297]]  b1: [-0.10521757  0.3074371  -0.08179166  0.03303313  0.02148178 -0.12218142\n",
            "  0.0611425   0.11455888 -0.3944007  -0.04634439] \n",
            " W2: [[ 0.7151352 ]\n",
            " [ 0.68809325]\n",
            " [-0.81276   ]\n",
            " [ 0.30944496]\n",
            " [ 0.22384074]\n",
            " [-0.74787164]\n",
            " [-1.5916972 ]\n",
            " [-0.34352168]\n",
            " [ 1.5366164 ]\n",
            " [ 0.8090493 ]]  b2: [0.15667102]  loss: 0.78071535\n",
            "\n",
            "Iteration: 30000 \n",
            " W1: [[ 0.51105887  1.3019228   0.21660686 -1.0554141  -0.46674725  1.7298164\n",
            "  -0.7620535  -0.26187855 -0.9357967  -0.0143517 ]\n",
            " [-0.68220663  1.5029496  -0.39398682 -0.29974043 -0.09963943 -1.7091368\n",
            "  -1.4614348   0.13386586  0.9962967  -0.82546353]\n",
            " [-0.80866003 -0.49705228 -0.63833827 -0.22889991 -0.28247586  0.7482815\n",
            "   0.7479113  -0.05151728  1.5202817   0.678854  ]\n",
            " [-0.8456567   0.89632833  0.25595543 -0.531119    0.56383705  1.1444907\n",
            "   1.7593018  -2.2337441  -1.8001652  -0.36076155]\n",
            " [ 0.02685657 -0.87549454 -1.6563873  -0.47803703  2.3822606   0.1708271\n",
            "   0.45890808 -0.34634283  0.6475266  -0.4668014 ]]  b1: [-0.14722045  0.33105662 -0.0426365   0.02437928  0.03509841 -0.15582481\n",
            "  0.08014134  0.15428296 -0.3022482  -0.06875948] \n",
            " W2: [[ 0.71071404]\n",
            " [ 0.9214454 ]\n",
            " [-0.78328395]\n",
            " [ 0.31507742]\n",
            " [ 0.3500034 ]\n",
            " [-1.0810412 ]\n",
            " [-2.193337  ]\n",
            " [-0.3188956 ]\n",
            " [ 1.7440767 ]\n",
            " [ 0.8141305 ]]  b2: [0.09108969]  loss: 0.6351315\n",
            "\n",
            "Iteration: 40000 \n",
            " W1: [[ 0.53180707  1.4370387   0.21109709 -1.0511137  -0.43418878  1.5969571\n",
            "  -0.76187444 -0.25815555 -0.88569903  0.00999538]\n",
            " [-0.6643298   1.7017485  -0.38872844 -0.29735884 -0.00474637 -1.9237275\n",
            "  -1.9545473   0.12674458  1.4225352  -0.8308028 ]\n",
            " [-0.8093318  -0.63039124 -0.6246168  -0.23429604 -0.3067871   0.92886263\n",
            "   1.0369487  -0.05175307  1.3824997   0.66227794]\n",
            " [-0.84600157  0.75814897  0.27061874 -0.53583235  0.5406907   1.3165383\n",
            "   2.0206704  -2.2312174  -1.9277201  -0.3758671 ]\n",
            " [ 0.01652906 -0.6600387  -1.6471574  -0.48140565  2.400465    0.15308435\n",
            "   0.46569276 -0.34420118  0.590808   -0.47712898]]  b1: [-0.18927635  0.32879633 -0.03563294  0.03225377  0.02530213 -0.10978521\n",
            "  0.10285636  0.17211147 -0.13446294 -0.06199857] \n",
            " W2: [[ 0.719748  ]\n",
            " [ 1.2023643 ]\n",
            " [-0.7526354 ]\n",
            " [ 0.3158147 ]\n",
            " [ 0.3983273 ]\n",
            " [-1.4881428 ]\n",
            " [-2.830049  ]\n",
            " [-0.30188316]\n",
            " [ 1.978319  ]\n",
            " [ 0.81812   ]]  b2: [0.01636951]  loss: 0.46826097\n",
            "\n",
            "Iteration: 50000 \n",
            " W1: [[ 0.56873345  1.5056229   0.19125055 -1.041187   -0.41999555  1.4985869\n",
            "  -0.68426406 -0.2658366  -0.7987429   0.04503759]\n",
            " [-0.6499988   1.8900071  -0.38826916 -0.29260722  0.06608379 -2.1212983\n",
            "  -2.3971136   0.1212214   1.7456776  -0.8298582 ]\n",
            " [-0.8116703  -0.7763993  -0.6163009  -0.236394   -0.34144282  1.1338893\n",
            "   1.3480735  -0.05118129  1.2042546   0.65246165]\n",
            " [-0.8488413   0.67094064  0.2795872  -0.5370682   0.52732867  1.4360662\n",
            "   2.1518123  -2.2284248  -1.9980654  -0.38440832]\n",
            " [ 0.02755033 -0.52903676 -1.6346056  -0.48718175  2.4110148   0.14321114\n",
            "   0.54271525 -0.34306479  0.67395943 -0.4916811 ]]  b1: [-0.18971033  0.28872958 -0.04492882  0.0457147   0.00819951 -0.01953196\n",
            "  0.12375353  0.17532805  0.0268962  -0.04790147] \n",
            " W2: [[ 0.7409887 ]\n",
            " [ 1.4912586 ]\n",
            " [-0.71587735]\n",
            " [ 0.2917387 ]\n",
            " [ 0.45733184]\n",
            " [-1.856504  ]\n",
            " [-3.3457983 ]\n",
            " [-0.28911465]\n",
            " [ 2.166584  ]\n",
            " [ 0.82204586]]  b2: [-0.0326953]  loss: 0.34051484\n",
            "\n",
            "Iteration: 60000 \n",
            " W1: [[ 0.58990914  1.5483459   0.17771263 -1.0374951  -0.42339656  1.4365574\n",
            "  -0.61436456 -0.26528364 -0.7370222   0.06950887]\n",
            " [-0.63324475  2.0169742  -0.38614768 -0.28770757  0.11509624 -2.2599502\n",
            "  -2.7439396   0.11646874  1.9533762  -0.83142745]\n",
            " [-0.80861676 -0.93516225 -0.6071081  -0.23710759 -0.37667376  1.3415816\n",
            "   1.6247412  -0.05085406  1.0207188   0.6406798 ]\n",
            " [-0.84520966  0.6247743   0.28890908 -0.53670776  0.5289635   1.4901583\n",
            "   2.1369421  -2.2278986  -2.0064642  -0.3946447 ]\n",
            " [ 0.03733975 -0.4216981  -1.6336888  -0.48864695  2.4100313   0.10190492\n",
            "   0.59625566 -0.33280113  0.7341278  -0.49307746]]  b1: [-0.17179383  0.3190048  -0.05346936  0.05078597  0.00828813  0.13320448\n",
            "  0.19708802  0.18019357  0.18437542 -0.03961993] \n",
            " W2: [[ 0.73156   ]\n",
            " [ 1.7258726 ]\n",
            " [-0.70540726]\n",
            " [ 0.27710065]\n",
            " [ 0.4929033 ]\n",
            " [-2.1333394 ]\n",
            " [-3.7053769 ]\n",
            " [-0.27142754]\n",
            " [ 2.2607698 ]\n",
            " [ 0.82128   ]]  b2: [-0.04130202]  loss: 0.26411474\n",
            "\n",
            "Iteration: 70000 \n",
            " W1: [[ 0.59578097  1.560272    0.15925328 -1.0316834  -0.43509206  1.3920393\n",
            "  -0.5494929  -0.2602696  -0.697953    0.0896177 ]\n",
            " [-0.6119521   2.085746   -0.3854236  -0.28404433  0.14679751 -2.350882\n",
            "  -2.9678307   0.11067297  2.0889027  -0.830797  ]\n",
            " [-0.797493   -1.0830933  -0.60045    -0.23790963 -0.40450874  1.5281221\n",
            "   1.8619534  -0.05270584  0.88062024  0.63235736]\n",
            " [-0.8335758   0.61296165  0.29510796 -0.53624994  0.54160625  1.4906046\n",
            "   2.054706   -2.2297277  -1.9583671  -0.40115485]\n",
            " [ 0.03875122 -0.3766942  -1.6323919  -0.48987734  2.4030666   0.08555073\n",
            "   0.5799112  -0.31563795  0.7405895  -0.49566084]]  b1: [-0.15466198  0.40880537 -0.07962339  0.05510553  0.01375752  0.27746567\n",
            "  0.26884893  0.18298154  0.34109074 -0.02661219] \n",
            " W2: [[ 0.6875263 ]\n",
            " [ 1.9002526 ]\n",
            " [-0.69680876]\n",
            " [ 0.25348982]\n",
            " [ 0.5137226 ]\n",
            " [-2.3318372 ]\n",
            " [-3.928149  ]\n",
            " [-0.26276135]\n",
            " [ 2.2886286 ]\n",
            " [ 0.8202991 ]]  b2: [-0.02116306]  loss: 0.22099023\n",
            "\n",
            "Iteration: 80000 \n",
            " W1: [[ 0.58899635  1.546955    0.15321933 -1.0270814  -0.43678853  1.3624457\n",
            "  -0.49342322 -0.24780107 -0.65115404  0.09458046]\n",
            " [-0.5933476   2.1321359  -0.38432983 -0.28268266  0.16597967 -2.4020402\n",
            "  -3.096548    0.10525342  2.1743221  -0.8307927 ]\n",
            " [-0.7858399  -1.1901737  -0.5947005  -0.23978609 -0.42614955  1.6777564\n",
            "   2.0557973  -0.05511569  0.78188586  0.6250127 ]\n",
            " [-0.8224052   0.6356556   0.30049306 -0.5369588   0.5568135   1.4690094\n",
            "   1.9566692  -2.232112   -1.891386   -0.40700772]\n",
            " [ 0.03849649 -0.3688321  -1.6292169  -0.49163103  2.3991833   0.06550285\n",
            "   0.5604977  -0.2968145   0.7405767  -0.50048876]]  b1: [-0.14444795  0.46980277 -0.09134723  0.0565726   0.0288914   0.35743585\n",
            "  0.31494978  0.1931654   0.44055772 -0.02618269] \n",
            " W2: [[ 0.63417387]\n",
            " [ 2.021094  ]\n",
            " [-0.6860367 ]\n",
            " [ 0.2400011 ]\n",
            " [ 0.53769284]\n",
            " [-2.462159  ]\n",
            " [-4.064893  ]\n",
            " [-0.25640067]\n",
            " [ 2.2790935 ]\n",
            " [ 0.82099193]]  b2: [0.00084349]  loss: 0.19941448\n",
            "\n",
            "Iteration: 90000 \n",
            " W1: [[ 0.57497495  1.5382954   0.15284058 -1.0245306  -0.43651396  1.351562\n",
            "  -0.45809355 -0.23193735 -0.62385833  0.09224536]\n",
            " [-0.5788931   2.152093   -0.3819387  -0.28230473  0.17690045 -2.4335017\n",
            "  -3.1771328   0.10046158  2.2228656  -0.831985  ]\n",
            " [-0.7764061  -1.2758566  -0.5884596  -0.24180537 -0.4427095   1.7852101\n",
            "   2.1958506  -0.05752378  0.7096258   0.6177526 ]\n",
            " [-0.8141699   0.6567668   0.30668032 -0.5381509   0.5698311   1.4408494\n",
            "   1.8605402  -2.234496   -1.8343121  -0.4133237 ]\n",
            " [ 0.03425304 -0.35719267 -1.6281908  -0.49248752  2.3933334   0.04024395\n",
            "   0.54834217 -0.27600056  0.7399229  -0.5031104 ]]  b1: [-0.1443319   0.5017517  -0.09151807  0.05679484  0.04834585  0.39255035\n",
            "  0.33468914  0.20744668  0.48977578 -0.03710409] \n",
            " W2: [[ 0.5832893 ]\n",
            " [ 2.0986688 ]\n",
            " [-0.67981684]\n",
            " [ 0.23388577]\n",
            " [ 0.5436413 ]\n",
            " [-2.5491922 ]\n",
            " [-4.1501164 ]\n",
            " [-0.24939334]\n",
            " [ 2.2573278 ]\n",
            " [ 0.8216396 ]]  b2: [0.02316432]  loss: 0.18894191\n",
            "\n",
            "Iteration: 100000 \n",
            " W1: [[ 0.56066215  1.531268    0.1533194  -1.0221465  -0.43397352  1.345847\n",
            "  -0.4328483  -0.2173333  -0.60506064  0.08481596]\n",
            " [-0.56679136  2.160488   -0.38036135 -0.28189164  0.18149729 -2.4508424\n",
            "  -3.2281227   0.09611224  2.2527945  -0.83123815]\n",
            " [-0.76788247 -1.3383145  -0.58353835 -0.24333462 -0.45610404  1.8630096\n",
            "   2.29381    -0.0599538   0.66027886  0.6134951 ]\n",
            " [-0.8076153   0.67388517  0.31192335 -0.53906035  0.57827634  1.4188932\n",
            "   1.779648   -2.2368803  -1.7884878  -0.41745585]\n",
            " [ 0.02921932 -0.33858204 -1.6269399  -0.49343362  2.3884125   0.00977957\n",
            "   0.54677385 -0.25736946  0.73585385 -0.5070391 ]]  b1: [-0.14768709  0.5244893  -0.08935968  0.05840469  0.07234088  0.4082795\n",
            "  0.35126048  0.21979445  0.5207941  -0.05457058] \n",
            " W2: [[ 0.5356344 ]\n",
            " [ 2.148308  ]\n",
            " [-0.6734277 ]\n",
            " [ 0.22896719]\n",
            " [ 0.5403413 ]\n",
            " [-2.607628  ]\n",
            " [-4.2049904 ]\n",
            " [-0.24514373]\n",
            " [ 2.2357533 ]\n",
            " [ 0.82236135]]  b2: [0.05226889]  loss: 0.18336268\n",
            "\n",
            "Iteration: 110000 \n",
            " W1: [[ 0.54408413  1.526239    0.15225556 -1.0195504  -0.4310292   1.3428215\n",
            "  -0.41562262 -0.20631671 -0.58989596  0.07717454]\n",
            " [-0.5572504   2.163332   -0.37924317 -0.28159857  0.18393928 -2.4613838\n",
            "  -3.2597837   0.09254513  2.2734175  -0.8295952 ]\n",
            " [-0.7612744  -1.382941   -0.57936895 -0.24471796 -0.46577546  1.9181604\n",
            "   2.3626595  -0.06194987  0.62831694  0.61115444]\n",
            " [-0.8030606   0.6860652   0.31665313 -0.54000866  0.58450115  1.4036255\n",
            "   1.7179427  -2.2392645  -1.7518984  -0.42056847]\n",
            " [ 0.01770237 -0.32272923 -1.6257478  -0.494098    2.3836439  -0.01545601\n",
            "   0.546364   -0.24382563  0.731917   -0.5107678 ]]  b1: [-0.1575287   0.53723264 -0.08762517  0.0605041   0.0893071   0.41610757\n",
            "  0.3590954   0.22687179  0.5405718  -0.06494138] \n",
            " W2: [[ 0.49296895]\n",
            " [ 2.180114  ]\n",
            " [-0.6681717 ]\n",
            " [ 0.22289404]\n",
            " [ 0.5324584 ]\n",
            " [-2.648741  ]\n",
            " [-4.240576  ]\n",
            " [-0.24064454]\n",
            " [ 2.217917  ]\n",
            " [ 0.82307756]]  b2: [0.07706666]  loss: 0.18046449\n",
            "\n",
            "Iteration: 120000 \n",
            " W1: [[ 5.2992254e-01  1.5219479e+00  1.4737159e-01 -1.0159742e+00\n",
            "  -4.2891854e-01  1.3328388e+00 -4.0278059e-01 -1.9801605e-01\n",
            "  -5.8301586e-01  7.6674581e-02]\n",
            " [-5.4985416e-01  2.1634502e+00 -3.7853199e-01 -2.8153136e-01\n",
            "   1.8639204e-01 -2.4633348e+00 -3.2823386e+00  8.9447647e-02\n",
            "   2.2865863e+00 -8.2787430e-01]\n",
            " [-7.5661004e-01 -1.4142386e+00 -5.7578212e-01 -2.4606405e-01\n",
            "  -4.7134495e-01  1.9629229e+00  2.4086161e+00 -6.3622728e-02\n",
            "   6.0626352e-01  6.0928047e-01]\n",
            " [-8.0029583e-01  6.9452399e-01  3.2094082e-01 -5.4104805e-01\n",
            "   5.9032792e-01  1.3961599e+00  1.6685654e+00 -2.2392974e+00\n",
            "  -1.7245436e+00 -4.2341179e-01]\n",
            " [ 2.9424164e-03 -3.1329787e-01 -1.6237794e+00 -4.9493974e-01\n",
            "   2.3788755e+00 -3.0812517e-02  5.4286587e-01 -2.3174417e-01\n",
            "   7.2921020e-01 -5.1479876e-01]]  b1: [-0.16612674  0.5512919  -0.08671273  0.06294841  0.10179983  0.43781596\n",
            "  0.35966033  0.23193456  0.5565051  -0.07184057] \n",
            " W2: [[ 0.45889163]\n",
            " [ 2.2022562 ]\n",
            " [-0.6611869 ]\n",
            " [ 0.21225797]\n",
            " [ 0.52490157]\n",
            " [-2.6776984 ]\n",
            " [-4.262891  ]\n",
            " [-0.23542786]\n",
            " [ 2.2054176 ]\n",
            " [ 0.8243837 ]]  b2: [0.09773406]  loss: 0.17881\n",
            "Early stopping at epoch 120306\n",
            "Linear Regression R-Squared score is: 0.7756200579730448 and MSE on the test set is: 0.20110484957695007\n",
            "Neural Network R-Squared score is: 0.7930579359242167 and MSE on the test set is: 0.18547581136226654\n",
            "Dummy Model R-Squared score is: -0.3675316464329903 and MSE on the test set is: 1.2256766336894482\n"
          ]
        }
      ],
      "source": [
        "# Train the models\n",
        "print(\"Training Linear Regression model...\")\n",
        "sess_linear, pred_linear, x_linear = train_linear_regression(X_train_normalized, y_train_normalized, learning_rate=0.01, threshold=0.0000000000001)\n",
        "print(\"Training Neural Network model...\")\n",
        "sess_nn, pred_nn, x_nn = train_neural_network(X_train_normalized, y_train_normalized, learning_rate=0.001, threshold=0.0000000000001) \n",
        "\n",
        "# Make predictions\n",
        "y_pred_linear = sess_linear.run(pred_linear, feed_dict={x_linear: X_test_normalized.values})\n",
        "y_pred_nn = sess_nn.run(pred_nn, feed_dict={x_nn: X_test_normalized.values})\n",
        "\n",
        "# Calculate R-Squared score\n",
        "r2_linear = r2_score(y_test_normalized, y_pred_linear)\n",
        "r2_nn = r2_score(y_test_normalized, y_pred_nn)\n",
        "r2_dummy = r2_score(y_test_normalized, dummy_pred)\n",
        "\n",
        "mse_linear = mean_squared_error(y_test_normalized, y_pred_linear)\n",
        "mse_nn = mean_squared_error(y_test_normalized, y_pred_nn)\n",
        "mse_dummy = mean_squared_error(y_test_normalized, dummy_pred)\n",
        "\n",
        "print(f\"Linear Regression R-Squared score is: {r2_linear} and MSE on the test set is: {mse_linear}\")\n",
        "print(f\"Neural Network R-Squared score is: {r2_nn} and MSE on the test set is: {mse_nn}\")\n",
        "print(f\"Dummy Model R-Squared score is: {r2_dummy} and MSE on the test set is: {mse_dummy}\")"
      ]
    },
    {
      "cell_type": "markdown",
      "metadata": {},
      "source": [
        "# Comparison between models"
      ]
    },
    {
      "cell_type": "code",
      "execution_count": 196,
      "metadata": {},
      "outputs": [
        {
          "data": {
            "text/plain": [
              "<matplotlib.legend.Legend at 0x20672791190>"
            ]
          },
          "execution_count": 196,
          "metadata": {},
          "output_type": "execute_result"
        },
        {
          "data": {
            "image/png": "[encoded data removed]",
            "text/plain": [
              "<Figure size 1000x300 with 3 Axes>"
            ]
          },
          "metadata": {},
          "output_type": "display_data"
        }
      ],
      "source": [
        "fig, (ax1, ax2, ax3) = plt.subplots(1, 3, figsize=(10, 3))\n",
        "fig.suptitle('Comparsion between models with plots')\n",
        "\n",
        "ax1.scatter(y_test_normalized, dummy_pred, color='green', label='Dummy')\n",
        "ax1.scatter(y_test_normalized, y_test_normalized, color='cyan', label='Actual')\n",
        "ax1.legend()\n",
        "\n",
        "ax2.scatter(y_test_normalized, y_pred_nn, color='green', label='ANN')\n",
        "ax2.scatter(y_test_normalized, y_test_normalized, color='cyan', label='Actual')\n",
        "ax2.legend()\n",
        "\n",
        "ax3.scatter(y_test_normalized, y_pred_linear, color='green', label='Linear')\n",
        "ax3.scatter(y_test_normalized, y_test_normalized, color='cyan', label='Actual')\n",
        "ax3.legend()\n"
      ]
    }
  ],
  "metadata": {
    "accelerator": "GPU",
    "colab": {
      "gpuType": "T4",
      "include_colab_link": true,
      "provenance": []
    },
    "kernelspec": {
      "display_name": "Python 3",
      "name": "python3"
    },
    "language_info": {
      "codemirror_mode": {
        "name": "ipython",
        "version": 3
      },
      "file_extension": ".py",
      "mimetype": "text/x-python",
      "name": "python",
      "nbconvert_exporter": "python",
      "pygments_lexer": "ipython3",
      "version": "3.9.18"
    }
  },
  "nbformat": 4,
  "nbformat_minor": 0
}
