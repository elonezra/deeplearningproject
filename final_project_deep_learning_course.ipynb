{
  "cells": [
    {
      "cell_type": "markdown",
      "metadata": {
        "colab_type": "text",
        "id": "view-in-github"
      },
      "source": [
        "<a href=\"https://colab.research.google.com/github/elonezra/deeplearningproject/blob/main/final_project_deep_learning_course.ipynb\" target=\"_parent\"><img src=\"https://colab.research.google.com/assets/colab-badge.svg\" alt=\"Open In Colab\"/></a>"
      ]
    },
    {
      "cell_type": "markdown",
      "metadata": {
        "id": "5eJcX1S6FRTW"
      },
      "source": [
        "Authors: Avi and Elon 🤗"
      ]
    },
    {
      "cell_type": "markdown",
      "metadata": {},
      "source": [
        "## Pre-Processing the data"
      ]
    },
    {
      "cell_type": "code",
      "execution_count": 75,
      "metadata": {
        "id": "QtYM8vgrUWIU"
      },
      "outputs": [],
      "source": [
        "# Importng necassary libraries\n",
        "import pandas as pd\n",
        "import numpy as np\n",
        "import tensorflow.compat.v1 as tf\n",
        "tf.compat.v1.disable_eager_execution()\n",
        "import seaborn as sns\n",
        "import matplotlib.pyplot as plt\n",
        "%matplotlib inline\n",
        "import warnings\n",
        "from sklearn.model_selection import train_test_split\n",
        "from sklearn.metrics import mean_squared_error\n",
        "from sklearn.metrics import r2_score\n",
        "from statsmodels.stats.outliers_influence import variance_inflation_factor\n",
        "from sklearn.dummy import DummyRegressor"
      ]
    },
    {
      "cell_type": "code",
      "execution_count": 76,
      "metadata": {
        "colab": {
          "base_uri": "https://localhost:8080/",
          "height": 206
        },
        "id": "Z_PlX0mMub6X",
        "outputId": "d9cd8dba-c010-45fe-8818-fc704099aec2"
      },
      "outputs": [
        {
          "data": {
            "text/html": [
              "<div>\n",
              "<style scoped>\n",
              "    .dataframe tbody tr th:only-of-type {\n",
              "        vertical-align: middle;\n",
              "    }\n",
              "\n",
              "    .dataframe tbody tr th {\n",
              "        vertical-align: top;\n",
              "    }\n",
              "\n",
              "    .dataframe thead th {\n",
              "        text-align: right;\n",
              "    }\n",
              "</style>\n",
              "<table border=\"1\" class=\"dataframe\">\n",
              "  <thead>\n",
              "    <tr style=\"text-align: right;\">\n",
              "      <th></th>\n",
              "      <th>Date</th>\n",
              "      <th>Open</th>\n",
              "      <th>High</th>\n",
              "      <th>Low</th>\n",
              "      <th>Close</th>\n",
              "      <th>Adj Close</th>\n",
              "      <th>Volume</th>\n",
              "    </tr>\n",
              "  </thead>\n",
              "  <tbody>\n",
              "    <tr>\n",
              "      <th>0</th>\n",
              "      <td>2014-09-17</td>\n",
              "      <td>465.864014</td>\n",
              "      <td>468.174011</td>\n",
              "      <td>452.421997</td>\n",
              "      <td>457.334015</td>\n",
              "      <td>457.334015</td>\n",
              "      <td>21056800</td>\n",
              "    </tr>\n",
              "    <tr>\n",
              "      <th>1</th>\n",
              "      <td>2014-09-18</td>\n",
              "      <td>456.859985</td>\n",
              "      <td>456.859985</td>\n",
              "      <td>413.104004</td>\n",
              "      <td>424.440002</td>\n",
              "      <td>424.440002</td>\n",
              "      <td>34483200</td>\n",
              "    </tr>\n",
              "    <tr>\n",
              "      <th>2</th>\n",
              "      <td>2014-09-19</td>\n",
              "      <td>424.102997</td>\n",
              "      <td>427.834991</td>\n",
              "      <td>384.532013</td>\n",
              "      <td>394.795990</td>\n",
              "      <td>394.795990</td>\n",
              "      <td>37919700</td>\n",
              "    </tr>\n",
              "    <tr>\n",
              "      <th>3</th>\n",
              "      <td>2014-09-20</td>\n",
              "      <td>394.673004</td>\n",
              "      <td>423.295990</td>\n",
              "      <td>389.882996</td>\n",
              "      <td>408.903992</td>\n",
              "      <td>408.903992</td>\n",
              "      <td>36863600</td>\n",
              "    </tr>\n",
              "    <tr>\n",
              "      <th>4</th>\n",
              "      <td>2014-09-21</td>\n",
              "      <td>408.084991</td>\n",
              "      <td>412.425995</td>\n",
              "      <td>393.181000</td>\n",
              "      <td>398.821014</td>\n",
              "      <td>398.821014</td>\n",
              "      <td>26580100</td>\n",
              "    </tr>\n",
              "  </tbody>\n",
              "</table>\n",
              "</div>"
            ],
            "text/plain": [
              "         Date        Open        High         Low       Close   Adj Close  \\\n",
              "0  2014-09-17  465.864014  468.174011  452.421997  457.334015  457.334015   \n",
              "1  2014-09-18  456.859985  456.859985  413.104004  424.440002  424.440002   \n",
              "2  2014-09-19  424.102997  427.834991  384.532013  394.795990  394.795990   \n",
              "3  2014-09-20  394.673004  423.295990  389.882996  408.903992  408.903992   \n",
              "4  2014-09-21  408.084991  412.425995  393.181000  398.821014  398.821014   \n",
              "\n",
              "     Volume  \n",
              "0  21056800  \n",
              "1  34483200  \n",
              "2  37919700  \n",
              "3  36863600  \n",
              "4  26580100  "
            ]
          },
          "execution_count": 76,
          "metadata": {},
          "output_type": "execute_result"
        }
      ],
      "source": [
        "df = pd.read_csv('BTC-USD.csv')\n",
        "df.head()"
      ]
    },
    {
      "cell_type": "code",
      "execution_count": 77,
      "metadata": {
        "colab": {
          "base_uri": "https://localhost:8080/",
          "height": 241
        },
        "id": "taAq-m-ywZcY",
        "outputId": "5996f67d-2779-464e-8bb2-3c33c8def880"
      },
      "outputs": [
        {
          "name": "stdout",
          "output_type": "stream",
          "text": [
            "2713 2713\n",
            "2713\n"
          ]
        },
        {
          "data": {
            "text/html": [
              "<div>\n",
              "<style scoped>\n",
              "    .dataframe tbody tr th:only-of-type {\n",
              "        vertical-align: middle;\n",
              "    }\n",
              "\n",
              "    .dataframe tbody tr th {\n",
              "        vertical-align: top;\n",
              "    }\n",
              "\n",
              "    .dataframe thead th {\n",
              "        text-align: right;\n",
              "    }\n",
              "</style>\n",
              "<table border=\"1\" class=\"dataframe\">\n",
              "  <thead>\n",
              "    <tr style=\"text-align: right;\">\n",
              "      <th></th>\n",
              "      <th>Date</th>\n",
              "      <th>Open</th>\n",
              "      <th>High</th>\n",
              "      <th>Low</th>\n",
              "      <th>Close</th>\n",
              "      <th>Volume</th>\n",
              "    </tr>\n",
              "  </thead>\n",
              "  <tbody>\n",
              "    <tr>\n",
              "      <th>0</th>\n",
              "      <td>2014-09-17</td>\n",
              "      <td>465.864014</td>\n",
              "      <td>468.174011</td>\n",
              "      <td>452.421997</td>\n",
              "      <td>457.334015</td>\n",
              "      <td>21056800</td>\n",
              "    </tr>\n",
              "    <tr>\n",
              "      <th>1</th>\n",
              "      <td>2014-09-18</td>\n",
              "      <td>456.859985</td>\n",
              "      <td>456.859985</td>\n",
              "      <td>413.104004</td>\n",
              "      <td>424.440002</td>\n",
              "      <td>34483200</td>\n",
              "    </tr>\n",
              "    <tr>\n",
              "      <th>2</th>\n",
              "      <td>2014-09-19</td>\n",
              "      <td>424.102997</td>\n",
              "      <td>427.834991</td>\n",
              "      <td>384.532013</td>\n",
              "      <td>394.795990</td>\n",
              "      <td>37919700</td>\n",
              "    </tr>\n",
              "    <tr>\n",
              "      <th>3</th>\n",
              "      <td>2014-09-20</td>\n",
              "      <td>394.673004</td>\n",
              "      <td>423.295990</td>\n",
              "      <td>389.882996</td>\n",
              "      <td>408.903992</td>\n",
              "      <td>36863600</td>\n",
              "    </tr>\n",
              "    <tr>\n",
              "      <th>4</th>\n",
              "      <td>2014-09-21</td>\n",
              "      <td>408.084991</td>\n",
              "      <td>412.425995</td>\n",
              "      <td>393.181000</td>\n",
              "      <td>398.821014</td>\n",
              "      <td>26580100</td>\n",
              "    </tr>\n",
              "  </tbody>\n",
              "</table>\n",
              "</div>"
            ],
            "text/plain": [
              "         Date        Open        High         Low       Close    Volume\n",
              "0  2014-09-17  465.864014  468.174011  452.421997  457.334015  21056800\n",
              "1  2014-09-18  456.859985  456.859985  413.104004  424.440002  34483200\n",
              "2  2014-09-19  424.102997  427.834991  384.532013  394.795990  37919700\n",
              "3  2014-09-20  394.673004  423.295990  389.882996  408.903992  36863600\n",
              "4  2014-09-21  408.084991  412.425995  393.181000  398.821014  26580100"
            ]
          },
          "execution_count": 77,
          "metadata": {},
          "output_type": "execute_result"
        }
      ],
      "source": [
        "# We don't need the \"Adj Close\" column because this column is the same as the \"Close\" column,\n",
        "# we are going to check it before earasing to make sure our assumption is true.\n",
        "print(df['Adj Close'].count(), df['Close'].count()) # In this line we can see that the number of lines in both of the columns is equal\n",
        "print(len(df[\"Close\"] == df[\"Adj Close\"])) # and in this line we compared between those columns and get as result that all lines are equal\n",
        "# thus, we can remove \"Asj Close\" column\n",
        "df = df.drop(['Adj Close'], axis = 1)\n",
        "df.head()"
      ]
    },
    {
      "cell_type": "code",
      "execution_count": 78,
      "metadata": {},
      "outputs": [],
      "source": [
        "# now we want to change the 'Close' column to be 'Open_Close_Mean' column because,\n",
        "# it's more common to predict the mean between the Open price and the Close price\n",
        "df['Close'].rename('Open_Close_Mean')\n",
        "df['Open_Close_Mean'] = (df['Open'] + df['Close']) / 2\n",
        "df = df.drop(['Close'], axis=1)"
      ]
    },
    {
      "cell_type": "code",
      "execution_count": 79,
      "metadata": {
        "colab": {
          "base_uri": "https://localhost:8080/"
        },
        "id": "X_nzRG4_w9ow",
        "outputId": "380384ab-b2d1-4277-e47e-938036c2120e"
      },
      "outputs": [
        {
          "name": "stdout",
          "output_type": "stream",
          "text": [
            "<class 'pandas.core.frame.DataFrame'>\n",
            "RangeIndex: 2713 entries, 0 to 2712\n",
            "Data columns (total 6 columns):\n",
            " #   Column           Non-Null Count  Dtype  \n",
            "---  ------           --------------  -----  \n",
            " 0   Date             2713 non-null   object \n",
            " 1   Open             2713 non-null   float64\n",
            " 2   High             2713 non-null   float64\n",
            " 3   Low              2713 non-null   float64\n",
            " 4   Volume           2713 non-null   int64  \n",
            " 5   Open_Close_Mean  2713 non-null   float64\n",
            "dtypes: float64(4), int64(1), object(1)\n",
            "memory usage: 127.3+ KB\n"
          ]
        }
      ],
      "source": [
        "# In the code below we will see that our dataframe uses an object column which is not good\n",
        "# because we need a numeric dataframe so, we convert this column to int64 type\n",
        "# by removing the '-' char\n",
        "df.info()"
      ]
    },
    {
      "cell_type": "code",
      "execution_count": 80,
      "metadata": {
        "colab": {
          "base_uri": "https://localhost:8080/"
        },
        "id": "3VTJfZLvEk4M",
        "outputId": "0de7ab1b-d8df-4dc4-9710-9231896f9e03"
      },
      "outputs": [
        {
          "name": "stderr",
          "output_type": "stream",
          "text": [
            "C:\\Users\\rahim\\AppData\\Local\\Temp\\ipykernel_9520\\84532947.py:1: FutureWarning: Series.__getitem__ treating keys as positions is deprecated. In a future version, integer keys will always be treated as labels (consistent with DataFrame behavior). To access a value by position, use `ser.iloc[pos]`\n",
            "  int(df.iloc[1][0].replace('-', ''))\n"
          ]
        },
        {
          "data": {
            "text/plain": [
              "20140918"
            ]
          },
          "execution_count": 80,
          "metadata": {},
          "output_type": "execute_result"
        }
      ],
      "source": [
        "int(df.iloc[1][0].replace('-', ''))"
      ]
    },
    {
      "cell_type": "code",
      "execution_count": 81,
      "metadata": {
        "id": "wujuLZPoHIhx"
      },
      "outputs": [],
      "source": [
        "df[\"Date\"] = df[\"Date\"].apply(lambda x: x.replace('-','')).apply(pd.to_numeric)"
      ]
    },
    {
      "cell_type": "code",
      "execution_count": 82,
      "metadata": {
        "colab": {
          "base_uri": "https://localhost:8080/",
          "height": 431
        },
        "id": "h1BUpUrpH_Oc",
        "outputId": "b33e332f-07fc-469c-cbb4-0e8bbb648437"
      },
      "outputs": [
        {
          "name": "stdout",
          "output_type": "stream",
          "text": [
            "<class 'pandas.core.frame.DataFrame'>\n",
            "RangeIndex: 2713 entries, 0 to 2712\n",
            "Data columns (total 6 columns):\n",
            " #   Column           Non-Null Count  Dtype  \n",
            "---  ------           --------------  -----  \n",
            " 0   Date             2713 non-null   int64  \n",
            " 1   Open             2713 non-null   float64\n",
            " 2   High             2713 non-null   float64\n",
            " 3   Low              2713 non-null   float64\n",
            " 4   Volume           2713 non-null   int64  \n",
            " 5   Open_Close_Mean  2713 non-null   float64\n",
            "dtypes: float64(4), int64(2)\n",
            "memory usage: 127.3 KB\n"
          ]
        },
        {
          "data": {
            "text/html": [
              "<div>\n",
              "<style scoped>\n",
              "    .dataframe tbody tr th:only-of-type {\n",
              "        vertical-align: middle;\n",
              "    }\n",
              "\n",
              "    .dataframe tbody tr th {\n",
              "        vertical-align: top;\n",
              "    }\n",
              "\n",
              "    .dataframe thead th {\n",
              "        text-align: right;\n",
              "    }\n",
              "</style>\n",
              "<table border=\"1\" class=\"dataframe\">\n",
              "  <thead>\n",
              "    <tr style=\"text-align: right;\">\n",
              "      <th></th>\n",
              "      <th>Date</th>\n",
              "      <th>Open</th>\n",
              "      <th>High</th>\n",
              "      <th>Low</th>\n",
              "      <th>Volume</th>\n",
              "      <th>Open_Close_Mean</th>\n",
              "    </tr>\n",
              "  </thead>\n",
              "  <tbody>\n",
              "    <tr>\n",
              "      <th>0</th>\n",
              "      <td>20140917</td>\n",
              "      <td>465.864014</td>\n",
              "      <td>468.174011</td>\n",
              "      <td>452.421997</td>\n",
              "      <td>21056800</td>\n",
              "      <td>461.599015</td>\n",
              "    </tr>\n",
              "    <tr>\n",
              "      <th>1</th>\n",
              "      <td>20140918</td>\n",
              "      <td>456.859985</td>\n",
              "      <td>456.859985</td>\n",
              "      <td>413.104004</td>\n",
              "      <td>34483200</td>\n",
              "      <td>440.649993</td>\n",
              "    </tr>\n",
              "    <tr>\n",
              "      <th>2</th>\n",
              "      <td>20140919</td>\n",
              "      <td>424.102997</td>\n",
              "      <td>427.834991</td>\n",
              "      <td>384.532013</td>\n",
              "      <td>37919700</td>\n",
              "      <td>409.449494</td>\n",
              "    </tr>\n",
              "    <tr>\n",
              "      <th>3</th>\n",
              "      <td>20140920</td>\n",
              "      <td>394.673004</td>\n",
              "      <td>423.295990</td>\n",
              "      <td>389.882996</td>\n",
              "      <td>36863600</td>\n",
              "      <td>401.788498</td>\n",
              "    </tr>\n",
              "    <tr>\n",
              "      <th>4</th>\n",
              "      <td>20140921</td>\n",
              "      <td>408.084991</td>\n",
              "      <td>412.425995</td>\n",
              "      <td>393.181000</td>\n",
              "      <td>26580100</td>\n",
              "      <td>403.453003</td>\n",
              "    </tr>\n",
              "  </tbody>\n",
              "</table>\n",
              "</div>"
            ],
            "text/plain": [
              "       Date        Open        High         Low    Volume  Open_Close_Mean\n",
              "0  20140917  465.864014  468.174011  452.421997  21056800       461.599015\n",
              "1  20140918  456.859985  456.859985  413.104004  34483200       440.649993\n",
              "2  20140919  424.102997  427.834991  384.532013  37919700       409.449494\n",
              "3  20140920  394.673004  423.295990  389.882996  36863600       401.788498\n",
              "4  20140921  408.084991  412.425995  393.181000  26580100       403.453003"
            ]
          },
          "execution_count": 82,
          "metadata": {},
          "output_type": "execute_result"
        }
      ],
      "source": [
        "# Now, after we convert the \"Date\" column to numeric type, we can see the new data as request\n",
        "df.info()\n",
        "df.head()"
      ]
    },
    {
      "cell_type": "code",
      "execution_count": 84,
      "metadata": {},
      "outputs": [
        {
          "data": {
            "image/png": "[encoded data removed]",
            "text/plain": [
              "<Figure size 1200x600 with 1 Axes>"
            ]
          },
          "metadata": {},
          "output_type": "display_data"
        }
      ],
      "source": [
        "# Set 'Date' as the index\n",
        "df.set_index('Date', inplace=True)\n",
        "\n",
        "# Plot the data\n",
        "df[['Open', 'High', 'Low', 'Open_Close_Mean']].plot(kind='line', figsize=(12,6))\n",
        "plt.title('Stock price over time')\n",
        "plt.ylabel('Price')\n",
        "plt.show()\n"
      ]
    },
    {
      "cell_type": "code",
      "execution_count": 83,
      "metadata": {},
      "outputs": [
        {
          "data": {
            "image/png": "[encoded data removed]",
            "text/plain": [
              "<Figure size 640x480 with 2 Axes>"
            ]
          },
          "metadata": {},
          "output_type": "display_data"
        }
      ],
      "source": [
        "# Calculate the correlation matrix\n",
        "corr = df[['Date', 'Open', 'High', 'Low', 'Volume', 'Open_Close_Mean']].corr()\n",
        "\n",
        "# Plot the heatmap\n",
        "sns.heatmap(corr, annot=True, cmap='coolwarm')\n",
        "plt.title('Correlation Heatmap')\n",
        "plt.show()\n"
      ]
    },
    {
      "cell_type": "markdown",
      "metadata": {},
      "source": [
        "High correlation coefficients (close to +1 or -1) between two or more variables indicate high multicollinearity which means that our data has high multicollinearity which is not good because it means that two or more explanatory variables in a multiple regression model are highly linearly related.\n",
        "\n",
        "We check the multicollinearity with another technique called Variance Inflation Factor (VIF) which is indicate how much the variance is inflated due to multicollinearity."
      ]
    },
    {
      "cell_type": "code",
      "execution_count": 85,
      "metadata": {},
      "outputs": [
        {
          "name": "stdout",
          "output_type": "stream",
          "text": [
            "  features          VIF\n",
            "0     Open  1899.216794\n",
            "1     High  1933.193722\n",
            "2      Low  1017.898356\n",
            "3   Volume     3.492894\n"
          ]
        }
      ],
      "source": [
        "X = df.drop(['Open_Close_Mean'], axis=1)\n",
        "\n",
        "# Assuming X is your feature matrix\n",
        "vif = pd.DataFrame()\n",
        "vif[\"features\"] = X.columns\n",
        "vif[\"VIF\"] = [variance_inflation_factor(X.values, i) for i in range(X.shape[1])]\n",
        "print(vif)\n"
      ]
    },
    {
      "cell_type": "markdown",
      "metadata": {},
      "source": [
        "open: The VIF of 1899.216794 suggests a high degree of multicollinearity with the other variables.\n",
        "high: Similarly, a VIF of 1933.193722 also indicates high multicollinearity.\n",
        "low: A VIF of 1017.898356 is also high, suggesting this variable is highly correlated with others.\n",
        "volume: A VIF of 3.492894 is relatively low compared to the others, suggesting less multicollinearity.\n",
        "\n",
        "Generally, a VIF above 5 or 10 indicates high multicollinearity that might be problematic for our model. With this case, the “open”, “high”, and “low” features have high VIF values, suggesting they are highly correlated with each other.\n",
        "\n",
        "We should use techinques to handle the high multicollinearity, one way we learned in the class is the \"Regularization\" technique, we will use it to make our data less multicollinearity."
      ]
    },
    {
      "cell_type": "markdown",
      "metadata": {},
      "source": [
        "# Regularization"
      ]
    },
    {
      "cell_type": "markdown",
      "metadata": {},
      "source": [
        "# TODO"
      ]
    },
    {
      "cell_type": "markdown",
      "metadata": {
        "id": "H5AP4t-qA-aZ"
      },
      "source": [
        "$\\sigma = \\sqrt(\\mu_2) = \\sqrt(1/n \\sum(x_i - x')^2)$\n",
        "\n",
        "$𝜇^{𝑙,𝑗}= \\frac{1}{m} ∑_{𝑖=0}^{𝑚}{𝑧_𝑖^{𝑙,𝑗}}$ \n",
        "\n",
        "$𝜎^{𝑙,𝑗}=\\sqrt{∑_{𝑖=0}^𝑚(𝑧_𝑖^{𝑙,𝑗}−𝜇^(𝑙,𝑗) )^2 }$\n",
        "\n",
        "$\\overline{𝑧_𝑖^{𝑙,𝑗}} ̂= \\frac{𝑧_𝑖^{𝑙,𝑗}−𝜇^{𝑙,𝑗}}{𝜎^{𝑙,𝑗}+𝜖} $\n"
      ]
    },
    {
      "cell_type": "code",
      "execution_count": 86,
      "metadata": {
        "colab": {
          "base_uri": "https://localhost:8080/"
        },
        "id": "whb9B9lmq0Fi",
        "outputId": "d4a40c9e-1888-48d0-d78c-b15e075e6718"
      },
      "outputs": [
        {
          "name": "stdout",
          "output_type": "stream",
          "text": [
            "Training set size: 2170\n",
            "Testing set size: 543\n"
          ]
        }
      ],
      "source": [
        "X = df.drop(['Open_Close_Mean'], axis=1)\n",
        "y = df['Open_Close_Mean']\n",
        "\n",
        "X_train, X_test, y_train, y_test = train_test_split(X, y, test_size=0.2, random_state=42)\n",
        "\n",
        "print(\"Training set size:\", len(X_train))\n",
        "print(\"Testing set size:\", len(X_test))\n"
      ]
    },
    {
      "cell_type": "markdown",
      "metadata": {},
      "source": [
        "# Normalization"
      ]
    },
    {
      "cell_type": "code",
      "execution_count": 87,
      "metadata": {},
      "outputs": [],
      "source": [
        "def normalize_data(X_train, y_train, X_test, y_test):\n",
        "    \"\"\"\n",
        "    This function normalizes the training and test data using the mean and variance of the training data.\n",
        "    \n",
        "    Parameters:\n",
        "    X_train (DataFrame): The training data\n",
        "    y_train (Series): The target values for the training data\n",
        "    X_test (DataFrame): The test data\n",
        "    y_test (Series): The target values for the test data\n",
        "    \n",
        "    Returns:\n",
        "    DataFrame, Series, DataFrame, Series: The normalized training data, training target values, test data, and test target values\n",
        "    \"\"\"\n",
        "    # Convert the dataframes to numpy arrays\n",
        "    train_np = X_train.values\n",
        "    test_np = X_test.values\n",
        "\n",
        "    # Convert the series to numpy arrays\n",
        "    y_train_np = y_train.values.reshape(-1, 1)\n",
        "    y_test_np = y_test.values.reshape(-1, 1)\n",
        "\n",
        "    # Create TensorFlow placeholders\n",
        "    train_placeholder = tf.placeholder(tf.float32, shape=train_np.shape)\n",
        "    test_placeholder = tf.placeholder(tf.float32, shape=test_np.shape)\n",
        "    y_train_placeholder = tf.placeholder(tf.float32, shape=y_train_np.shape)\n",
        "    y_test_placeholder = tf.placeholder(tf.float32, shape=y_test_np.shape)\n",
        "\n",
        "    # Define the normalization function\n",
        "    def normalize(x, mean, variance):\n",
        "        return (x - mean) / tf.sqrt(variance)\n",
        "\n",
        "    # Normalize the data\n",
        "    with tf.Session() as sess:\n",
        "        sess.run(tf.global_variables_initializer())\n",
        "        \n",
        "        # Compute mean and variance from training data\n",
        "        train_mean, train_variance = sess.run(tf.nn.moments(train_placeholder, axes=[0]), feed_dict={train_placeholder: train_np})\n",
        "        \n",
        "        # Normalize training data\n",
        "        train_normalized = sess.run(normalize(train_placeholder, train_mean, train_variance), feed_dict={train_placeholder: train_np})\n",
        "        \n",
        "        # Normalize test data using mean and variance from training data\n",
        "        test_normalized = sess.run(normalize(test_placeholder, train_mean, train_variance), feed_dict={test_placeholder: test_np})\n",
        "        \n",
        "        # Normalize y_train and y_test similarly\n",
        "        y_train_mean, y_train_variance = sess.run(tf.nn.moments(y_train_placeholder, axes=[0]), feed_dict={y_train_placeholder: y_train_np})\n",
        "        y_train_normalized = sess.run(normalize(y_train_placeholder, y_train_mean, y_train_variance), feed_dict={y_train_placeholder: y_train_np})\n",
        "        y_test_normalized = sess.run(normalize(y_test_placeholder, y_train_mean, y_train_variance), feed_dict={y_test_placeholder: y_test_np})\n",
        "\n",
        "    # Convert the normalized numpy arrays back to pandas dataframes\n",
        "    X_train_normalized = pd.DataFrame(train_normalized, columns=X_train.columns)\n",
        "    X_test_normalized = pd.DataFrame(test_normalized, columns=X_test.columns)\n",
        "\n",
        "    # Convert the normalized numpy arrays back to pandas series\n",
        "    y_train_normalized = pd.Series(y_train_normalized.flatten(), index=y_train.index)\n",
        "    y_test_normalized = pd.Series(y_test_normalized.flatten(), index=y_test.index)\n",
        "\n",
        "    return X_train_normalized, y_train_normalized, X_test_normalized, y_test_normalized\n"
      ]
    },
    {
      "cell_type": "code",
      "execution_count": 88,
      "metadata": {},
      "outputs": [
        {
          "name": "stdout",
          "output_type": "stream",
          "text": [
            "Training set size: 2170\n",
            "Testing set size: 543\n"
          ]
        }
      ],
      "source": [
        "X_train_normalized, y_train_normalized, X_test_normalized, y_test_normalized = normalize_data(X_train, y_train, X_test, y_test)\n",
        "print(\"Training set size:\", len(X_train_normalized))\n",
        "print(\"Testing set size:\", len(X_test_normalized))\n"
      ]
    },
    {
      "cell_type": "markdown",
      "metadata": {},
      "source": [
        "# Model training\n",
        "Models that represented in the code: Linear regression, ANN - neural network model, dummy regressor model - to compare our model to that dummy model"
      ]
    },
    {
      "cell_type": "code",
      "execution_count": 89,
      "metadata": {
        "colab": {
          "base_uri": "https://localhost:8080/"
        },
        "id": "T1R6ijbSvHTe",
        "outputId": "a12c39cd-32db-4563-f372-7bb128fc39b9"
      },
      "outputs": [],
      "source": [
        "# to extract the numebr of features in out dataset we need to index to the\n",
        "# second element in the shape of the dataframe which is the number of columns\n",
        "# in our dataframe and -1 for the features without the label\n",
        "def train_linear_regression(X_train, y_train, learning_rate=0.001, epochs=100000):\n",
        "    \"\"\"\n",
        "    This function trains a linear regression model using TensorFlow.\n",
        "    \n",
        "    Parameters:\n",
        "    X_train (DataFrame): The training data\n",
        "    y_train (Series): The target values for the training data\n",
        "    learning_rate (float): The learning rate for the optimizer\n",
        "    epochs (int): The number of epochs to train the model\n",
        "    \n",
        "    Returns:\n",
        "    sess (tf.Session): The TensorFlow session\n",
        "    pred (Tensor): The prediction tensor\n",
        "    x (tf.placeholder): The placeholder for the input data\n",
        "    \"\"\"\n",
        "    features = X_train.shape[1]\n",
        "    x = tf.placeholder(tf.float32, [None, features])\n",
        "    y = tf.placeholder(tf.float32, [None, 1])\n",
        "    W = tf.Variable(tf.zeros([features,1]))\n",
        "    b = tf.Variable(tf.zeros([1]))\n",
        "    pred = tf.matmul(x,W) + b\n",
        "    loss = tf.reduce_mean(tf.square(pred - y))\n",
        "    update = tf.train.GradientDescentOptimizer(learning_rate).minimize(loss)\n",
        "    data_x = X_train.values\n",
        "    data_y = y_train.values.reshape(-1, 1)\n",
        "    sess = tf.Session()\n",
        "    sess.run(tf.global_variables_initializer())\n",
        "    for i in range(0, epochs):\n",
        "        sess.run(update, feed_dict = {x: data_x, y: data_y})\n",
        "        if i % 10000 == 0:\n",
        "            print('Iteration:' , i , ' W:' , sess.run(W) , ' b:' , sess.run(b), ' loss:', loss.eval(session=sess, feed_dict = {x: data_x, y: data_y}))\n",
        "    return sess, pred, x"
      ]
    },
    {
      "cell_type": "code",
      "execution_count": 90,
      "metadata": {
        "colab": {
          "base_uri": "https://localhost:8080/"
        },
        "id": "v7XVE4ZzGuvP",
        "outputId": "76ad1a30-90e3-4c48-ed99-43680562221b"
      },
      "outputs": [],
      "source": [
        "def train_neural_network(X_train, y_train, learning_rate=0.00001, epochs=100000):\n",
        "    \"\"\"\n",
        "    This function trains a neural network with one hidden layer using TensorFlow.\n",
        "    \n",
        "    Parameters:\n",
        "    X_train (DataFrame): The training data\n",
        "    y_train (Series): The target values for the training data\n",
        "    learning_rate (float): The learning rate for the optimizer\n",
        "    epochs (int): The number of epochs to train the model\n",
        "    \n",
        "    Returns:\n",
        "    sess (tf.Session): The TensorFlow session\n",
        "    pred (Tensor): The prediction tensor\n",
        "    x (tf.placeholder): The placeholder for the input data\n",
        "    \"\"\"\n",
        "    features = X_train.shape[1]\n",
        "    x = tf.placeholder(tf.float32, [None, features])\n",
        "    y = tf.placeholder(tf.float32, [None, 1])\n",
        "    W1 = tf.Variable(tf.random_normal([features, 10]))\n",
        "    b1 = tf.Variable(tf.zeros([10]))\n",
        "    W2 = tf.Variable(tf.random_normal([10, 1]))\n",
        "    b2 = tf.Variable(tf.zeros([1]))\n",
        "    hidden_layer = tf.nn.relu(tf.matmul(x, W1) + b1)\n",
        "    pred = tf.matmul(hidden_layer, W2) + b2\n",
        "    loss = tf.reduce_mean(tf.square(pred - y))\n",
        "    optimizer = tf.train.GradientDescentOptimizer(learning_rate).minimize(loss)\n",
        "    data_x = X_train.values\n",
        "    data_y = y_train.values.reshape(-1, 1)\n",
        "    sess = tf.Session()\n",
        "    sess.run(tf.global_variables_initializer())\n",
        "    for epoch in range(0, epochs):\n",
        "        _, c = sess.run([optimizer, loss], feed_dict={x: data_x, y: data_y})\n",
        "        if epoch % 1000 == 0:\n",
        "            print(\"Epoch:\", '%04d' % (epoch), \"cost=\", \"{:.9f}\".format(c))\n",
        "    return sess, pred, x"
      ]
    },
    {
      "cell_type": "code",
      "execution_count": 91,
      "metadata": {},
      "outputs": [],
      "source": [
        "# Create a dummy regressor\n",
        "dummy = DummyRegressor(strategy='mean')\n",
        "\n",
        "# Train the dummy regressor\n",
        "dummy.fit(X_train, y_train)\n",
        "\n",
        "# Make predictions\n",
        "dummy_pred = dummy.predict(X_test)"
      ]
    },
    {
      "cell_type": "code",
      "execution_count": 92,
      "metadata": {},
      "outputs": [
        {
          "name": "stdout",
          "output_type": "stream",
          "text": [
            "Iteration: 0  W: [[0.0019994 ]\n",
            " [0.00199959]\n",
            " [0.00199898]\n",
            " [0.0015158 ]]  b: [-1.4458784e-10]  loss: 0.98576254\n",
            "Iteration: 10000  W: [[0.3313065 ]\n",
            " [0.33092222]\n",
            " [0.3360712 ]\n",
            " [0.00250844]]  b: [-7.748559e-07]  loss: 0.000115852985\n",
            "Iteration: 20000  W: [[0.33075562]\n",
            " [0.33235297]\n",
            " [0.33539003]\n",
            " [0.00227602]]  b: [-7.7485964e-07]  loss: 0.00011555631\n",
            "Iteration: 30000  W: [[0.33015957]\n",
            " [0.33356115]\n",
            " [0.33479398]\n",
            " [0.00225372]]  b: [-7.7207795e-07]  loss: 0.0001153149\n",
            "Iteration: 40000  W: [[0.32956353]\n",
            " [0.33476916]\n",
            " [0.33419794]\n",
            " [0.00223165]]  b: [-7.692168e-07]  loss: 0.000115075985\n",
            "Iteration: 50000  W: [[0.32896748]\n",
            " [0.33597717]\n",
            " [0.3336019 ]\n",
            " [0.00220958]]  b: [-7.674053e-07]  loss: 0.00011483964\n",
            "Iteration: 60000  W: [[0.32837144]\n",
            " [0.33718517]\n",
            " [0.33300585]\n",
            " [0.00218751]]  b: [-7.6741077e-07]  loss: 0.000114605704\n",
            "Iteration: 70000  W: [[0.3277754 ]\n",
            " [0.33839318]\n",
            " [0.3324098 ]\n",
            " [0.00216544]]  b: [-7.6728014e-07]  loss: 0.00011437436\n",
            "Iteration: 80000  W: [[0.32717934]\n",
            " [0.33960122]\n",
            " [0.33181375]\n",
            " [0.00214337]]  b: [-7.6368076e-07]  loss: 0.00011414533\n",
            "Iteration: 90000  W: [[0.3265833 ]\n",
            " [0.34080923]\n",
            " [0.3312177 ]\n",
            " [0.0021213 ]]  b: [-7.606255e-07]  loss: 0.00011391897\n",
            "Epoch: 0000 cost= 37.348262787\n",
            "Epoch: 1000 cost= 2.762521029\n",
            "Epoch: 2000 cost= 0.575529337\n",
            "Epoch: 3000 cost= 0.353345752\n",
            "Epoch: 4000 cost= 0.277941614\n",
            "Epoch: 5000 cost= 0.225513309\n",
            "Epoch: 6000 cost= 0.184852481\n",
            "Epoch: 7000 cost= 0.152949214\n",
            "Epoch: 8000 cost= 0.127852827\n",
            "Epoch: 9000 cost= 0.108084239\n",
            "Epoch: 10000 cost= 0.092489809\n",
            "Epoch: 11000 cost= 0.080132581\n",
            "Epoch: 12000 cost= 0.070300058\n",
            "Epoch: 13000 cost= 0.062486809\n",
            "Epoch: 14000 cost= 0.056245591\n",
            "Epoch: 15000 cost= 0.051239289\n",
            "Epoch: 16000 cost= 0.047197528\n",
            "Epoch: 17000 cost= 0.043908171\n",
            "Epoch: 18000 cost= 0.041226920\n",
            "Epoch: 19000 cost= 0.039027318\n",
            "Epoch: 20000 cost= 0.037200954\n",
            "Epoch: 21000 cost= 0.035671771\n",
            "Epoch: 22000 cost= 0.034392193\n",
            "Epoch: 23000 cost= 0.033298440\n",
            "Epoch: 24000 cost= 0.032352872\n",
            "Epoch: 25000 cost= 0.031528696\n",
            "Epoch: 26000 cost= 0.030806387\n",
            "Epoch: 27000 cost= 0.030164823\n",
            "Epoch: 28000 cost= 0.029589185\n",
            "Epoch: 29000 cost= 0.029081576\n",
            "Epoch: 30000 cost= 0.028609676\n",
            "Epoch: 31000 cost= 0.028175166\n",
            "Epoch: 32000 cost= 0.027771024\n",
            "Epoch: 33000 cost= 0.027393118\n",
            "Epoch: 34000 cost= 0.027039684\n",
            "Epoch: 35000 cost= 0.026705092\n",
            "Epoch: 36000 cost= 0.026383875\n",
            "Epoch: 37000 cost= 0.026082620\n",
            "Epoch: 38000 cost= 0.025793280\n",
            "Epoch: 39000 cost= 0.025512993\n",
            "Epoch: 40000 cost= 0.025241947\n",
            "Epoch: 41000 cost= 0.024984390\n",
            "Epoch: 42000 cost= 0.024737004\n",
            "Epoch: 43000 cost= 0.024496969\n",
            "Epoch: 44000 cost= 0.024266228\n",
            "Epoch: 45000 cost= 0.024042109\n",
            "Epoch: 46000 cost= 0.023821253\n",
            "Epoch: 47000 cost= 0.023607362\n",
            "Epoch: 48000 cost= 0.023399247\n",
            "Epoch: 49000 cost= 0.023199731\n",
            "Epoch: 50000 cost= 0.023004767\n",
            "Epoch: 51000 cost= 0.022814061\n",
            "Epoch: 52000 cost= 0.022627061\n",
            "Epoch: 53000 cost= 0.022443959\n",
            "Epoch: 54000 cost= 0.022265237\n",
            "Epoch: 55000 cost= 0.022090480\n",
            "Epoch: 56000 cost= 0.021919435\n",
            "Epoch: 57000 cost= 0.021751979\n",
            "Epoch: 58000 cost= 0.021587482\n",
            "Epoch: 59000 cost= 0.021426124\n",
            "Epoch: 60000 cost= 0.021268742\n",
            "Epoch: 61000 cost= 0.021114659\n",
            "Epoch: 62000 cost= 0.020963108\n",
            "Epoch: 63000 cost= 0.020814439\n",
            "Epoch: 64000 cost= 0.020669146\n",
            "Epoch: 65000 cost= 0.020525349\n",
            "Epoch: 66000 cost= 0.020385507\n",
            "Epoch: 67000 cost= 0.020248121\n",
            "Epoch: 68000 cost= 0.020112703\n",
            "Epoch: 69000 cost= 0.019979574\n",
            "Epoch: 70000 cost= 0.019848133\n",
            "Epoch: 71000 cost= 0.019718451\n",
            "Epoch: 72000 cost= 0.019590914\n",
            "Epoch: 73000 cost= 0.019464724\n",
            "Epoch: 74000 cost= 0.019340018\n",
            "Epoch: 75000 cost= 0.019217387\n",
            "Epoch: 76000 cost= 0.019098984\n",
            "Epoch: 77000 cost= 0.018982701\n",
            "Epoch: 78000 cost= 0.018868016\n",
            "Epoch: 79000 cost= 0.018755348\n",
            "Epoch: 80000 cost= 0.018643955\n",
            "Epoch: 81000 cost= 0.018534064\n",
            "Epoch: 82000 cost= 0.018425588\n",
            "Epoch: 83000 cost= 0.018318437\n",
            "Epoch: 84000 cost= 0.018212620\n",
            "Epoch: 85000 cost= 0.018107500\n",
            "Epoch: 86000 cost= 0.018003466\n",
            "Epoch: 87000 cost= 0.017900571\n",
            "Epoch: 88000 cost= 0.017798748\n",
            "Epoch: 89000 cost= 0.017697886\n",
            "Epoch: 90000 cost= 0.017598405\n",
            "Epoch: 91000 cost= 0.017500406\n",
            "Epoch: 92000 cost= 0.017403942\n",
            "Epoch: 93000 cost= 0.017309293\n",
            "Epoch: 94000 cost= 0.017215310\n",
            "Epoch: 95000 cost= 0.017122218\n",
            "Epoch: 96000 cost= 0.017029669\n",
            "Epoch: 97000 cost= 0.016937908\n",
            "Epoch: 98000 cost= 0.016846530\n",
            "Epoch: 99000 cost= 0.016756168\n",
            "Linear Regression R-Squared score is: 0.9998868824070856 and MSE on the test set is: 0.0001208435496664606\n",
            "Neural Network R-Squared score is: 0.9795919987354895 and MSE on the test set is: 0.021801872178912163\n",
            "Dummy Model R-Squared score is: -118270035.0779091 and MSE on the test set is: 126347901.87892269\n"
          ]
        }
      ],
      "source": [
        "# Train the models\n",
        "sess_linear, pred_linear, x_linear = train_linear_regression(X_train_normalized, y_train_normalized)\n",
        "sess_nn, pred_nn, x_nn = train_neural_network(X_train_normalized, y_train_normalized)\n",
        "\n",
        "# Make predictions\n",
        "y_pred_linear = sess_linear.run(pred_linear, feed_dict={x_linear: X_test_normalized.values})\n",
        "y_pred_nn = sess_nn.run(pred_nn, feed_dict={x_nn: X_test_normalized.values})\n",
        "\n",
        "# Calculate R-Squared score\n",
        "r2_linear = r2_score(y_test_normalized, y_pred_linear)\n",
        "r2_nn = r2_score(y_test_normalized, y_pred_nn)\n",
        "r2_dummy = r2_score(y_test_normalized, dummy_pred)\n",
        "\n",
        "mse_linear = mean_squared_error(y_test_normalized, y_pred_linear)\n",
        "mse_nn = mean_squared_error(y_test_normalized, y_pred_nn)\n",
        "mse_dummy = mean_squared_error(y_test_normalized, dummy_pred)\n",
        "\n",
        "print(f\"Linear Regression R-Squared score is: {r2_linear} and MSE on the test set is: {mse_linear}\")\n",
        "print(f\"Neural Network R-Squared score is: {r2_nn} and MSE on the test set is: {mse_nn}\")\n",
        "print(f\"Dummy Model R-Squared score is: {r2_dummy} and MSE on the test set is: {mse_dummy}\")"
      ]
    },
    {
      "cell_type": "markdown",
      "metadata": {},
      "source": [
        "# Comparison between models"
      ]
    },
    {
      "cell_type": "code",
      "execution_count": 93,
      "metadata": {},
      "outputs": [
        {
          "data": {
            "text/plain": [
              "<matplotlib.legend.Legend at 0x1cff45c0e80>"
            ]
          },
          "execution_count": 93,
          "metadata": {},
          "output_type": "execute_result"
        },
        {
          "data": {
            "image/png": "[encoded data removed]",
            "text/plain": [
              "<Figure size 1000x300 with 3 Axes>"
            ]
          },
          "metadata": {},
          "output_type": "display_data"
        }
      ],
      "source": [
        "fig, (ax1, ax2, ax3) = plt.subplots(1, 3, figsize=(10, 3))\n",
        "fig.suptitle('Comparsion between models with plots')\n",
        "\n",
        "ax1.scatter(y_test_normalized, dummy_pred, color='green', label='Dummy')\n",
        "ax1.scatter(y_test_normalized, y_test_normalized, color='cyan', label='Actual')\n",
        "ax1.legend()\n",
        "\n",
        "ax2.scatter(y_test_normalized, y_pred_nn, color='green', label='ANN')\n",
        "ax2.scatter(y_test_normalized, y_test_normalized, color='cyan', label='Actual')\n",
        "ax2.legend()\n",
        "\n",
        "ax3.scatter(y_test_normalized, y_pred_linear, color='green', label='Linear')\n",
        "ax3.scatter(y_test_normalized, y_test_normalized, color='cyan', label='Actual')\n",
        "ax3.legend()\n"
      ]
    },
    {
      "cell_type": "code",
      "execution_count": null,
      "metadata": {},
      "outputs": [],
      "source": []
    }
  ],
  "metadata": {
    "accelerator": "GPU",
    "colab": {
      "gpuType": "T4",
      "include_colab_link": true,
      "provenance": []
    },
    "kernelspec": {
      "display_name": "Python 3",
      "name": "python3"
    },
    "language_info": {
      "codemirror_mode": {
        "name": "ipython",
        "version": 3
      },
      "file_extension": ".py",
      "mimetype": "text/x-python",
      "name": "python",
      "nbconvert_exporter": "python",
      "pygments_lexer": "ipython3",
      "version": "3.9.13"
    }
  },
  "nbformat": 4,
  "nbformat_minor": 0
}
